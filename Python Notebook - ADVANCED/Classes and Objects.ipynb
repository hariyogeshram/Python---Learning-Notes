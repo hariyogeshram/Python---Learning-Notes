{
 "cells": [
  {
   "cell_type": "markdown",
   "id": "2639ddb4",
   "metadata": {},
   "source": [
    "#  OOPS -  Object Oriented Programming\n",
    "\n",
    "   - Class\n",
    "   - Objects\n",
    "   - Polymorphism\n",
    "   - Encapsulation\n",
    "   - Data Abstraction\n",
    "   - Inheritance"
   ]
  },
  {
   "cell_type": "code",
   "execution_count": null,
   "id": "e8edc26a",
   "metadata": {},
   "outputs": [],
   "source": [
    "#                               CLASS\n",
    "\n",
    "#    -  It is a 'blueprint'\n",
    "#    -  For creating 'Objects'\n",
    "#    -  Logical entity\n",
    "\n",
    "#    Syntax :   class class_name():"
   ]
  },
  {
   "cell_type": "code",
   "execution_count": 2,
   "id": "a386da1b",
   "metadata": {},
   "outputs": [
    {
     "name": "stdout",
     "output_type": "stream",
     "text": [
      "Welcome to OOPS Concept - 'Class'.\n"
     ]
    }
   ],
   "source": [
    "# class Examples :\n",
    "\n",
    "class details():\n",
    "    \n",
    "    print(\"Welcome to OOPS Concept - 'Class'.\")"
   ]
  },
  {
   "cell_type": "code",
   "execution_count": 3,
   "id": "7099f304",
   "metadata": {},
   "outputs": [
    {
     "name": "stdout",
     "output_type": "stream",
     "text": [
      "Enter A = 10\n",
      "Value of A =  10\n",
      "Enter B = 20\n",
      "Value of B =  20\n"
     ]
    }
   ],
   "source": [
    "# class Examples - with 'variables'\n",
    "\n",
    "class variables():\n",
    "    \n",
    "    a = int(input(\"Enter A = \"))\n",
    "    print(\"Value of A = \",a)\n",
    "    \n",
    "    b = int(input(\"Enter B = \"))\n",
    "    print(\"Value of B = \",b)"
   ]
  },
  {
   "cell_type": "code",
   "execution_count": null,
   "id": "a32f5b21",
   "metadata": {},
   "outputs": [],
   "source": [
    "#                          OBJECT\n",
    "\n",
    "#   -  Physical Entity which has state(attribute/variables) and behaviour(methods)\n",
    "#   -  Instance of a 'Class'\n",
    "#   -  Encapsulation of data variables and methods\n",
    "#   -  Acting on that 'data' into a 'single' Entity.\n",
    "\n",
    "#   syntax :    object_name = class_name()"
   ]
  },
  {
   "cell_type": "code",
   "execution_count": 6,
   "id": "4f045541",
   "metadata": {},
   "outputs": [
    {
     "name": "stdout",
     "output_type": "stream",
     "text": [
      "Enter A = 7\n",
      "Enter B = 10\n",
      "Value of A =  7\n",
      "Value of B =  10\n"
     ]
    }
   ],
   "source": [
    "# creating objects\n",
    "\n",
    "class objects():\n",
    "    \n",
    "    a = int(input(\"Enter A = \"))\n",
    "    \n",
    "    b = int(input(\"Enter B = \"))\n",
    "    \n",
    "# object creation\n",
    "\n",
    "obj1 = objects()\n",
    "obj2 = objects()\n",
    "# invoking a method \n",
    "print(\"Value of A = \",obj1.a)\n",
    "print(\"Value of B = \",obj2.b)"
   ]
  },
  {
   "cell_type": "code",
   "execution_count": 8,
   "id": "8bb04f53",
   "metadata": {},
   "outputs": [
    {
     "name": "stdout",
     "output_type": "stream",
     "text": [
      "Sum =  30\n"
     ]
    }
   ],
   "source": [
    " #  Methods\n",
    "class example():\n",
    "    def add(a,b):\n",
    "        c = a+b\n",
    "        return c\n",
    "        \n",
    "addition = example()\n",
    "result = example.add(10,20)\n",
    "print(\"Sum = \",result)"
   ]
  },
  {
   "cell_type": "code",
   "execution_count": 11,
   "id": "7b6e6fb9",
   "metadata": {},
   "outputs": [
    {
     "name": "stdout",
     "output_type": "stream",
     "text": [
      "Sum =  45\n"
     ]
    }
   ],
   "source": [
    "# self \n",
    "\n",
    "#  - \"refers to the instance of the class\"\n",
    "#  - \"Used to access the variable that belongs to the class\"\n",
    "\n",
    "\n",
    "#  Examples: \n",
    "\n",
    "class example():\n",
    "    d = 15\n",
    "    \n",
    "    def add(self,a,b):\n",
    "        c = a+b+self.d\n",
    "        return c\n",
    "        \n",
    "addition = example()\n",
    "result = addition.add(10,20)\n",
    "print(\"Sum = \",result)"
   ]
  },
  {
   "cell_type": "code",
   "execution_count": 13,
   "id": "9d97a8b5",
   "metadata": {},
   "outputs": [
    {
     "name": "stdout",
     "output_type": "stream",
     "text": [
      "Name :  Yogesh\n",
      "Age :  23\n",
      "Gender :  Male\n"
     ]
    }
   ],
   "source": [
    "# declare 2 methods inside a class\n",
    "\n",
    "class person():\n",
    "    \n",
    "    def get_mydetails(self):\n",
    "        self.name = \"Yogesh\"\n",
    "        self.age = 23\n",
    "        self.gender = \"Male\"\n",
    "        \n",
    "    def print_mydetails(self):\n",
    "        print(\"Name : \",self.name)\n",
    "        print(\"Age : \",self.age)\n",
    "        print(\"Gender : \",self.gender)\n",
    "        \n",
    "# object creation\n",
    "data = person()\n",
    "data.get_mydetails()\n",
    "data.print_mydetails()"
   ]
  },
  {
   "cell_type": "code",
   "execution_count": 17,
   "id": "d668d146",
   "metadata": {},
   "outputs": [
    {
     "name": "stdout",
     "output_type": "stream",
     "text": [
      "\n",
      "---------------------------------------------------------\n",
      "Name :  Yogesh\n",
      "Age :  23\n",
      "Gender :  Male\n",
      "\n",
      "---------------------------------------------------------\n",
      "Name :  Raghu\n",
      "Age :  27\n",
      "Gender :  Male\n",
      "\n",
      "---------------------------------------------------------\n",
      "Name :  Gopi\n",
      "Age :  28\n",
      "Gender :  Male\n",
      "\n",
      "---------------------------------------------------------\n"
     ]
    }
   ],
   "source": [
    "# another way to get the details from passing the arguments\n",
    "\n",
    "class person():\n",
    "    \n",
    "    def get_mydetails(self,name,age,gender):\n",
    "        self.name = name\n",
    "        self.age = age\n",
    "        self.gender = gender\n",
    "        \n",
    "    def print_mydetails(self):\n",
    "        print(\"Name : \",self.name)\n",
    "        print(\"Age : \",self.age)\n",
    "        print(\"Gender : \",self.gender)\n",
    "        \n",
    "# object creation\n",
    "data = person()\n",
    "\n",
    "print(\"\\n---------------------------------------------------------\")\n",
    "data.get_mydetails(\"Yogesh\",23,\"Male\")\n",
    "data.print_mydetails()\n",
    "print(\"\\n---------------------------------------------------------\")\n",
    "data.get_mydetails(\"Raghu\",27,\"Male\")\n",
    "data.print_mydetails()\n",
    "print(\"\\n---------------------------------------------------------\")\n",
    "data.get_mydetails(\"Gopi\",28,\"Male\")\n",
    "data.print_mydetails()\n",
    "print(\"\\n---------------------------------------------------------\")"
   ]
  },
  {
   "cell_type": "code",
   "execution_count": 21,
   "id": "508937ac",
   "metadata": {},
   "outputs": [
    {
     "name": "stdout",
     "output_type": "stream",
     "text": [
      "Area of the room =  1722.6000000000001\n"
     ]
    }
   ],
   "source": [
    "#  Method without 'self' parameter\n",
    "\n",
    "# calculate area of the room\n",
    "\n",
    "# creating a class -> 'Room'\n",
    "class Room:\n",
    "    \n",
    "    # declaring a variable and initially assigned to 0\n",
    "    length  = 0.0\n",
    "    breadth = 0.0\n",
    "    \n",
    "    # creating a function ->'calculate_area'\n",
    "    def calculate_area(self):\n",
    "        \n",
    "        print(\"Area of the room = \",room_1.length * room_1.breadth)\n",
    "        \n",
    "# object creation      \n",
    "room_1 = Room()\n",
    "\n",
    "# Assigning a value to the variable by using object\n",
    "room_1.length = 43.5\n",
    "room_1.breadth = 39.6\n",
    "\n",
    "# calling the method by using object\n",
    "room_1.calculate_area()"
   ]
  },
  {
   "cell_type": "code",
   "execution_count": 22,
   "id": "111d3e4b",
   "metadata": {},
   "outputs": [
    {
     "name": "stdout",
     "output_type": "stream",
     "text": [
      "Area of the room =  1722.6000000000001\n"
     ]
    }
   ],
   "source": [
    "# another example\n",
    "\n",
    "# creating a class -> 'Room'\n",
    "class Room:\n",
    "    \n",
    "    # creating a function ->'calculate_area'\n",
    "    def calculate_area(self):\n",
    "        \n",
    "        # Inside a function, I am declaring a variable  and initially assigned to 0\n",
    "        length  = 0.0\n",
    "        breadth = 0.0\n",
    "        \n",
    "        print(\"Area of the room = \",self.length * self.breadth)\n",
    "        \n",
    "# object creation      \n",
    "room_1 = Room()\n",
    "\n",
    "# Assigning a value to the variable by using object\n",
    "room_1.length = 43.5\n",
    "room_1.breadth = 39.6\n",
    "\n",
    "# calling the method by using object\n",
    "room_1.calculate_area()"
   ]
  }
 ],
 "metadata": {
  "kernelspec": {
   "display_name": "Python 3 (ipykernel)",
   "language": "python",
   "name": "python3"
  },
  "language_info": {
   "codemirror_mode": {
    "name": "ipython",
    "version": 3
   },
   "file_extension": ".py",
   "mimetype": "text/x-python",
   "name": "python",
   "nbconvert_exporter": "python",
   "pygments_lexer": "ipython3",
   "version": "3.11.5"
  }
 },
 "nbformat": 4,
 "nbformat_minor": 5
}
