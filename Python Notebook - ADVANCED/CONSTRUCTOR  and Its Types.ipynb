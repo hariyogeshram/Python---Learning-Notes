{
 "cells": [
  {
   "cell_type": "markdown",
   "id": "ca211865",
   "metadata": {},
   "source": [
    "#                               CONSTRUCTOR\n",
    "\n",
    "###   DEFINITION :\n",
    "  \n",
    "              -  special type of method (function)\n",
    "              -  used to initialize the instance members of the class.\n",
    "              -  used to create an object.\n",
    "              \n",
    "              \n",
    "###  Creating the Constructor :\n",
    "\n",
    "              -   \"__init__()\" method -> simulates the constructor of the class\n",
    "              -   This method is called 'when the class is instantiated'\n",
    "              \n",
    "              -   It accepts the 'self' keyword.(as a 'first argument')\n",
    "              -   allows 'accessing' the 'attributes' or 'method' of the class.\n",
    "              \n",
    "              \n",
    "###  Types of Constructor:\n",
    "\n",
    "              - Default \n",
    "              - Parameterized"
   ]
  },
  {
   "cell_type": "markdown",
   "id": "c4b33d92",
   "metadata": {},
   "source": [
    "#                          'DEFAULT'   CONSTRUCTOR\n",
    "\n",
    "\n",
    "        -  uses when \"we do not want to manipulate\" the 'value' or the 'constructor'\n",
    "        -  that has only 'self' as an 'argument'. "
   ]
  },
  {
   "cell_type": "code",
   "execution_count": 2,
   "id": "260cfc55",
   "metadata": {},
   "outputs": [
    {
     "name": "stdout",
     "output_type": "stream",
     "text": [
      "Name =  Hari\n",
      "Age =  23\n"
     ]
    }
   ],
   "source": [
    "#  Examples for \"Default Constructor\"\n",
    "\n",
    "class Student():\n",
    "    \n",
    "    def __init__(self):\n",
    "        \n",
    "        name = \"Hari\"\n",
    "        age = 23\n",
    "        \n",
    "        print(\"Name = \",name)\n",
    "        print(\"Age = \",age)\n",
    "        \n",
    "s1 = Student()"
   ]
  },
  {
   "cell_type": "code",
   "execution_count": 4,
   "id": "fcaa5389",
   "metadata": {},
   "outputs": [
    {
     "name": "stdout",
     "output_type": "stream",
     "text": [
      "I am From 3rd Constructor\n",
      "I am From 3rd Constructor\n"
     ]
    }
   ],
   "source": [
    "#  More than 'One Constructor' in 'Single class'\n",
    "\n",
    "#  Returns the \"latest constructor\".\n",
    "#  Because, it overrides the previous constructor.\n",
    "\n",
    "class unknown():\n",
    "    def __init__(self):\n",
    "        print(\"I am From 1st Constructor\")\n",
    "        \n",
    "    def __init__(self):\n",
    "        print(\"I am From 2nd Constructor\")\n",
    "        \n",
    "    def __init__(self):\n",
    "        print(\"I am From 3rd Constructor\")\n",
    "        \n",
    "one = unknown()\n",
    "two = unknown()"
   ]
  },
  {
   "cell_type": "markdown",
   "id": "61c88a57",
   "metadata": {},
   "source": [
    "#                 'PARAMETERIZED'   CONSTRUCTOR\n",
    "\n",
    "\n",
    "     -  It has \"multiple parameters\" \n",
    "     -  Along with the 'self'."
   ]
  },
  {
   "cell_type": "code",
   "execution_count": 8,
   "id": "e9236e56",
   "metadata": {},
   "outputs": [
    {
     "name": "stdout",
     "output_type": "stream",
     "text": [
      "Name :  Yogesh\n",
      "Age :  23\n"
     ]
    }
   ],
   "source": [
    "# Examples for \"Parameterized constructor\"\n",
    "\n",
    "class details():\n",
    "    \n",
    "    def __init__(self,name,age):\n",
    "        \n",
    "        self.name = name\n",
    "        self.age = age\n",
    "        \n",
    "    def print_details(self):\n",
    "        \n",
    "        print(\"Name : \",self.name)\n",
    "        print(\"Age : \",self.age)\n",
    "        \n",
    "obj = details(\"Yogesh\",23)\n",
    "\n",
    "obj.print_details()"
   ]
  },
  {
   "cell_type": "code",
   "execution_count": 9,
   "id": "d9f0d666",
   "metadata": {},
   "outputs": [
    {
     "name": "stdout",
     "output_type": "stream",
     "text": [
      "Name :  Hari\n",
      "Age :  24\n"
     ]
    }
   ],
   "source": [
    "# create 2 object with the same name called 'obj'\n",
    "# and passing arguments \n",
    "\n",
    "# it returns the 'latest object creation' because \"overrides the previous values \"\n",
    "\n",
    "class details():\n",
    "    \n",
    "    def __init__(self,name,age):\n",
    "        \n",
    "        self.name = name\n",
    "        self.age = age\n",
    "        \n",
    "    def print_details(self):\n",
    "        \n",
    "        print(\"Name : \",self.name)\n",
    "        print(\"Age : \",self.age)\n",
    "        \n",
    "obj = details(\"Yogesh\",23)\n",
    "obj = details(\"Hari\",24)\n",
    "obj.print_details()"
   ]
  },
  {
   "cell_type": "code",
   "execution_count": 10,
   "id": "370f40b7",
   "metadata": {},
   "outputs": [
    {
     "name": "stdout",
     "output_type": "stream",
     "text": [
      "Name :  Yogesh\n",
      "Age :  23\n",
      "Name :  Hari\n",
      "Age :  24\n"
     ]
    }
   ],
   "source": [
    "# create 2 object with the same name called 'obj'\n",
    "# and passing arguments \n",
    "\n",
    "# it returns the 'latest object creation'\n",
    "\n",
    "class details():\n",
    "    \n",
    "    def __init__(self,name,age):\n",
    "        \n",
    "        self.name = name\n",
    "        self.age = age\n",
    "        \n",
    "    def print_details(self):\n",
    "        \n",
    "        print(\"Name : \",self.name)\n",
    "        print(\"Age : \",self.age)\n",
    "        \n",
    "obj = details(\"Yogesh\",23)\n",
    "obj.print_details()\n",
    "\n",
    "obj = details(\"Hari\",24)\n",
    "obj.print_details()"
   ]
  },
  {
   "cell_type": "code",
   "execution_count": 11,
   "id": "83460785",
   "metadata": {},
   "outputs": [
    {
     "name": "stdout",
     "output_type": "stream",
     "text": [
      "Name :  Yogesh\n",
      "Age :  23\n"
     ]
    }
   ],
   "source": [
    "##   'POSITION Arguments' in Constructor\n",
    "\n",
    "class details():\n",
    "    \n",
    "    def __init__(self,name,age):\n",
    "        \n",
    "        self.name = name\n",
    "        self.age = age\n",
    "        \n",
    "    def print_details(self):\n",
    "        \n",
    "        print(\"Name : \",self.name)\n",
    "        print(\"Age : \",self.age)\n",
    "        \n",
    "obj = details(\"Yogesh\",23)\n",
    "obj.print_details()"
   ]
  },
  {
   "cell_type": "code",
   "execution_count": 13,
   "id": "69642da9",
   "metadata": {},
   "outputs": [
    {
     "name": "stdout",
     "output_type": "stream",
     "text": [
      "Name :  Hari\n",
      "Age :  25\n"
     ]
    }
   ],
   "source": [
    "##     \"DEFAULT Arguments\"  in Constructor\n",
    "\n",
    "class details():\n",
    "    \n",
    "    def __init__(self,name,age=25):\n",
    "        \n",
    "        self.name = name\n",
    "        self.age = age\n",
    "        \n",
    "    def print_details(self):\n",
    "        \n",
    "        print(\"Name : \",self.name)\n",
    "        print(\"Age : \",self.age)\n",
    "        \n",
    "obj = details(\"Hari\")\n",
    "obj.print_details()"
   ]
  },
  {
   "cell_type": "code",
   "execution_count": 14,
   "id": "0f918d7b",
   "metadata": {},
   "outputs": [
    {
     "name": "stdout",
     "output_type": "stream",
     "text": [
      "Sum =  100\n"
     ]
    }
   ],
   "source": [
    "## 'VARIABLE  LENGTH  Arguments'(*variable)     in  Constructor\n",
    "\n",
    "class details():\n",
    "    \n",
    "    def __init__(self,a,*b):\n",
    "        \n",
    "        c = a\n",
    "        \n",
    "        for i in b:\n",
    "            c = c + i\n",
    "        print(\"Sum = \",c)\n",
    "        \n",
    "obj = details(25,10,30,35)\n"
   ]
  },
  {
   "cell_type": "code",
   "execution_count": 24,
   "id": "a5434828",
   "metadata": {},
   "outputs": [
    {
     "name": "stdout",
     "output_type": "stream",
     "text": [
      "Name :  Yogesh\n",
      "Age :  23\n",
      "Gender :  Male\n",
      "Location :  Chennai\n",
      "\n",
      "-----------------------------------------------------\n",
      "Name :  Samantha\n",
      "Age :  28\n",
      "Gender :  Female\n",
      "Location :  Bangalore\n"
     ]
    }
   ],
   "source": [
    "##   \" **kwargs - Keyword Arguments\"  in CONSTRUCTOR\n",
    "\n",
    "class Details():\n",
    "    \n",
    "    def __init__(self,name,location,**values):\n",
    "        \n",
    "        print(\"Name : \",name)\n",
    "        print(\"Age : \",values['age'])\n",
    "        print(\"Gender : \",values['gender'])\n",
    "        print(\"Location : \",location)\n",
    "        \n",
    "person1 = Details(\"Yogesh\",\"Chennai\",age = 23,gender = \"Male\")\n",
    "print(\"\\n-----------------------------------------------------\")\n",
    "person2 = Details(\"Samantha\",\"Bangalore\",age = 28,gender = \"Female\")\n",
    "\n"
   ]
  },
  {
   "cell_type": "code",
   "execution_count": 27,
   "id": "57e29faa",
   "metadata": {},
   "outputs": [
    {
     "name": "stdout",
     "output_type": "stream",
     "text": [
      "Area of a Triangle =  12.0\n"
     ]
    }
   ],
   "source": [
    "#   examples \n",
    "\n",
    "#  Calculate \"AREA of a TRIANGLE\"  by using CONSTRUCTOR\n",
    "\n",
    "#  Formula : (1/2) * b * h    or  (0.5) * b * h\n",
    "\n",
    "#  b = base , h = height\n",
    "\n",
    "class Triangle():\n",
    "    \n",
    "    def __init__(self,b,h):\n",
    "        \n",
    "        self.base = b\n",
    "        self.height = h\n",
    "        \n",
    "    def area_of_triangle(self):\n",
    "        \n",
    "        self.area = (1/2) * self.base * self.height\n",
    "        \n",
    "        print(\"Area of a Triangle = \",self.area)\n",
    "\n",
    "tri_1 = Triangle(6,4)\n",
    "\n",
    "tri_1.area_of_triangle()"
   ]
  },
  {
   "cell_type": "code",
   "execution_count": 28,
   "id": "ac24fe08",
   "metadata": {},
   "outputs": [
    {
     "ename": "TypeError",
     "evalue": "__init__() should return None, not 'str'",
     "output_type": "error",
     "traceback": [
      "\u001b[1;31m---------------------------------------------------------------------------\u001b[0m",
      "\u001b[1;31mTypeError\u001b[0m                                 Traceback (most recent call last)",
      "Cell \u001b[1;32mIn[28], line 15\u001b[0m\n\u001b[0;32m     12\u001b[0m         a \u001b[38;5;241m=\u001b[39m \u001b[38;5;124m\"\u001b[39m\u001b[38;5;124mHari\u001b[39m\u001b[38;5;124m\"\u001b[39m\n\u001b[0;32m     13\u001b[0m         \u001b[38;5;28;01mreturn\u001b[39;00m a\n\u001b[1;32m---> 15\u001b[0m c1 \u001b[38;5;241m=\u001b[39m constructor_return_type()\n",
      "\u001b[1;31mTypeError\u001b[0m: __init__() should return None, not 'str'"
     ]
    }
   ],
   "source": [
    "##    Constructor   -    \"RETURN TYPE\"\n",
    "\n",
    "##    Constructor always return \"None\"     (not -> 'str','int','bool'.)\n",
    "\n",
    "\n",
    "# Examples: (passing string)\n",
    "\n",
    "class constructor_return_type():\n",
    "    \n",
    "    def __init__(self):\n",
    "        \n",
    "        a = \"Hari\"\n",
    "        return a\n",
    "    \n",
    "c1 = constructor_return_type()  # TypeError: __init__() should return None, not 'str'"
   ]
  },
  {
   "cell_type": "markdown",
   "id": "52e67565",
   "metadata": {},
   "source": [
    "#                               DESTRUCTOR\n",
    "\n",
    "      -  Object destroyed\n",
    "      -  \" __del__(self) \"\n",
    "      -  it also pass default - 'self' arguments\n",
    "      \n",
    "      -  how to delete the object  (use) ->  del object_name    example :  del a1\n",
    "      \n",
    "      -  Uses :\n",
    "      \n",
    "                 -  De-allocate Memory\n",
    "                 -  Clean-up Resources"
   ]
  },
  {
   "cell_type": "code",
   "execution_count": 35,
   "id": "ebd0bea1",
   "metadata": {},
   "outputs": [
    {
     "name": "stdout",
     "output_type": "stream",
     "text": [
      "Name :  Hari\n",
      "Age :  23\n",
      "\n",
      "--------------\n",
      "Destructor is called!..\n"
     ]
    }
   ],
   "source": [
    "#  Examples for  \"Destructor\"\n",
    "\n",
    "class Person():\n",
    "    \n",
    "    # Constructor\n",
    "    def __init__(self,name,age):\n",
    "        \n",
    "        self.name = name\n",
    "        self.age = age\n",
    "        \n",
    "        print(\"Name : \",self.name)\n",
    "        print(\"Age : \",self.age)\n",
    "        \n",
    "    # Destructor\n",
    "    def __del__(self):\n",
    "        \n",
    "        print(\"Destructor is called!..\")\n",
    "        \n",
    "c1 = Person(\"Hari\",23)\n",
    "print(\"\\n--------------\")\n",
    "del c1"
   ]
  }
 ],
 "metadata": {
  "kernelspec": {
   "display_name": "Python 3 (ipykernel)",
   "language": "python",
   "name": "python3"
  },
  "language_info": {
   "codemirror_mode": {
    "name": "ipython",
    "version": 3
   },
   "file_extension": ".py",
   "mimetype": "text/x-python",
   "name": "python",
   "nbconvert_exporter": "python",
   "pygments_lexer": "ipython3",
   "version": "3.11.5"
  }
 },
 "nbformat": 4,
 "nbformat_minor": 5
}
