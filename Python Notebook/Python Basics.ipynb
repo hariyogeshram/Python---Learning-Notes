{
 "cells": [
  {
   "cell_type": "markdown",
   "id": "0677897a-0980-4c10-96d4-74963db5d438",
   "metadata": {},
   "source": [
    "# Session 2 - Pythons Basics\n",
    " THis session would be talking about the python basics which includes Data types and its operations"
   ]
  },
  {
   "cell_type": "markdown",
   "id": "c0e2b060-85f4-4237-8250-f538a42f8aa2",
   "metadata": {},
   "source": [
    "## What is a Variable?\n",
    "Variable is a container where we can store our values and retrieve it whenever needed"
   ]
  },
  {
   "cell_type": "code",
   "execution_count": 5,
   "id": "9758d1a5-75dd-431f-a56d-0bdd38874de8",
   "metadata": {},
   "outputs": [],
   "source": [
    "Age = 25 # 25 is the number\n",
    "Nationality = \"Indian\" # THis is a string which is alpha-numeric\n",
    "Is_Social_activist = True # this is boolean"
   ]
  },
  {
   "cell_type": "code",
   "execution_count": 2,
   "id": "7f96f6e9-d664-4a66-9323-aa5f880c7115",
   "metadata": {},
   "outputs": [
    {
     "data": {
      "text/plain": [
       "25"
      ]
     },
     "execution_count": 2,
     "metadata": {},
     "output_type": "execute_result"
    }
   ],
   "source": [
    "Age"
   ]
  },
  {
   "cell_type": "markdown",
   "id": "4fda46bd-c777-4426-8f08-6c31838be198",
   "metadata": {},
   "source": [
    "### Data types - Numbers"
   ]
  },
  {
   "cell_type": "code",
   "execution_count": 3,
   "id": "7b3b1b04-3717-4b77-a977-733df2ef3c1c",
   "metadata": {},
   "outputs": [],
   "source": [
    "#Float and int\n",
    "Age = 25 #Interger\n",
    "Height = 175.12 # FLoat is nothing but decimals"
   ]
  },
  {
   "cell_type": "markdown",
   "id": "1044b816-9838-42bb-a0be-bd7548777b50",
   "metadata": {},
   "source": [
    "### Data Types - Boolean"
   ]
  },
  {
   "cell_type": "code",
   "execution_count": 6,
   "id": "4b23a3ce-fad4-4620-91ea-1a05f4e7e3ff",
   "metadata": {},
   "outputs": [
    {
     "data": {
      "text/plain": [
       "True"
      ]
     },
     "execution_count": 6,
     "metadata": {},
     "output_type": "execute_result"
    }
   ],
   "source": [
    "True"
   ]
  },
  {
   "cell_type": "code",
   "execution_count": 7,
   "id": "8f9f50b2-d58f-47f2-822d-5b8d9170c5b4",
   "metadata": {},
   "outputs": [
    {
     "data": {
      "text/plain": [
       "False"
      ]
     },
     "execution_count": 7,
     "metadata": {},
     "output_type": "execute_result"
    }
   ],
   "source": [
    "False"
   ]
  },
  {
   "cell_type": "code",
   "execution_count": 18,
   "id": "22cf8583-e9a8-48f3-8328-330d2b215a04",
   "metadata": {},
   "outputs": [],
   "source": [
    "# What is a list?\n",
    "B_17 = ['Science','Maths','Commerce','Science']"
   ]
  },
  {
   "cell_type": "code",
   "execution_count": 14,
   "id": "f96e8189-4b0f-4509-901c-6342c44ca407",
   "metadata": {},
   "outputs": [
    {
     "data": {
      "text/plain": [
       "tuple"
      ]
     },
     "execution_count": 14,
     "metadata": {},
     "output_type": "execute_result"
    }
   ],
   "source": [
    "type(B_17) # This is called list"
   ]
  },
  {
   "cell_type": "code",
   "execution_count": 23,
   "id": "bca2fd41-6c21-4f6c-b94d-67b9cfd15273",
   "metadata": {},
   "outputs": [
    {
     "data": {
      "text/plain": [
       "2.0"
      ]
     },
     "execution_count": 23,
     "metadata": {},
     "output_type": "execute_result"
    }
   ],
   "source": [
    "len(B_17)/2 # THis will give you the number of elements inside the list or tuple"
   ]
  },
  {
   "cell_type": "code",
   "execution_count": 22,
   "id": "38ae0eb6-41c3-4ead-b50b-e715f6929352",
   "metadata": {},
   "outputs": [
    {
     "data": {
      "text/plain": [
       "'Commerce'"
      ]
     },
     "execution_count": 22,
     "metadata": {},
     "output_type": "execute_result"
    }
   ],
   "source": [
    "# Indexing\n",
    "B_17[-2] # Index starts with 0"
   ]
  },
  {
   "cell_type": "code",
   "execution_count": 25,
   "id": "63934bac-9790-45f5-823e-5de5715016a1",
   "metadata": {},
   "outputs": [],
   "source": [
    "Multi_list = ['Hari',25,175.12]"
   ]
  },
  {
   "cell_type": "code",
   "execution_count": 26,
   "id": "28e1cca9-c957-4c0a-8f20-6ea57885f7ab",
   "metadata": {},
   "outputs": [
    {
     "data": {
      "text/plain": [
       "['Hari', 25, 175.12]"
      ]
     },
     "execution_count": 26,
     "metadata": {},
     "output_type": "execute_result"
    }
   ],
   "source": [
    "Multi_list"
   ]
  },
  {
   "cell_type": "code",
   "execution_count": 28,
   "id": "ae927cb1-2b08-4d38-9fd5-f09980f00fab",
   "metadata": {},
   "outputs": [],
   "source": [
    "Name = Multi_list[0]\n",
    "Age = Multi_list[1]\n",
    "Height = Multi_list[2] # Variable assignment We can assign a variable from the list"
   ]
  },
  {
   "cell_type": "code",
   "execution_count": 29,
   "id": "deb721b7-c512-4ee1-91e1-2a3d585f8594",
   "metadata": {},
   "outputs": [],
   "source": [
    "Multi_list_2 = [Name,Age,Height] # We can create a list from the variables"
   ]
  },
  {
   "cell_type": "code",
   "execution_count": 30,
   "id": "2cacbbd5-1ef3-4686-a2c9-fe75c9fc483f",
   "metadata": {},
   "outputs": [
    {
     "data": {
      "text/plain": [
       "['Hari', 25, 175.12]"
      ]
     },
     "execution_count": 30,
     "metadata": {},
     "output_type": "execute_result"
    }
   ],
   "source": [
    "Multi_list_2"
   ]
  },
  {
   "cell_type": "code",
   "execution_count": 32,
   "id": "b76ea7ff-2ae6-4ab7-865d-261b68e5d548",
   "metadata": {},
   "outputs": [],
   "source": [
    "Multi_list_2[0] = \"Surya\" # Mutable"
   ]
  },
  {
   "cell_type": "code",
   "execution_count": 33,
   "id": "8b23781f-7a7d-4dd7-aaa8-675df559cb9c",
   "metadata": {},
   "outputs": [
    {
     "data": {
      "text/plain": [
       "['Surya', 25, 175.12]"
      ]
     },
     "execution_count": 33,
     "metadata": {},
     "output_type": "execute_result"
    }
   ],
   "source": [
    "Multi_list_2"
   ]
  },
  {
   "cell_type": "code",
   "execution_count": 34,
   "id": "2e803e43-38c7-4eb0-90a6-3e1a60d1050c",
   "metadata": {},
   "outputs": [],
   "source": [
    "List_books = [20,21,21,20] #here are four elements which holds the information of the availability of the books"
   ]
  },
  {
   "cell_type": "code",
   "execution_count": 35,
   "id": "e7823cf4-458e-4564-803c-805d501016d2",
   "metadata": {},
   "outputs": [],
   "source": [
    "List_books[0] = List_books[0]-1"
   ]
  },
  {
   "cell_type": "code",
   "execution_count": 36,
   "id": "637d6b6a-c61f-4be2-8500-74329507c4c2",
   "metadata": {},
   "outputs": [
    {
     "data": {
      "text/plain": [
       "[19, 21, 21, 20]"
      ]
     },
     "execution_count": 36,
     "metadata": {},
     "output_type": "execute_result"
    }
   ],
   "source": [
    "List_books"
   ]
  },
  {
   "cell_type": "code",
   "execution_count": 37,
   "id": "6ae8e476-a2f4-4bf9-b2d0-86ca6d0cd2b9",
   "metadata": {},
   "outputs": [],
   "source": [
    "Multi_list_3 = (Name,Age,Height)"
   ]
  },
  {
   "cell_type": "code",
   "execution_count": 38,
   "id": "2cb8109a-a332-48ba-a325-eacc3dc9a708",
   "metadata": {},
   "outputs": [
    {
     "data": {
      "text/plain": [
       "('Hari', 25, 175.12)"
      ]
     },
     "execution_count": 38,
     "metadata": {},
     "output_type": "execute_result"
    }
   ],
   "source": [
    "Multi_list_3"
   ]
  },
  {
   "cell_type": "code",
   "execution_count": 39,
   "id": "ad54a01e-cf03-4f93-8464-755ca1bf4696",
   "metadata": {},
   "outputs": [
    {
     "data": {
      "text/plain": [
       "tuple"
      ]
     },
     "execution_count": 39,
     "metadata": {},
     "output_type": "execute_result"
    }
   ],
   "source": [
    "type(Multi_list_3)"
   ]
  },
  {
   "cell_type": "code",
   "execution_count": 41,
   "id": "b9d1af2a-392b-44ab-abc2-9acd1aef76ee",
   "metadata": {},
   "outputs": [
    {
     "ename": "TypeError",
     "evalue": "'tuple' object does not support item assignment",
     "output_type": "error",
     "traceback": [
      "\u001b[1;31m---------------------------------------------------------------------------\u001b[0m",
      "\u001b[1;31mTypeError\u001b[0m                                 Traceback (most recent call last)",
      "Cell \u001b[1;32mIn[41], line 1\u001b[0m\n\u001b[1;32m----> 1\u001b[0m \u001b[43mMulti_list_3\u001b[49m\u001b[43m[\u001b[49m\u001b[38;5;241;43m0\u001b[39;49m\u001b[43m]\u001b[49m \u001b[38;5;241m=\u001b[39m \u001b[38;5;124m\"\u001b[39m\u001b[38;5;124mSurya\u001b[39m\u001b[38;5;124m\"\u001b[39m\n",
      "\u001b[1;31mTypeError\u001b[0m: 'tuple' object does not support item assignment"
     ]
    }
   ],
   "source": [
    "Multi_list_3[0] = \"Surya\""
   ]
  },
  {
   "cell_type": "code",
   "execution_count": null,
   "id": "36c93424-a00c-46e7-a0a2-c1c36d7761ec",
   "metadata": {},
   "outputs": [],
   "source": [
    "# Mutables - List and dict\n",
    "# Immutables - Tuples and string"
   ]
  },
  {
   "cell_type": "code",
   "execution_count": 47,
   "id": "c8c41c66-5aab-4a51-b520-83ce9a2284d0",
   "metadata": {},
   "outputs": [],
   "source": [
    "Dict = {\"Book_1\":20,\"Book_2\":21} # Holds the information in key value pair"
   ]
  },
  {
   "cell_type": "code",
   "execution_count": 48,
   "id": "13ef9dcb-b531-4e3b-9a2f-440a13eeb966",
   "metadata": {},
   "outputs": [
    {
     "data": {
      "text/plain": [
       "{'Book_1': 20, 'Book_2': 21}"
      ]
     },
     "execution_count": 48,
     "metadata": {},
     "output_type": "execute_result"
    }
   ],
   "source": [
    "Dict"
   ]
  },
  {
   "cell_type": "code",
   "execution_count": 44,
   "id": "b7d9bed6-60f0-4cac-9ec4-aeb7a7952231",
   "metadata": {},
   "outputs": [
    {
     "data": {
      "text/plain": [
       "20"
      ]
     },
     "execution_count": 44,
     "metadata": {},
     "output_type": "execute_result"
    }
   ],
   "source": [
    "Dict[\"Book_1\"] # indexing"
   ]
  },
  {
   "cell_type": "code",
   "execution_count": 45,
   "id": "c1af7f71-21b2-4c41-92fc-83e45008abc1",
   "metadata": {},
   "outputs": [],
   "source": [
    "Dict[\"Book_1\"] = Dict[\"Book_1\"]-1"
   ]
  },
  {
   "cell_type": "code",
   "execution_count": 46,
   "id": "22c8807c-c535-4819-aa7a-bd30382452f9",
   "metadata": {},
   "outputs": [
    {
     "data": {
      "text/plain": [
       "{'Book_1': 19, 'Book_2': 21}"
      ]
     },
     "execution_count": 46,
     "metadata": {},
     "output_type": "execute_result"
    }
   ],
   "source": [
    "Dict"
   ]
  },
  {
   "cell_type": "code",
   "execution_count": null,
   "id": "8ae58290-adcf-4e6d-a199-3782848796d6",
   "metadata": {},
   "outputs": [],
   "source": [
    "A = [] # Assignment\n",
    "A[] # Indexing"
   ]
  },
  {
   "cell_type": "code",
   "execution_count": 89,
   "id": "58e047f9-1bed-4090-a6f3-64fe437d7fef",
   "metadata": {},
   "outputs": [],
   "source": [
    "String = \"India is my country\""
   ]
  },
  {
   "cell_type": "code",
   "execution_count": 54,
   "id": "bccc9716-6f1d-4f49-bc35-0a8393a4feb9",
   "metadata": {},
   "outputs": [
    {
     "name": "stdout",
     "output_type": "stream",
     "text": [
      "India is my country\n"
     ]
    }
   ],
   "source": [
    "print(String)"
   ]
  },
  {
   "cell_type": "code",
   "execution_count": 53,
   "id": "66450b29-c47b-4131-be63-b653a7adbb46",
   "metadata": {},
   "outputs": [
    {
     "ename": "TypeError",
     "evalue": "'str' object does not support item assignment",
     "output_type": "error",
     "traceback": [
      "\u001b[1;31m---------------------------------------------------------------------------\u001b[0m",
      "\u001b[1;31mTypeError\u001b[0m                                 Traceback (most recent call last)",
      "Cell \u001b[1;32mIn[53], line 1\u001b[0m\n\u001b[1;32m----> 1\u001b[0m \u001b[43mString\u001b[49m\u001b[43m[\u001b[49m\u001b[38;5;241;43m0\u001b[39;49m\u001b[43m]\u001b[49m \u001b[38;5;241m=\u001b[39m \u001b[38;5;124m'\u001b[39m\u001b[38;5;124mi\u001b[39m\u001b[38;5;124m'\u001b[39m\n",
      "\u001b[1;31mTypeError\u001b[0m: 'str' object does not support item assignment"
     ]
    }
   ],
   "source": [
    "String[0] = 'i'"
   ]
  },
  {
   "cell_type": "code",
   "execution_count": 56,
   "id": "c98c36e6-398d-4085-b540-88e4f7a8caec",
   "metadata": {},
   "outputs": [],
   "source": [
    "# String Basics and its operations"
   ]
  },
  {
   "cell_type": "code",
   "execution_count": 57,
   "id": "de3c8ffd-da3a-4f56-b6d9-0afe4566713d",
   "metadata": {},
   "outputs": [
    {
     "data": {
      "text/plain": [
       "'India is my country'"
      ]
     },
     "execution_count": 57,
     "metadata": {},
     "output_type": "execute_result"
    }
   ],
   "source": [
    "String #Immutable"
   ]
  },
  {
   "cell_type": "code",
   "execution_count": 74,
   "id": "7deeb6cf-bf8e-4138-beff-d09832f593b9",
   "metadata": {},
   "outputs": [
    {
     "data": {
      "text/plain": [
       "19"
      ]
     },
     "execution_count": 74,
     "metadata": {},
     "output_type": "execute_result"
    }
   ],
   "source": [
    "len(String) # this will give you the length"
   ]
  },
  {
   "cell_type": "code",
   "execution_count": 79,
   "id": "adf64d87-6f6c-4169-9c8c-ec8cfe873e66",
   "metadata": {},
   "outputs": [
    {
     "data": {
      "text/plain": [
       "4"
      ]
     },
     "execution_count": 79,
     "metadata": {},
     "output_type": "execute_result"
    }
   ],
   "source": [
    "len(String.split()) # this will return the list of words in a string"
   ]
  },
  {
   "cell_type": "code",
   "execution_count": 99,
   "id": "ff325fbe-eb6f-425f-8e57-975d21a158ca",
   "metadata": {},
   "outputs": [],
   "source": [
    "String.split()[0] = 'india'"
   ]
  },
  {
   "cell_type": "code",
   "execution_count": 137,
   "id": "68a7a796-9d86-4918-a49b-d4da20a05179",
   "metadata": {},
   "outputs": [],
   "source": [
    "String_2 = \"@\""
   ]
  },
  {
   "cell_type": "code",
   "execution_count": 138,
   "id": "5e6a282f-ed39-4c8e-b23e-da9750233453",
   "metadata": {},
   "outputs": [
    {
     "data": {
      "text/plain": [
       "False"
      ]
     },
     "execution_count": 138,
     "metadata": {},
     "output_type": "execute_result"
    }
   ],
   "source": [
    "String_2.isalnum()"
   ]
  },
  {
   "cell_type": "code",
   "execution_count": 118,
   "id": "3057d095-f0de-477d-92cd-ec5dbd4e827a",
   "metadata": {},
   "outputs": [
    {
     "data": {
      "text/plain": [
       "['__add__',\n",
       " '__class__',\n",
       " '__contains__',\n",
       " '__delattr__',\n",
       " '__dir__',\n",
       " '__doc__',\n",
       " '__eq__',\n",
       " '__format__',\n",
       " '__ge__',\n",
       " '__getattribute__',\n",
       " '__getitem__',\n",
       " '__getnewargs__',\n",
       " '__getstate__',\n",
       " '__gt__',\n",
       " '__hash__',\n",
       " '__init__',\n",
       " '__init_subclass__',\n",
       " '__iter__',\n",
       " '__le__',\n",
       " '__len__',\n",
       " '__lt__',\n",
       " '__mod__',\n",
       " '__mul__',\n",
       " '__ne__',\n",
       " '__new__',\n",
       " '__reduce__',\n",
       " '__reduce_ex__',\n",
       " '__repr__',\n",
       " '__rmod__',\n",
       " '__rmul__',\n",
       " '__setattr__',\n",
       " '__sizeof__',\n",
       " '__str__',\n",
       " '__subclasshook__',\n",
       " 'capitalize',\n",
       " 'casefold',\n",
       " 'center',\n",
       " 'count',\n",
       " 'encode',\n",
       " 'endswith',\n",
       " 'expandtabs',\n",
       " 'find',\n",
       " 'format',\n",
       " 'format_map',\n",
       " 'index',\n",
       " 'isalnum',\n",
       " 'isalpha',\n",
       " 'isascii',\n",
       " 'isdecimal',\n",
       " 'isdigit',\n",
       " 'isidentifier',\n",
       " 'islower',\n",
       " 'isnumeric',\n",
       " 'isprintable',\n",
       " 'isspace',\n",
       " 'istitle',\n",
       " 'isupper',\n",
       " 'join',\n",
       " 'ljust',\n",
       " 'lower',\n",
       " 'lstrip',\n",
       " 'maketrans',\n",
       " 'partition',\n",
       " 'removeprefix',\n",
       " 'removesuffix',\n",
       " 'replace',\n",
       " 'rfind',\n",
       " 'rindex',\n",
       " 'rjust',\n",
       " 'rpartition',\n",
       " 'rsplit',\n",
       " 'rstrip',\n",
       " 'split',\n",
       " 'splitlines',\n",
       " 'startswith',\n",
       " 'strip',\n",
       " 'swapcase',\n",
       " 'title',\n",
       " 'translate',\n",
       " 'upper',\n",
       " 'zfill']"
      ]
     },
     "execution_count": 118,
     "metadata": {},
     "output_type": "execute_result"
    }
   ],
   "source": [
    "dir(str)"
   ]
  },
  {
   "cell_type": "code",
   "execution_count": 125,
   "id": "5eed5dd6-603f-4c68-9d9e-ad1af9469698",
   "metadata": {},
   "outputs": [],
   "source": [
    "String = \"India is my country     \""
   ]
  },
  {
   "cell_type": "code",
   "execution_count": 133,
   "id": "6bedfed8-17e9-434b-acae-f8d30f6e8143",
   "metadata": {},
   "outputs": [
    {
     "data": {
      "text/plain": [
       "False"
      ]
     },
     "execution_count": 133,
     "metadata": {},
     "output_type": "execute_result"
    }
   ],
   "source": [
    "String.startswith(\"i\")"
   ]
  },
  {
   "cell_type": "code",
   "execution_count": 128,
   "id": "3e6ddba1-0024-459b-b32e-5b131c37a190",
   "metadata": {},
   "outputs": [
    {
     "data": {
      "text/plain": [
       "'India is my country'"
      ]
     },
     "execution_count": 128,
     "metadata": {},
     "output_type": "execute_result"
    }
   ],
   "source": [
    "String.r`strip()"
   ]
  },
  {
   "cell_type": "code",
   "execution_count": 109,
   "id": "68446e9c-02b2-4e65-b277-3f5f96949ecd",
   "metadata": {},
   "outputs": [],
   "source": [
    "Dict = {\n",
    "    \"Nandhi`ani\":{\n",
    "        \"Assignment_1\":95,\n",
    "        \"Assignment_name\":\"Dashboard\",\n",
    "        \"Assignment_2\":94,\n",
    "        \"Session_attended\":21.5\n",
    "    },\n",
    "    \"Guru Prasad\":{\n",
    "        \"Assignment_1\":91,\n",
    "        \"Assignment_2\":91,\n",
    "        \"Assignment_3\":85,\n",
    "        \"Session_attended\":22\n",
    "    }\n",
    "}"
   ]
  },
  {
   "cell_type": "code",
   "execution_count": 71,
   "id": "57dbb67c-b406-46fa-9e59-9afbba281a1e",
   "metadata": {},
   "outputs": [
    {
     "data": {
      "text/plain": [
       "{'Nandhini': {'Assignment_1': 95,\n",
       "  'Assignment_name': 'Dashboard',\n",
       "  'Assignment_2': 94,\n",
       "  'Session_attended': 21.5},\n",
       " 'Guru Prasad': {'Assignment_1': 91,\n",
       "  'Assignment_2': 91,\n",
       "  'Assignment_3': 85,\n",
       "  'Session_attended': 22}}"
      ]
     },
     "execution_count": 71,
     "metadata": {},
     "output_type": "execute_result"
    }
   ],
   "source": [
    "Dict"
   ]
  },
  {
   "cell_type": "code",
   "execution_count": 73,
   "id": "cfe6f238-9174-4303-bab8-081308d9a205",
   "metadata": {},
   "outputs": [
    {
     "data": {
      "text/plain": [
       "'Dashboard'"
      ]
     },
     "execution_count": 73,
     "metadata": {},
     "output_type": "execute_result"
    }
   ],
   "source": [
    "Dict['Nandhini']['Assignment_name']"
   ]
  },
  {
   "cell_type": "code",
   "execution_count": 139,
   "id": "0ea5461d-0a06-483e-861c-d4d48241a836",
   "metadata": {},
   "outputs": [],
   "source": [
    "List_multi = [1,2,3,4,5]"
   ]
  },
  {
   "cell_type": "code",
   "execution_count": 140,
   "id": "1e288566-81b4-4b0f-b4dc-6c1678e97126",
   "metadata": {},
   "outputs": [],
   "source": [
    "List_multi.append(6)"
   ]
  },
  {
   "cell_type": "code",
   "execution_count": 141,
   "id": "aaa98f91-a151-40bd-83a8-512c0b1c353e",
   "metadata": {},
   "outputs": [
    {
     "data": {
      "text/plain": [
       "[1, 2, 3, 4, 5, 6]"
      ]
     },
     "execution_count": 141,
     "metadata": {},
     "output_type": "execute_result"
    }
   ],
   "source": [
    "List_multi"
   ]
  },
  {
   "cell_type": "code",
   "execution_count": 142,
   "id": "7f51ff1a-61ce-4c2d-8099-c23af7ccd087",
   "metadata": {},
   "outputs": [
    {
     "data": {
      "text/plain": [
       "6"
      ]
     },
     "execution_count": 142,
     "metadata": {},
     "output_type": "execute_result"
    }
   ],
   "source": [
    "List_multi.pop()"
   ]
  },
  {
   "cell_type": "code",
   "execution_count": 143,
   "id": "d44f92dd-94e7-4ac0-ae81-708bc72c158d",
   "metadata": {},
   "outputs": [
    {
     "data": {
      "text/plain": [
       "[1, 2, 3, 4, 5]"
      ]
     },
     "execution_count": 143,
     "metadata": {},
     "output_type": "execute_result"
    }
   ],
   "source": [
    "List_multi"
   ]
  },
  {
   "cell_type": "code",
   "execution_count": 149,
   "id": "aadf7d08-f988-4ed0-869f-eb73b730e1a7",
   "metadata": {},
   "outputs": [],
   "source": [
    "Set_1 = set([1,2,3,4,5]) # Superset"
   ]
  },
  {
   "cell_type": "code",
   "execution_count": 150,
   "id": "d91aaf64-2877-421d-84c9-3b3fc51de012",
   "metadata": {},
   "outputs": [],
   "source": [
    "Set_2 = set([1,2])"
   ]
  },
  {
   "cell_type": "code",
   "execution_count": 151,
   "id": "e8047dc7-2ad3-443f-94ef-e31ee2c99008",
   "metadata": {},
   "outputs": [
    {
     "data": {
      "text/plain": [
       "True"
      ]
     },
     "execution_count": 151,
     "metadata": {},
     "output_type": "execute_result"
    }
   ],
   "source": [
    "Set_2.issubset(Set_1)"
   ]
  },
  {
   "cell_type": "code",
   "execution_count": 153,
   "id": "e9ba3f9b-9950-448b-92af-c007dcd678e1",
   "metadata": {},
   "outputs": [
    {
     "data": {
      "text/plain": [
       "True"
      ]
     },
     "execution_count": 153,
     "metadata": {},
     "output_type": "execute_result"
    }
   ],
   "source": [
    "Set_1.issuperset(Set_2)"
   ]
  },
  {
   "cell_type": "code",
   "execution_count": 156,
   "id": "352ede18-ac30-47c0-84f9-f1d369896e2b",
   "metadata": {},
   "outputs": [
    {
     "ename": "TypeError",
     "evalue": "unsupported operand type(s) for +: 'set' and 'set'",
     "output_type": "error",
     "traceback": [
      "\u001b[1;31m---------------------------------------------------------------------------\u001b[0m",
      "\u001b[1;31mTypeError\u001b[0m                                 Traceback (most recent call last)",
      "Cell \u001b[1;32mIn[156], line 1\u001b[0m\n\u001b[1;32m----> 1\u001b[0m \u001b[43mSet_1\u001b[49m\u001b[38;5;241;43m+\u001b[39;49m\u001b[43mSet_2\u001b[49m\n",
      "\u001b[1;31mTypeError\u001b[0m: unsupported operand type(s) for +: 'set' and 'set'"
     ]
    }
   ],
   "source": [
    "Set_1+Set_2"
   ]
  },
  {
   "cell_type": "code",
   "execution_count": 168,
   "id": "9c4fe923-e9cb-4bc8-a2d7-9f5341d7fa16",
   "metadata": {},
   "outputs": [],
   "source": [
    "List_1 = [1,2,3,4,5]\n",
    "List_2 = (6,7,8,9,10)"
   ]
  },
  {
   "cell_type": "code",
   "execution_count": 171,
   "id": "ae302eb6-eff4-4823-9190-c1022c831bc5",
   "metadata": {},
   "outputs": [],
   "source": [
    "# String concatenation\n",
    "String_1 = \"I won\"\n",
    "String_2 = \"the match\""
   ]
  },
  {
   "cell_type": "code",
   "execution_count": 175,
   "id": "1990744a-5d5d-4769-9804-6bef7d5115a6",
   "metadata": {},
   "outputs": [
    {
     "data": {
      "text/plain": [
       "'I won the match'"
      ]
     },
     "execution_count": 175,
     "metadata": {},
     "output_type": "execute_result"
    }
   ],
   "source": [
    "String_1+ \" \" + String_2 # Sring concatenation"
   ]
  },
  {
   "cell_type": "code",
   "execution_count": null,
   "id": "fa32defa-1e85-44d3-81ca-f17bc1141eb4",
   "metadata": {},
   "outputs": [],
   "source": []
  },
  {
   "cell_type": "code",
   "execution_count": 176,
   "id": "0e0cf615-3a09-4470-bf4c-657308b9fd7e",
   "metadata": {},
   "outputs": [],
   "source": [
    "#List operations\n",
    "List = [1,2,3,4,5]"
   ]
  },
  {
   "cell_type": "code",
   "execution_count": 178,
   "id": "deaa2342-11b6-41bf-bbcd-317f339cc177",
   "metadata": {},
   "outputs": [
    {
     "data": {
      "text/plain": [
       "5"
      ]
     },
     "execution_count": 178,
     "metadata": {},
     "output_type": "execute_result"
    }
   ],
   "source": [
    "max(List)"
   ]
  },
  {
   "cell_type": "code",
   "execution_count": 179,
   "id": "b2964cd1-8f06-4620-9576-1e7a0decd9bc",
   "metadata": {},
   "outputs": [
    {
     "data": {
      "text/plain": [
       "1"
      ]
     },
     "execution_count": 179,
     "metadata": {},
     "output_type": "execute_result"
    }
   ],
   "source": [
    "min(List)"
   ]
  },
  {
   "cell_type": "code",
   "execution_count": 180,
   "id": "565e3f11-86a6-41fa-8df6-a1b25dd2eff6",
   "metadata": {},
   "outputs": [
    {
     "data": {
      "text/plain": [
       "15"
      ]
     },
     "execution_count": 180,
     "metadata": {},
     "output_type": "execute_result"
    }
   ],
   "source": [
    "sum(List)"
   ]
  },
  {
   "cell_type": "markdown",
   "id": "aee2aa6d-8aa8-449a-b907-c41813161046",
   "metadata": {},
   "source": [
    "# Loops\n",
    "for loop\n",
    "while loop\n",
    "COnditional statments:\n",
    "if \n",
    "if else\n",
    "elif\n",
    "else"
   ]
  },
  {
   "cell_type": "code",
   "execution_count": 194,
   "id": "6933cd2f-5e1f-42c6-929c-64a6d281065c",
   "metadata": {},
   "outputs": [],
   "source": [
    "# What is conditional statment\n",
    "Age = 26"
   ]
  },
  {
   "cell_type": "code",
   "execution_count": 195,
   "id": "cf477126-1e28-410b-8c9e-3b14d56398b6",
   "metadata": {},
   "outputs": [
    {
     "data": {
      "text/plain": [
       "175.12"
      ]
     },
     "execution_count": 195,
     "metadata": {},
     "output_type": "execute_result"
    }
   ],
   "source": [
    "Height"
   ]
  },
  {
   "cell_type": "code",
   "execution_count": 197,
   "id": "72699397-dcd3-4a4a-8ada-a7779d53d515",
   "metadata": {},
   "outputs": [
    {
     "name": "stdout",
     "output_type": "stream",
     "text": [
      "Shorter\n"
     ]
    }
   ],
   "source": [
    "if Age>25: #True\n",
    "    if Height<160:\n",
    "        print(\"Taller\")\n",
    "    else:\n",
    "        print(\"Shorter\")\n",
    "else:\n",
    "    print(\"failed\")"
   ]
  },
  {
   "cell_type": "code",
   "execution_count": 235,
   "id": "53bc4b77-1320-4233-af3c-233cec3b551b",
   "metadata": {},
   "outputs": [],
   "source": [
    "# Getting user input\n",
    "# we need a program to get to inputs from the user and store it in the variables\n",
    "balance = 1000"
   ]
  },
  {
   "cell_type": "code",
   "execution_count": 243,
   "id": "8a0b9095-ad6c-46fa-8938-bb1850ad728c",
   "metadata": {},
   "outputs": [
    {
     "name": "stdin",
     "output_type": "stream",
     "text": [
      "Please enter your name Stephen\n"
     ]
    }
   ],
   "source": [
    "Name = input('Please enter your name')"
   ]
  },
  {
   "cell_type": "code",
   "execution_count": 236,
   "id": "2bdd9f7f-849d-4766-88d6-d9d4a562cb55",
   "metadata": {},
   "outputs": [
    {
     "name": "stdin",
     "output_type": "stream",
     "text": [
      " 1000\n"
     ]
    }
   ],
   "source": [
    "Input_2 = input()"
   ]
  },
  {
   "cell_type": "code",
   "execution_count": 209,
   "id": "c04fad50-f7ae-4052-85a9-ddf5c5c979eb",
   "metadata": {},
   "outputs": [],
   "source": [
    "#If the user types alphabets, i want \"Please enter numbers\"\n",
    "# if the user give more then the avaialble value, return \"YOu don thave sufficent funds\"\n",
    "#Bank don't provide zero balance\n",
    "#User input is  > input 1 \"Hi, You have 1000 rupees in your account, kindly enter lower amount\""
   ]
  },
  {
   "cell_type": "code",
   "execution_count": 244,
   "id": "07c971c8-bbb4-4b7a-b0d6-c83030ddb909",
   "metadata": {},
   "outputs": [
    {
     "name": "stdout",
     "output_type": "stream",
     "text": [
      "Hi Stephen, you have balance of 1000. Kindly enter lesser amount\n"
     ]
    }
   ],
   "source": [
    "# To compare the user input 1 and 2 and let them know the output\n",
    "if Input_2.isnumeric():\n",
    "    if int(Input_2)>=balance:\n",
    "        print(f\"Hi {Name}, you have balance of {balance}. Kindly enter lesser amount\") # format\n",
    "else:\n",
    "    print(\"Please enter numbers\")"
   ]
  },
  {
   "cell_type": "code",
   "execution_count": 225,
   "id": "5fd97a05-dbae-4d87-a8e8-3e22e54eac85",
   "metadata": {},
   "outputs": [
    {
     "ename": "ValueError",
     "evalue": "invalid literal for int() with base 10: 'A'",
     "output_type": "error",
     "traceback": [
      "\u001b[1;31m---------------------------------------------------------------------------\u001b[0m",
      "\u001b[1;31mValueError\u001b[0m                                Traceback (most recent call last)",
      "Cell \u001b[1;32mIn[225], line 1\u001b[0m\n\u001b[1;32m----> 1\u001b[0m \u001b[38;5;28;01mif\u001b[39;00m \u001b[38;5;28;43mint\u001b[39;49m\u001b[43m(\u001b[49m\u001b[43mInput_2\u001b[49m\u001b[43m)\u001b[49m\u001b[38;5;241m>\u001b[39m\u001b[38;5;241m=\u001b[39mInput_1:\n\u001b[0;32m      2\u001b[0m         \u001b[38;5;28mprint\u001b[39m(\u001b[38;5;124m\"\u001b[39m\u001b[38;5;124mHey, You dont have sufficient Funds\u001b[39m\u001b[38;5;124m\"\u001b[39m)\n",
      "\u001b[1;31mValueError\u001b[0m: invalid literal for int() with base 10: 'A'"
     ]
    }
   ],
   "source": [
    "if int(Input_2)>=Input_1:\n",
    "        print(\"Hey, You dont have sufficient Funds\")"
   ]
  },
  {
   "cell_type": "code",
   "execution_count": null,
   "id": "4ac4082e-66da-4f36-bb40-e20cfcddf648",
   "metadata": {},
   "outputs": [],
   "source": []
  }
 ],
 "metadata": {
  "kernelspec": {
   "display_name": "Python 3 (ipykernel)",
   "language": "python",
   "name": "python3"
  },
  "language_info": {
   "codemirror_mode": {
    "name": "ipython",
    "version": 3
   },
   "file_extension": ".py",
   "mimetype": "text/x-python",
   "name": "python",
   "nbconvert_exporter": "python",
   "pygments_lexer": "ipython3",
   "version": "3.11.5"
  }
 },
 "nbformat": 4,
 "nbformat_minor": 5
}
