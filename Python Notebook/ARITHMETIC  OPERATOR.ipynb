{
 "cells": [
  {
   "cell_type": "markdown",
   "id": "aa70654a",
   "metadata": {},
   "source": [
    "#                          ARITHMETIC OPERATOR\n",
    "\n",
    "\n",
    "    -  Arithmetic operators are used with numeric values \n",
    "    -  to perform common mathematical operations:"
   ]
  },
  {
   "cell_type": "markdown",
   "id": "e5c5f450",
   "metadata": {},
   "source": [
    "##  Types of Arithmetic Operators :\n",
    "\n",
    "    - Addition (+)\n",
    "    - Subtraction (-)\n",
    "    - Multiplication (*)\n",
    "    - Division (/)\n",
    "    - floor division(//)\n",
    "    - Modulus (%)\n",
    "    - exponential or power (**)"
   ]
  },
  {
   "cell_type": "code",
   "execution_count": 1,
   "id": "9decd7bf",
   "metadata": {},
   "outputs": [
    {
     "name": "stdout",
     "output_type": "stream",
     "text": [
      "12\n"
     ]
    }
   ],
   "source": [
    "# 1) Addition (+)  \n",
    "\n",
    "a = 10\n",
    "b = 2\n",
    "\n",
    "c = a + b\n",
    "\n",
    "print(c)     # 12"
   ]
  },
  {
   "cell_type": "code",
   "execution_count": 3,
   "id": "b4b7d1b8",
   "metadata": {},
   "outputs": [
    {
     "name": "stdout",
     "output_type": "stream",
     "text": [
      "8\n"
     ]
    }
   ],
   "source": [
    "# 2) Subtraction (-)\n",
    "\n",
    "a = 10\n",
    "b = 2\n",
    "\n",
    "c = a - b\n",
    "\n",
    "print(c)   # 8"
   ]
  },
  {
   "cell_type": "code",
   "execution_count": 4,
   "id": "2dffcc8b",
   "metadata": {},
   "outputs": [
    {
     "name": "stdout",
     "output_type": "stream",
     "text": [
      "20\n"
     ]
    }
   ],
   "source": [
    "# 3) Multiplication (*)\n",
    "\n",
    "a = 10\n",
    "b = 2\n",
    "\n",
    "c = a * b\n",
    "\n",
    "print(c)   # 20"
   ]
  },
  {
   "cell_type": "code",
   "execution_count": 5,
   "id": "a7235072",
   "metadata": {},
   "outputs": [
    {
     "name": "stdout",
     "output_type": "stream",
     "text": [
      "5.0\n"
     ]
    }
   ],
   "source": [
    "# 4) Division (/)  -> returns 'Float'\n",
    "\n",
    "a = 10\n",
    "b = 2\n",
    "\n",
    "c = a / b\n",
    "\n",
    "print(c)  # 5.0"
   ]
  },
  {
   "cell_type": "code",
   "execution_count": 6,
   "id": "03df574f",
   "metadata": {},
   "outputs": [
    {
     "name": "stdout",
     "output_type": "stream",
     "text": [
      "5\n"
     ]
    }
   ],
   "source": [
    "# 5) floor division(//)  -> returns \"Quotient\"\n",
    "\n",
    "a = 10\n",
    "b = 2\n",
    "\n",
    "c = a // b\n",
    "\n",
    "print(c)   # 5"
   ]
  },
  {
   "cell_type": "code",
   "execution_count": 1,
   "id": "adaae7ee",
   "metadata": {},
   "outputs": [
    {
     "name": "stdout",
     "output_type": "stream",
     "text": [
      "0\n"
     ]
    }
   ],
   "source": [
    "# 6) Modulus (%)  - returns \"Remainder\"\n",
    "\n",
    "a = 10\n",
    "b = 2\n",
    "\n",
    "c = a % b\n",
    "\n",
    "print(c)"
   ]
  },
  {
   "cell_type": "code",
   "execution_count": 7,
   "id": "fab3de0f",
   "metadata": {},
   "outputs": [
    {
     "name": "stdout",
     "output_type": "stream",
     "text": [
      "100\n"
     ]
    }
   ],
   "source": [
    "# 7) exponential or power (**)\n",
    "\n",
    "a = 10\n",
    "b = 2\n",
    "\n",
    "c = a ** b    # 10 * 2 \n",
    "\n",
    "print(c)     # 100\n",
    "           "
   ]
  }
 ],
 "metadata": {
  "kernelspec": {
   "display_name": "Python 3 (ipykernel)",
   "language": "python",
   "name": "python3"
  },
  "language_info": {
   "codemirror_mode": {
    "name": "ipython",
    "version": 3
   },
   "file_extension": ".py",
   "mimetype": "text/x-python",
   "name": "python",
   "nbconvert_exporter": "python",
   "pygments_lexer": "ipython3",
   "version": "3.12.1"
  }
 },
 "nbformat": 4,
 "nbformat_minor": 5
}
