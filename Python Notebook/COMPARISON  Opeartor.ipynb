{
 "cells": [
  {
   "cell_type": "markdown",
   "id": "65a00ce8",
   "metadata": {},
   "source": [
    "#                       COMPARISON  Operator\n",
    "\n",
    "      - used to compare two values\n",
    "      \n",
    "      \n",
    "# Types of Comparison Operators :\n"
   ]
  },
  {
   "cell_type": "code",
   "execution_count": 3,
   "id": "afc79dc3",
   "metadata": {},
   "outputs": [
    {
     "name": "stdout",
     "output_type": "stream",
     "text": [
      "True\n"
     ]
    }
   ],
   "source": [
    "# 1)  Equal (==)\n",
    "\n",
    "a = 10\n",
    "b = 10\n",
    "\n",
    "c = (a==b)\n",
    "print(c)      # True"
   ]
  },
  {
   "cell_type": "code",
   "execution_count": 2,
   "id": "80e30034",
   "metadata": {},
   "outputs": [
    {
     "name": "stdout",
     "output_type": "stream",
     "text": [
      "True\n"
     ]
    }
   ],
   "source": [
    "# 2)  Not Equal (!=)\n",
    "\n",
    "a = 10\n",
    "b = 20\n",
    "\n",
    "c = (a!=b)\n",
    "print(c)   # True"
   ]
  },
  {
   "cell_type": "code",
   "execution_count": 4,
   "id": "7e94fe57",
   "metadata": {},
   "outputs": [
    {
     "name": "stdout",
     "output_type": "stream",
     "text": [
      "False\n"
     ]
    }
   ],
   "source": [
    "# 3) Greater than (>)\n",
    "\n",
    "a = 10\n",
    "b = 20\n",
    "\n",
    "c = (a>b)\n",
    "print(c)   # False"
   ]
  },
  {
   "cell_type": "code",
   "execution_count": 5,
   "id": "5bdc09f3",
   "metadata": {},
   "outputs": [
    {
     "name": "stdout",
     "output_type": "stream",
     "text": [
      "True\n"
     ]
    }
   ],
   "source": [
    "# 4) Greater than or equal to (>=)\n",
    "\n",
    "a = 20\n",
    "b = 20\n",
    "\n",
    "c = (a>=b)\n",
    "print(c)   # True"
   ]
  },
  {
   "cell_type": "code",
   "execution_count": 7,
   "id": "9fc0d8a7",
   "metadata": {},
   "outputs": [
    {
     "name": "stdout",
     "output_type": "stream",
     "text": [
      "True\n"
     ]
    }
   ],
   "source": [
    "# 5) Less than (<)\n",
    "\n",
    "a = 10\n",
    "b = 20\n",
    "\n",
    "c = (a<b)\n",
    "print(c)   # True"
   ]
  },
  {
   "cell_type": "code",
   "execution_count": 8,
   "id": "c5b8a483",
   "metadata": {},
   "outputs": [
    {
     "name": "stdout",
     "output_type": "stream",
     "text": [
      "False\n"
     ]
    }
   ],
   "source": [
    "# 6) Less than or equal to (<=)\n",
    "\n",
    "a = 21\n",
    "b = 20\n",
    "\n",
    "c = (a<=b)\n",
    "print(c)   # False"
   ]
  }
 ],
 "metadata": {
  "kernelspec": {
   "display_name": "Python 3 (ipykernel)",
   "language": "python",
   "name": "python3"
  },
  "language_info": {
   "codemirror_mode": {
    "name": "ipython",
    "version": 3
   },
   "file_extension": ".py",
   "mimetype": "text/x-python",
   "name": "python",
   "nbconvert_exporter": "python",
   "pygments_lexer": "ipython3",
   "version": "3.11.5"
  }
 },
 "nbformat": 4,
 "nbformat_minor": 5
}
