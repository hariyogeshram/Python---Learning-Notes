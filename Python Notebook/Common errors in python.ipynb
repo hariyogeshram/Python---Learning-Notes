{
 "cells": [
  {
   "cell_type": "markdown",
   "id": "9c1e24ce-83fb-4a49-a9c0-341840c82c8a",
   "metadata": {},
   "source": [
    "### Syntax Error\n",
    "Whenever there is issues with the sysntax of the python language code, we get syntax error"
   ]
  },
  {
   "cell_type": "code",
   "execution_count": 3,
   "id": "7f986015-ca23-4410-b6e1-e0b305134be3",
   "metadata": {},
   "outputs": [
    {
     "ename": "SyntaxError",
     "evalue": "expected ':' (3843500235.py, line 1)",
     "output_type": "error",
     "traceback": [
      "\u001b[1;36m  Cell \u001b[1;32mIn[3], line 1\u001b[1;36m\u001b[0m\n\u001b[1;33m    for i in range(1)\u001b[0m\n\u001b[1;37m                     ^\u001b[0m\n\u001b[1;31mSyntaxError\u001b[0m\u001b[1;31m:\u001b[0m expected ':'\n"
     ]
    }
   ],
   "source": [
    "for i in range(1)"
   ]
  },
  {
   "cell_type": "code",
   "execution_count": 5,
   "id": "b4a14e11-2264-4f78-ac98-b01eb0015542",
   "metadata": {},
   "outputs": [
    {
     "ename": "SyntaxError",
     "evalue": "invalid syntax. Maybe you meant '==' or ':=' instead of '='? (4174209853.py, line 2)",
     "output_type": "error",
     "traceback": [
      "\u001b[1;36m  Cell \u001b[1;32mIn[5], line 2\u001b[1;36m\u001b[0m\n\u001b[1;33m    if A=1:\u001b[0m\n\u001b[1;37m       ^\u001b[0m\n\u001b[1;31mSyntaxError\u001b[0m\u001b[1;31m:\u001b[0m invalid syntax. Maybe you meant '==' or ':=' instead of '='?\n"
     ]
    }
   ],
   "source": [
    "A = 1\n",
    "if A=1:"
   ]
  },
  {
   "cell_type": "markdown",
   "id": "ecaf2f33-6e06-4174-a220-a00b65e6a34b",
   "metadata": {},
   "source": [
    "### Type Error"
   ]
  },
  {
   "cell_type": "code",
   "execution_count": 6,
   "id": "b728c714-4010-447d-9afb-4b661ed480a0",
   "metadata": {},
   "outputs": [],
   "source": [
    "String = \"India\""
   ]
  },
  {
   "cell_type": "code",
   "execution_count": 8,
   "id": "0659a9f3-5161-4eee-8b9a-5bcaa7a11854",
   "metadata": {},
   "outputs": [],
   "source": [
    "String_2 = \"is\""
   ]
  },
  {
   "cell_type": "code",
   "execution_count": 10,
   "id": "c7470fc2-8cb7-489d-9055-1bb724e5c542",
   "metadata": {},
   "outputs": [
    {
     "ename": "TypeError",
     "evalue": "can only concatenate str (not \"int\") to str",
     "output_type": "error",
     "traceback": [
      "\u001b[1;31m---------------------------------------------------------------------------\u001b[0m",
      "\u001b[1;31mTypeError\u001b[0m                                 Traceback (most recent call last)",
      "Cell \u001b[1;32mIn[10], line 1\u001b[0m\n\u001b[1;32m----> 1\u001b[0m \u001b[43mString\u001b[49m\u001b[43m \u001b[49m\u001b[38;5;241;43m+\u001b[39;49m\u001b[43m \u001b[49m\u001b[38;5;241;43m10\u001b[39;49m \n",
      "\u001b[1;31mTypeError\u001b[0m: can only concatenate str (not \"int\") to str"
     ]
    }
   ],
   "source": [
    "String + 10 "
   ]
  },
  {
   "cell_type": "code",
   "execution_count": 11,
   "id": "5ff37d45-1461-4ba1-a604-742ba95debaa",
   "metadata": {},
   "outputs": [
    {
     "ename": "TypeError",
     "evalue": "'>' not supported between instances of 'str' and 'int'",
     "output_type": "error",
     "traceback": [
      "\u001b[1;31m---------------------------------------------------------------------------\u001b[0m",
      "\u001b[1;31mTypeError\u001b[0m                                 Traceback (most recent call last)",
      "Cell \u001b[1;32mIn[11], line 1\u001b[0m\n\u001b[1;32m----> 1\u001b[0m \u001b[38;5;28;01mif\u001b[39;00m \u001b[43mString\u001b[49m\u001b[38;5;241;43m>\u001b[39;49m\u001b[38;5;241;43m10\u001b[39;49m:\n\u001b[0;32m      2\u001b[0m     \u001b[38;5;28mprint\u001b[39m(\u001b[38;5;124m\"\u001b[39m\u001b[38;5;124mError\u001b[39m\u001b[38;5;124m\"\u001b[39m)\n",
      "\u001b[1;31mTypeError\u001b[0m: '>' not supported between instances of 'str' and 'int'"
     ]
    }
   ],
   "source": [
    "if String>10:\n",
    "    print(\"Error\")"
   ]
  },
  {
   "cell_type": "markdown",
   "id": "64160263-e11d-4a2f-9b5d-c4d1ca02f775",
   "metadata": {},
   "source": [
    "### Name error"
   ]
  },
  {
   "cell_type": "code",
   "execution_count": 13,
   "id": "0a495c18-fdff-4ab6-ba76-4728b8567a26",
   "metadata": {},
   "outputs": [],
   "source": [
    "string = \"\""
   ]
  },
  {
   "cell_type": "code",
   "execution_count": 14,
   "id": "36ff35ba-6132-487e-bbc1-a485c17a5173",
   "metadata": {},
   "outputs": [
    {
     "data": {
      "text/plain": [
       "''"
      ]
     },
     "execution_count": 14,
     "metadata": {},
     "output_type": "execute_result"
    }
   ],
   "source": [
    "string"
   ]
  },
  {
   "cell_type": "code",
   "execution_count": 15,
   "id": "6a30d3eb-08f6-4075-8544-acfbf7f8acae",
   "metadata": {},
   "outputs": [
    {
     "ename": "NameError",
     "evalue": "name 'stringg' is not defined",
     "output_type": "error",
     "traceback": [
      "\u001b[1;31m---------------------------------------------------------------------------\u001b[0m",
      "\u001b[1;31mNameError\u001b[0m                                 Traceback (most recent call last)",
      "Cell \u001b[1;32mIn[15], line 1\u001b[0m\n\u001b[1;32m----> 1\u001b[0m \u001b[43mstringg\u001b[49m\n",
      "\u001b[1;31mNameError\u001b[0m: name 'stringg' is not defined"
     ]
    }
   ],
   "source": [
    "stringg"
   ]
  },
  {
   "cell_type": "markdown",
   "id": "ed97dfdb-92ec-4c68-9d74-b19c838c3bab",
   "metadata": {},
   "source": [
    "### Atribute error"
   ]
  },
  {
   "cell_type": "code",
   "execution_count": 16,
   "id": "06976b6a-e8c7-42b4-94c3-97e747f70255",
   "metadata": {},
   "outputs": [],
   "source": [
    "List = []"
   ]
  },
  {
   "cell_type": "code",
   "execution_count": 17,
   "id": "5dd4ffed-b094-4c9b-a035-e6adfbfe998d",
   "metadata": {},
   "outputs": [],
   "source": [
    "List.append(1)"
   ]
  },
  {
   "cell_type": "code",
   "execution_count": 18,
   "id": "fcedd9cb-9156-431a-80ca-199174046ed4",
   "metadata": {},
   "outputs": [
    {
     "data": {
      "text/plain": [
       "[1]"
      ]
     },
     "execution_count": 18,
     "metadata": {},
     "output_type": "execute_result"
    }
   ],
   "source": [
    "List"
   ]
  },
  {
   "cell_type": "code",
   "execution_count": 19,
   "id": "04b94c60-0375-4f6a-be81-5d02d210dde0",
   "metadata": {},
   "outputs": [],
   "source": [
    "tuple = ()"
   ]
  },
  {
   "cell_type": "code",
   "execution_count": 20,
   "id": "6d3a5d92-b334-4fd3-936d-8ae835655c7f",
   "metadata": {},
   "outputs": [
    {
     "ename": "AttributeError",
     "evalue": "'tuple' object has no attribute 'append'",
     "output_type": "error",
     "traceback": [
      "\u001b[1;31m---------------------------------------------------------------------------\u001b[0m",
      "\u001b[1;31mAttributeError\u001b[0m                            Traceback (most recent call last)",
      "Cell \u001b[1;32mIn[20], line 1\u001b[0m\n\u001b[1;32m----> 1\u001b[0m \u001b[38;5;28;43mtuple\u001b[39;49m\u001b[38;5;241;43m.\u001b[39;49m\u001b[43mappend\u001b[49m(\u001b[38;5;241m1\u001b[39m)\n",
      "\u001b[1;31mAttributeError\u001b[0m: 'tuple' object has no attribute 'append'"
     ]
    }
   ],
   "source": [
    "tuple.append(1)"
   ]
  },
  {
   "cell_type": "code",
   "execution_count": 23,
   "id": "b835d41c-d2bd-4259-ba7f-b1211586e7cd",
   "metadata": {},
   "outputs": [
    {
     "ename": "AttributeError",
     "evalue": "'str' object has no attribute 'append'",
     "output_type": "error",
     "traceback": [
      "\u001b[1;31m---------------------------------------------------------------------------\u001b[0m",
      "\u001b[1;31mAttributeError\u001b[0m                            Traceback (most recent call last)",
      "Cell \u001b[1;32mIn[23], line 1\u001b[0m\n\u001b[1;32m----> 1\u001b[0m \u001b[43mstring\u001b[49m\u001b[38;5;241;43m.\u001b[39;49m\u001b[43mappend\u001b[49m(\u001b[38;5;124m\"\u001b[39m\u001b[38;5;124mI\u001b[39m\u001b[38;5;124m\"\u001b[39m)\n",
      "\u001b[1;31mAttributeError\u001b[0m: 'str' object has no attribute 'append'"
     ]
    }
   ],
   "source": [
    "string.append(\"I\")"
   ]
  },
  {
   "cell_type": "code",
   "execution_count": 24,
   "id": "83955d81-3d87-4dcb-9641-47d28bb94cff",
   "metadata": {},
   "outputs": [
    {
     "data": {
      "text/plain": [
       "[]"
      ]
     },
     "execution_count": 24,
     "metadata": {},
     "output_type": "execute_result"
    }
   ],
   "source": [
    "string.split()"
   ]
  },
  {
   "cell_type": "code",
   "execution_count": 25,
   "id": "9729ab0e-85b8-4ebb-819e-9685d55aced9",
   "metadata": {},
   "outputs": [
    {
     "ename": "AttributeError",
     "evalue": "'list' object has no attribute 'split'",
     "output_type": "error",
     "traceback": [
      "\u001b[1;31m---------------------------------------------------------------------------\u001b[0m",
      "\u001b[1;31mAttributeError\u001b[0m                            Traceback (most recent call last)",
      "Cell \u001b[1;32mIn[25], line 1\u001b[0m\n\u001b[1;32m----> 1\u001b[0m \u001b[43mList\u001b[49m\u001b[38;5;241;43m.\u001b[39;49m\u001b[43msplit\u001b[49m()\n",
      "\u001b[1;31mAttributeError\u001b[0m: 'list' object has no attribute 'split'"
     ]
    }
   ],
   "source": [
    "List.split()"
   ]
  },
  {
   "cell_type": "markdown",
   "id": "222fc00b-6561-4f04-b477-f81aaa9afd86",
   "metadata": {},
   "source": [
    "### Import Error"
   ]
  },
  {
   "cell_type": "code",
   "execution_count": 26,
   "id": "b56f52fb-bfe4-4ad5-8813-dedc0db996f6",
   "metadata": {},
   "outputs": [
    {
     "ename": "ModuleNotFoundError",
     "evalue": "No module named 'pillow'",
     "output_type": "error",
     "traceback": [
      "\u001b[1;31m---------------------------------------------------------------------------\u001b[0m",
      "\u001b[1;31mModuleNotFoundError\u001b[0m                       Traceback (most recent call last)",
      "Cell \u001b[1;32mIn[26], line 1\u001b[0m\n\u001b[1;32m----> 1\u001b[0m \u001b[38;5;28;01mimport\u001b[39;00m \u001b[38;5;21;01mpillow\u001b[39;00m\n",
      "\u001b[1;31mModuleNotFoundError\u001b[0m: No module named 'pillow'"
     ]
    }
   ],
   "source": [
    "import pillow"
   ]
  },
  {
   "cell_type": "code",
   "execution_count": 27,
   "id": "cddb963d-2791-42e1-b22c-d6c9fd241ccd",
   "metadata": {},
   "outputs": [],
   "source": [
    "import pandas"
   ]
  },
  {
   "cell_type": "markdown",
   "id": "391a0804-abe6-48c2-a809-c02f239a7c44",
   "metadata": {},
   "source": [
    "### Indendation error"
   ]
  },
  {
   "cell_type": "code",
   "execution_count": 29,
   "id": "c21e17aa-cc48-407a-b66e-5629f4cb490e",
   "metadata": {},
   "outputs": [
    {
     "ename": "IndentationError",
     "evalue": "expected an indented block after 'for' statement on line 2 (3572160967.py, line 3)",
     "output_type": "error",
     "traceback": [
      "\u001b[1;36m  Cell \u001b[1;32mIn[29], line 3\u001b[1;36m\u001b[0m\n\u001b[1;33m    print(i)\u001b[0m\n\u001b[1;37m    ^\u001b[0m\n\u001b[1;31mIndentationError\u001b[0m\u001b[1;31m:\u001b[0m expected an indented block after 'for' statement on line 2\n"
     ]
    }
   ],
   "source": [
    "for i in range(10):\n",
    "print(i)"
   ]
  },
  {
   "cell_type": "code",
   "execution_count": 31,
   "id": "d700a959-953c-4c72-8a43-ea8db7bc52af",
   "metadata": {},
   "outputs": [
    {
     "ename": "SyntaxError",
     "evalue": "incomplete input (1972804568.py, line 1)",
     "output_type": "error",
     "traceback": [
      "\u001b[1;36m  Cell \u001b[1;32mIn[31], line 1\u001b[1;36m\u001b[0m\n\u001b[1;33m    if A>B:\u001b[0m\n\u001b[1;37m           ^\u001b[0m\n\u001b[1;31mSyntaxError\u001b[0m\u001b[1;31m:\u001b[0m incomplete input\n"
     ]
    }
   ],
   "source": [
    "if A>B:\n"
   ]
  },
  {
   "cell_type": "markdown",
   "id": "014864b5-75cf-4702-9e2f-ee8a13041a2d",
   "metadata": {},
   "source": [
    "### Index error"
   ]
  },
  {
   "cell_type": "code",
   "execution_count": 32,
   "id": "b35b795f-cc46-46de-9eb6-b2316ca2250d",
   "metadata": {},
   "outputs": [
    {
     "data": {
      "text/plain": [
       "[1]"
      ]
     },
     "execution_count": 32,
     "metadata": {},
     "output_type": "execute_result"
    }
   ],
   "source": [
    "List"
   ]
  },
  {
   "cell_type": "code",
   "execution_count": 33,
   "id": "0de3ef96-9cfa-47e8-a5b3-55c5eb2116cf",
   "metadata": {},
   "outputs": [
    {
     "data": {
      "text/plain": [
       "1"
      ]
     },
     "execution_count": 33,
     "metadata": {},
     "output_type": "execute_result"
    }
   ],
   "source": [
    "List[0]"
   ]
  },
  {
   "cell_type": "code",
   "execution_count": 34,
   "id": "ed05cc1f-d1c3-43ea-9653-f349e81b7771",
   "metadata": {},
   "outputs": [
    {
     "ename": "IndexError",
     "evalue": "list index out of range",
     "output_type": "error",
     "traceback": [
      "\u001b[1;31m---------------------------------------------------------------------------\u001b[0m",
      "\u001b[1;31mIndexError\u001b[0m                                Traceback (most recent call last)",
      "Cell \u001b[1;32mIn[34], line 1\u001b[0m\n\u001b[1;32m----> 1\u001b[0m \u001b[43mList\u001b[49m\u001b[43m[\u001b[49m\u001b[38;5;241;43m1\u001b[39;49m\u001b[43m]\u001b[49m\n",
      "\u001b[1;31mIndexError\u001b[0m: list index out of range"
     ]
    }
   ],
   "source": [
    "List[1]"
   ]
  },
  {
   "cell_type": "code",
   "execution_count": 35,
   "id": "4cb01f8b-cc39-40bf-a295-fc9b63dfd467",
   "metadata": {},
   "outputs": [],
   "source": [
    "tuple = (1,2,3,4,5)"
   ]
  },
  {
   "cell_type": "code",
   "execution_count": 36,
   "id": "5fa1fa4e-a135-4d55-88fd-b6a210153ac3",
   "metadata": {},
   "outputs": [
    {
     "ename": "IndexError",
     "evalue": "tuple index out of range",
     "output_type": "error",
     "traceback": [
      "\u001b[1;31m---------------------------------------------------------------------------\u001b[0m",
      "\u001b[1;31mIndexError\u001b[0m                                Traceback (most recent call last)",
      "Cell \u001b[1;32mIn[36], line 1\u001b[0m\n\u001b[1;32m----> 1\u001b[0m \u001b[38;5;28;43mtuple\u001b[39;49m\u001b[43m[\u001b[49m\u001b[38;5;241;43m6\u001b[39;49m\u001b[43m]\u001b[49m\n",
      "\u001b[1;31mIndexError\u001b[0m: tuple index out of range"
     ]
    }
   ],
   "source": [
    "tuple[6]"
   ]
  },
  {
   "cell_type": "markdown",
   "id": "f57bf8c5-d556-49d9-8c67-aff722b593a4",
   "metadata": {},
   "source": [
    "### Value error"
   ]
  },
  {
   "cell_type": "code",
   "execution_count": 37,
   "id": "7598060a-97ab-46c0-ab33-039779feed99",
   "metadata": {},
   "outputs": [
    {
     "name": "stdin",
     "output_type": "stream",
     "text": [
      " 1A\n"
     ]
    },
    {
     "ename": "ValueError",
     "evalue": "invalid literal for int() with base 10: '1A'",
     "output_type": "error",
     "traceback": [
      "\u001b[1;31m---------------------------------------------------------------------------\u001b[0m",
      "\u001b[1;31mValueError\u001b[0m                                Traceback (most recent call last)",
      "Cell \u001b[1;32mIn[37], line 1\u001b[0m\n\u001b[1;32m----> 1\u001b[0m \u001b[38;5;28;43mint\u001b[39;49m\u001b[43m(\u001b[49m\u001b[38;5;28;43minput\u001b[39;49m\u001b[43m(\u001b[49m\u001b[43m)\u001b[49m\u001b[43m)\u001b[49m\n",
      "\u001b[1;31mValueError\u001b[0m: invalid literal for int() with base 10: '1A'"
     ]
    }
   ],
   "source": [
    "int(input())"
   ]
  },
  {
   "cell_type": "code",
   "execution_count": 38,
   "id": "a63a3f6b-d26a-41a9-b0fa-adcabc87fd2d",
   "metadata": {},
   "outputs": [
    {
     "data": {
      "text/plain": [
       "'1'"
      ]
     },
     "execution_count": 38,
     "metadata": {},
     "output_type": "execute_result"
    }
   ],
   "source": [
    "str(1)"
   ]
  },
  {
   "cell_type": "code",
   "execution_count": 41,
   "id": "b5197f06-9ee1-4ba4-adab-9f9a47eb8f12",
   "metadata": {},
   "outputs": [
    {
     "ename": "ValueError",
     "evalue": "invalid literal for int() with base 10: 'A'",
     "output_type": "error",
     "traceback": [
      "\u001b[1;31m---------------------------------------------------------------------------\u001b[0m",
      "\u001b[1;31mValueError\u001b[0m                                Traceback (most recent call last)",
      "Cell \u001b[1;32mIn[41], line 1\u001b[0m\n\u001b[1;32m----> 1\u001b[0m \u001b[38;5;28;43mint\u001b[39;49m\u001b[43m(\u001b[49m\u001b[38;5;124;43m'\u001b[39;49m\u001b[38;5;124;43mA\u001b[39;49m\u001b[38;5;124;43m'\u001b[39;49m\u001b[43m)\u001b[49m\n",
      "\u001b[1;31mValueError\u001b[0m: invalid literal for int() with base 10: 'A'"
     ]
    }
   ],
   "source": [
    "int('A')"
   ]
  },
  {
   "cell_type": "code",
   "execution_count": null,
   "id": "b182e81b-9c65-497a-90c0-f3010ec81563",
   "metadata": {},
   "outputs": [],
   "source": []
  },
  {
   "cell_type": "code",
   "execution_count": null,
   "id": "8424649d-eee6-4847-ab93-d9865002bb39",
   "metadata": {},
   "outputs": [],
   "source": []
  }
 ],
 "metadata": {
  "kernelspec": {
   "display_name": "Python 3 (ipykernel)",
   "language": "python",
   "name": "python3"
  },
  "language_info": {
   "codemirror_mode": {
    "name": "ipython",
    "version": 3
   },
   "file_extension": ".py",
   "mimetype": "text/x-python",
   "name": "python",
   "nbconvert_exporter": "python",
   "pygments_lexer": "ipython3",
   "version": "3.11.5"
  }
 },
 "nbformat": 4,
 "nbformat_minor": 5
}
