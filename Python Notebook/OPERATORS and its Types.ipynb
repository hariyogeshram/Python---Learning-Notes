{
 "cells": [
  {
   "cell_type": "markdown",
   "id": "0ef57f0d",
   "metadata": {},
   "source": [
    "#                               OPERATORS\n",
    "\n",
    "\n",
    "         - Used to perform operations on \"Variables\" and \"Values\".\n",
    "       "
   ]
  },
  {
   "cell_type": "markdown",
   "id": "88b31dc7",
   "metadata": {},
   "source": [
    "##    Types of Operators :\n",
    "\n",
    "      1) Arithmetic operator\n",
    "      2) Assignment operator\n",
    "      3) Comparison operator\n",
    "      4) Logical operator\n",
    "      5) Identity operator\n",
    "      6) Membership operator\n",
    "      7) Bitwise operator\n",
    "      "
   ]
  }
 ],
 "metadata": {
  "kernelspec": {
   "display_name": "Python 3 (ipykernel)",
   "language": "python",
   "name": "python3"
  },
  "language_info": {
   "codemirror_mode": {
    "name": "ipython",
    "version": 3
   },
   "file_extension": ".py",
   "mimetype": "text/x-python",
   "name": "python",
   "nbconvert_exporter": "python",
   "pygments_lexer": "ipython3",
   "version": "3.11.5"
  }
 },
 "nbformat": 4,
 "nbformat_minor": 5
}
