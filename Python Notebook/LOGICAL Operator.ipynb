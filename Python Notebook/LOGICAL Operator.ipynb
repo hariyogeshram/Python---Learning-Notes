{
 "cells": [
  {
   "cell_type": "markdown",
   "id": "0ac0e202",
   "metadata": {},
   "source": [
    "#                        LOGICAL  Opeartor\n",
    "\n",
    "      \n",
    "      -   used to combine conditional statements\n",
    "      \n",
    "      \n",
    "### Types of Logical Operator :\n"
   ]
  },
  {
   "cell_type": "code",
   "execution_count": 4,
   "id": "e95b9787",
   "metadata": {},
   "outputs": [
    {
     "name": "stdout",
     "output_type": "stream",
     "text": [
      "False\n",
      "True\n"
     ]
    }
   ],
   "source": [
    "#  (and) - Returns True, if both the operands are True\n",
    "\n",
    "a = 10\n",
    "b = 12\n",
    "\n",
    "print(a>b and a<b)   # False\n",
    "print(a<b and a<=b)  # True"
   ]
  },
  {
   "cell_type": "code",
   "execution_count": 6,
   "id": "2006caef",
   "metadata": {},
   "outputs": [
    {
     "name": "stdout",
     "output_type": "stream",
     "text": [
      "True\n",
      "True\n"
     ]
    }
   ],
   "source": [
    "#  (or)  - Returns True, if one of the operands are True\n",
    "\n",
    "a = 10\n",
    "b = 12\n",
    "\n",
    "print(a>b or a<b)   # True\n",
    "print(a<b or a<=b)  # True"
   ]
  },
  {
   "cell_type": "code",
   "execution_count": 7,
   "id": "33e50ee6",
   "metadata": {},
   "outputs": [
    {
     "name": "stdout",
     "output_type": "stream",
     "text": [
      "False\n"
     ]
    }
   ],
   "source": [
    "#  (not) - Returns True , if operands is False (Reverse the Result)\n",
    "\n",
    "a = True\n",
    "print( not a) #  False"
   ]
  }
 ],
 "metadata": {
  "kernelspec": {
   "display_name": "Python 3 (ipykernel)",
   "language": "python",
   "name": "python3"
  },
  "language_info": {
   "codemirror_mode": {
    "name": "ipython",
    "version": 3
   },
   "file_extension": ".py",
   "mimetype": "text/x-python",
   "name": "python",
   "nbconvert_exporter": "python",
   "pygments_lexer": "ipython3",
   "version": "3.11.5"
  }
 },
 "nbformat": 4,
 "nbformat_minor": 5
}
