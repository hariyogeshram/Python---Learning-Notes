{
 "cells": [
  {
   "cell_type": "markdown",
   "id": "5eeeb231",
   "metadata": {},
   "source": [
    "###                                      INPUT() Functions\n",
    "\n",
    "-  input() function takes input from the user and returns it.\n",
    "-  Converts it into a String\n",
    "\n",
    "-  Type of returned object -> <class 'str'>\n"
   ]
  },
  {
   "cell_type": "markdown",
   "id": "2f31e7f7",
   "metadata": {},
   "source": [
    "###    Syntax :  \n",
    "\n",
    "                      input(prompt)\n",
    "                      \n",
    " -  By Default, the function doesn't require any parameters;\n",
    " -  however, there is one optional parameter    ->   'prompt'  \n",
    " \n",
    " -  prompt -> Text displayed before the user input.\n",
    " \n",
    " \n",
    "                      "
   ]
  },
  {
   "cell_type": "markdown",
   "id": "de59788b",
   "metadata": {},
   "source": [
    "#### How the input() works ?\n",
    "\n",
    "-  When the input() is called\n",
    "-  it stops the program\n",
    "-  waits for the user's input\n",
    "-  when the user presses the ENTER\n",
    "-  the program resumes\n",
    "-  returns what the user typed."
   ]
  },
  {
   "cell_type": "code",
   "execution_count": 1,
   "id": "0ccd9818",
   "metadata": {},
   "outputs": [
    {
     "data": {
      "text/plain": [
       "''"
      ]
     },
     "execution_count": 1,
     "metadata": {},
     "output_type": "execute_result"
    }
   ],
   "source": [
    "# Examples :\n",
    "\n",
    "input()"
   ]
  },
  {
   "cell_type": "code",
   "execution_count": 2,
   "id": "0566bdc6",
   "metadata": {},
   "outputs": [
    {
     "data": {
      "text/plain": [
       "'Hari'"
      ]
     },
     "execution_count": 2,
     "metadata": {},
     "output_type": "execute_result"
    }
   ],
   "source": [
    "# Examples        using Parameter 'Prompt'\n",
    "\n",
    "input(\"Enter your Name : \")"
   ]
  },
  {
   "cell_type": "code",
   "execution_count": 3,
   "id": "914c7699",
   "metadata": {},
   "outputs": [
    {
     "name": "stdout",
     "output_type": "stream",
     "text": [
      "24\n",
      "<class 'str'>\n"
     ]
    }
   ],
   "source": [
    "# how to identify the type          \n",
    "\n",
    "         #   syntax :      type(variable)\n",
    "    \n",
    "# Examples :    \n",
    "\n",
    "Age = input(\"Enter your age : \")\n",
    "print(Age)\n",
    "\n",
    "print(type(Age))"
   ]
  },
  {
   "cell_type": "code",
   "execution_count": 4,
   "id": "29514ef3",
   "metadata": {},
   "outputs": [
    {
     "name": "stdout",
     "output_type": "stream",
     "text": [
      "24\n",
      "<class 'int'>\n"
     ]
    }
   ],
   "source": [
    "# integer input \n",
    "\n",
    "# syntax :       variable = int(input(prompt))      # returns <class 'int'>\n",
    "\n",
    "# Examples :\n",
    "\n",
    "Age = int(input(\"Enter your Age : \"))\n",
    "print(Age)\n",
    "\n",
    "print(type(Age))\n"
   ]
  },
  {
   "cell_type": "code",
   "execution_count": 6,
   "id": "d69c6d90",
   "metadata": {},
   "outputs": [
    {
     "name": "stdout",
     "output_type": "stream",
     "text": [
      "8.28\n",
      "<class 'float'>\n"
     ]
    }
   ],
   "source": [
    "# Float input      # decimals\n",
    "\n",
    "# syntax :       variable = float(input(prompt))      # returns <class 'float'>\n",
    "\n",
    "# Examples :\n",
    "\n",
    "Grade = float(input(\"Enter your Grade : \"))\n",
    "print(Grade)\n",
    "\n",
    "print(type(Grade))"
   ]
  },
  {
   "cell_type": "code",
   "execution_count": null,
   "id": "a790d8dd",
   "metadata": {},
   "outputs": [
    {
     "name": "stdout",
     "output_type": "stream",
     "text": [
      "Enter Your Name : Yogesh\n",
      "Enter Your Age : 25\n",
      "Enter your Height(in ft) : 5.11\n",
      "Gender : Male\n"
     ]
    }
   ],
   "source": [
    "# Different methods for printing the variables\n",
    "\n",
    "Name = input(\"Enter Your Name : \")\n",
    "Age  = int(input(\"Enter Your Age : \"))\n",
    "Height = float(input(\"Enter your Height(in ft) : \" ))\n",
    "Gender = input(\"Gender : \")"
   ]
  },
  {
   "cell_type": "code",
   "execution_count": null,
   "id": "38259682",
   "metadata": {},
   "outputs": [
    {
     "name": "stdout",
     "output_type": "stream",
     "text": [
      "Yogesh\n",
      "25\n",
      "5.11\n",
      "Male\n"
     ]
    }
   ],
   "source": [
    "# Different methods for printing the variables\n",
    "\n",
    "# 1. Printing line by line \n",
    "\n",
    "print(Name)\n",
    "print(Age)\n",
    "print(Height)\n",
    "print(Gender)"
   ]
  },
  {
   "cell_type": "code",
   "execution_count": null,
   "id": "179316fb",
   "metadata": {},
   "outputs": [
    {
     "name": "stdout",
     "output_type": "stream",
     "text": [
      "Yogesh 25 5.11 Male\n"
     ]
    }
   ],
   "source": [
    "# 2. Printing the same line\n",
    "\n",
    "print(Name, Age, Height, Gender)"
   ]
  },
  {
   "cell_type": "code",
   "execution_count": null,
   "id": "33f35dc2",
   "metadata": {},
   "outputs": [
    {
     "name": "stdout",
     "output_type": "stream",
     "text": [
      "My name is Yogesh. I am 25 years old. I am a 5.11 feet taller. I am a Male.\n"
     ]
    }
   ],
   "source": [
    "# 3   -  Formatted print statements\n",
    "\n",
    "print(f\"My name is {Name}. I am {Age} years old. I am a {Height} feet taller. I am a {Gender}.\")\n"
   ]
  },
  {
   "cell_type": "code",
   "execution_count": null,
   "id": "261f2f8a",
   "metadata": {},
   "outputs": [
    {
     "name": "stdout",
     "output_type": "stream",
     "text": [
      "Enter 2 values : 27 23\n",
      "No.of boys :  27\n",
      "No.of girls :  23\n"
     ]
    }
   ],
   "source": [
    "#  Taking Multiple inputs from user\n",
    "\n",
    "# 1. Using 'split() method'\n",
    "\n",
    "# examples : \n",
    "\n",
    "n1,n2 = input(\"Enter 2 values : \").split()\n",
    "\n",
    "print(\"No.of boys : \",n1)\n",
    "print(\"No.of girls : \",n2)\n"
   ]
  },
  {
   "cell_type": "code",
   "execution_count": null,
   "id": "6a497863",
   "metadata": {},
   "outputs": [
    {
     "name": "stdout",
     "output_type": "stream",
     "text": [
      "Enter Multiple Values : 20 25 30 26 35\n",
      "List of Students :  [20, 25, 30, 26, 35]\n"
     ]
    }
   ],
   "source": [
    "# Type Casting using list() function\n",
    "\n",
    "a = list(map(int, input(\"Enter Multiple Values : \").split()))\n",
    "\n",
    "print(\"List of Students : \",a)"
   ]
  }
 ],
 "metadata": {
  "kernelspec": {
   "display_name": "Python 3",
   "language": "python",
   "name": "python3"
  },
  "language_info": {
   "codemirror_mode": {
    "name": "ipython",
    "version": 3
   },
   "file_extension": ".py",
   "mimetype": "text/x-python",
   "name": "python",
   "nbconvert_exporter": "python",
   "pygments_lexer": "ipython3",
   "version": "3.12.1"
  }
 },
 "nbformat": 4,
 "nbformat_minor": 5
}
