{
 "cells": [
  {
   "cell_type": "markdown",
   "id": "29559307",
   "metadata": {},
   "source": [
    "#                 MEMBERSHIP  Operator\n",
    "\n",
    "     \n",
    "     -  used to test if a sequence is presented in an object:\n",
    "     \n",
    "     -  'in' =>  returns True if the value is found in the sequence.\n",
    "     \n",
    "     -  ' not in' =>  returns True if the value is not found in the sequence.\n",
    "     \n",
    "     \n",
    "###  EXAMPLES :\n"
   ]
  },
  {
   "cell_type": "code",
   "execution_count": 2,
   "id": "29db0b17",
   "metadata": {},
   "outputs": [
    {
     "name": "stdout",
     "output_type": "stream",
     "text": [
      "True\n",
      "False\n"
     ]
    }
   ],
   "source": [
    "# Examples : STRING VALUES\n",
    "    \n",
    "a = \"Welcome to Python\" \n",
    "\n",
    "print(\"to\" in a)          # True\n",
    "print(\"Python\" not in a)  # False"
   ]
  },
  {
   "cell_type": "code",
   "execution_count": 5,
   "id": "635f44ad",
   "metadata": {},
   "outputs": [
    {
     "name": "stdout",
     "output_type": "stream",
     "text": [
      "True\n",
      "True\n"
     ]
    }
   ],
   "source": [
    "#  Examples :  LIST VALUES\n",
    "\n",
    "a = [10,20,30,40]\n",
    "\n",
    "print(30 in a)     # True\n",
    "print(35 not in a) # True"
   ]
  },
  {
   "cell_type": "code",
   "execution_count": 7,
   "id": "d6f7c261",
   "metadata": {},
   "outputs": [
    {
     "name": "stdout",
     "output_type": "stream",
     "text": [
      "True\n",
      "False\n"
     ]
    }
   ],
   "source": [
    "# Examples :  TUPLE VALUES\n",
    "\n",
    "a = (10,20,30,40)\n",
    "\n",
    "print(30 in a)     # True\n",
    "print(30 not in a) # False"
   ]
  },
  {
   "cell_type": "code",
   "execution_count": 8,
   "id": "207208a8",
   "metadata": {},
   "outputs": [
    {
     "name": "stdout",
     "output_type": "stream",
     "text": [
      "True\n",
      "True\n"
     ]
    }
   ],
   "source": [
    "# Examples :  DICTIONARY VALUES    (by check only keys , not values)\n",
    "\n",
    "a = {1:10,2:20}\n",
    "\n",
    "print(2 in a)     # True\n",
    "print(3 not in a) # True"
   ]
  },
  {
   "cell_type": "code",
   "execution_count": 1,
   "id": "2197a274",
   "metadata": {},
   "outputs": [
    {
     "name": "stdout",
     "output_type": "stream",
     "text": [
      "False\n",
      "True\n",
      "False\n"
     ]
    }
   ],
   "source": [
    "# Examples :  SET VALUES\n",
    "\n",
    "a = {10,20,30,40,\"Hi Hari\"}\n",
    "\n",
    "b = {10,20,30,40,\"Hi Hari\", \"Hi\"}\n",
    "\n",
    "print(\"Hi\" in a)     # False\n",
    "\n",
    "print(\"Hi\" in b)     # True\n",
    "\n",
    "print(30 not in a)   # False"
   ]
  }
 ],
 "metadata": {
  "kernelspec": {
   "display_name": "Python 3 (ipykernel)",
   "language": "python",
   "name": "python3"
  },
  "language_info": {
   "codemirror_mode": {
    "name": "ipython",
    "version": 3
   },
   "file_extension": ".py",
   "mimetype": "text/x-python",
   "name": "python",
   "nbconvert_exporter": "python",
   "pygments_lexer": "ipython3",
   "version": "3.12.1"
  }
 },
 "nbformat": 4,
 "nbformat_minor": 5
}
