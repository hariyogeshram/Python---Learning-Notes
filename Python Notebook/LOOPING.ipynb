{
 "cells": [
  {
   "cell_type": "markdown",
   "id": "509de0f3",
   "metadata": {},
   "source": [
    "#                              LOOPING\n",
    "\n",
    "\n",
    "   -  repeating something over and over until a particular condition is satisfied.\n",
    "   \n",
    "   -  TYPES OF LOOPS :  * FOR LOOP , * WHILE LOOP"
   ]
  },
  {
   "cell_type": "code",
   "execution_count": null,
   "id": "b9ebe6d5",
   "metadata": {},
   "outputs": [],
   "source": [
    "# While loop \n",
    "\n",
    "#       Repeats a statement or group of statements while a given condition is TRUE. \n",
    "#       It tests the condition before executing the loop body."
   ]
  },
  {
   "cell_type": "code",
   "execution_count": null,
   "id": "5e9eecd6",
   "metadata": {},
   "outputs": [],
   "source": [
    "# syntax : \n",
    "\n",
    "# while(condition):\n",
    "     # body of while loop\n",
    "     # increment/decrement operation\n",
    "    "
   ]
  },
  {
   "cell_type": "code",
   "execution_count": 4,
   "id": "4565b415",
   "metadata": {},
   "outputs": [
    {
     "name": "stdout",
     "output_type": "stream",
     "text": [
      "Hi\n",
      "Hi\n",
      "Hi\n",
      "Hi\n",
      "Hi\n"
     ]
    }
   ],
   "source": [
    "# examples :   Print \"Hi\" for 5 times\n",
    "\n",
    "i=1\n",
    "while(i<=5):\n",
    "    print(\"Hi\")\n",
    "    i=i+1"
   ]
  },
  {
   "cell_type": "code",
   "execution_count": 5,
   "id": "b6751f3a",
   "metadata": {},
   "outputs": [
    {
     "name": "stdout",
     "output_type": "stream",
     "text": [
      "Number 1\n",
      "Number 2\n",
      "Number 3\n",
      "Number 4\n",
      "Number 5\n"
     ]
    }
   ],
   "source": [
    "# examples for printing numbers without using loop\n",
    "\n",
    "print(\"Number 1\")\n",
    "print(\"Number 2\")\n",
    "print(\"Number 3\")\n",
    "print(\"Number 4\")\n",
    "print(\"Number 5\")"
   ]
  },
  {
   "cell_type": "code",
   "execution_count": 6,
   "id": "118a968c",
   "metadata": {},
   "outputs": [
    {
     "name": "stdout",
     "output_type": "stream",
     "text": [
      "Number 1\n",
      "Number 2\n",
      "Number 3\n",
      "Number 4\n",
      "Number 5\n",
      "Terminated from WHILE LOOP\n"
     ]
    }
   ],
   "source": [
    "# examples for printing numbers (using WHILE loop)\n",
    "\n",
    "i = 1\n",
    "while(i<=5):\n",
    "    print(\"Number\",i)\n",
    "    i=i+1\n",
    "print(\"Terminated from WHILE LOOP\")"
   ]
  },
  {
   "cell_type": "code",
   "execution_count": 7,
   "id": "ff3a8c53",
   "metadata": {},
   "outputs": [
    {
     "name": "stdout",
     "output_type": "stream",
     "text": [
      "2\n",
      "4\n",
      "6\n",
      "8\n",
      "10\n"
     ]
    }
   ],
   "source": [
    "# Print even Numbers (Using WHILE Loop)\n",
    "\n",
    "i = 2\n",
    "while(i<=10):\n",
    "    print(i)\n",
    "    i = i + 2\n"
   ]
  },
  {
   "cell_type": "code",
   "execution_count": null,
   "id": "392d6a70",
   "metadata": {},
   "outputs": [],
   "source": [
    "# infinite  loop (using while)\n",
    "\n",
    "i = 1\n",
    "\n",
    "while(i<=10):\n",
    "    print(\"Numbers\",i)\n",
    "    \n",
    "print(\"Terminated\")"
   ]
  },
  {
   "cell_type": "code",
   "execution_count": null,
   "id": "80865520",
   "metadata": {},
   "outputs": [],
   "source": [
    "# Using True Keyword\n",
    "\n",
    "# i = 1\n",
    "# while True :\n",
    "#     print(\"Numbers\",i)\n",
    "  \n"
   ]
  },
  {
   "cell_type": "code",
   "execution_count": 8,
   "id": "7a53b7c1",
   "metadata": {},
   "outputs": [
    {
     "name": "stdout",
     "output_type": "stream",
     "text": [
      "1 5\n",
      "2 6\n",
      "3 7\n",
      "Terminated outside while loop\n"
     ]
    }
   ],
   "source": [
    "# nested while loop -> while loop inside the while loop\n",
    "\n",
    "# Examples :\n",
    "\n",
    "i = 1\n",
    "j = 5\n",
    "\n",
    "while(i<4):\n",
    "    while(j<8):\n",
    "        print(i,j)\n",
    "        i = i + 1\n",
    "        j = j + 1\n",
    "        \n",
    "print(\"Terminated outside while loop\")        "
   ]
  },
  {
   "cell_type": "code",
   "execution_count": 9,
   "id": "13d7b16c",
   "metadata": {},
   "outputs": [
    {
     "name": "stdout",
     "output_type": "stream",
     "text": [
      "1\n",
      "2\n",
      "3\n",
      "4\n",
      "5\n",
      "I am from else block\n"
     ]
    }
   ],
   "source": [
    "# while with else part\n",
    "\n",
    "a = 1 \n",
    "while(a<=5):\n",
    "    print(a)\n",
    "    a=a+1\n",
    "    \n",
    "else :\n",
    "    print(\"I am from else block\")"
   ]
  },
  {
   "cell_type": "markdown",
   "id": "e0dafaa6",
   "metadata": {},
   "source": [
    "#                          FOR  Loop\n",
    "\n",
    "- used for iterating over a sequence\n",
    "- (that is either a list, a tuple, a dictionary, a set, or a string).\n",
    "\n",
    "- Syntax :  \n",
    "\n",
    "###      for variable_name in sequence :\n",
    "###          statement\n",
    "###          statement\n",
    "      "
   ]
  },
  {
   "cell_type": "code",
   "execution_count": 10,
   "id": "a28ced33",
   "metadata": {},
   "outputs": [
    {
     "name": "stdout",
     "output_type": "stream",
     "text": [
      "Yogesh\n"
     ]
    }
   ],
   "source": [
    "# Examples :  printing string (using print())\n",
    "\n",
    "name = \"Yogesh\"\n",
    "print(name)"
   ]
  },
  {
   "cell_type": "code",
   "execution_count": 11,
   "id": "fec61402",
   "metadata": {},
   "outputs": [
    {
     "name": "stdout",
     "output_type": "stream",
     "text": [
      "Y\n",
      "o\n",
      "g\n",
      "e\n",
      "s\n",
      "h\n"
     ]
    }
   ],
   "source": [
    "# Printing 'Strings' using FOR LOOP\n",
    "name = \"Yogesh\"\n",
    "for i in name:\n",
    "    print(i)"
   ]
  },
  {
   "cell_type": "code",
   "execution_count": 12,
   "id": "c9bac002",
   "metadata": {},
   "outputs": [
    {
     "name": "stdout",
     "output_type": "stream",
     "text": [
      "H\n",
      "a\n",
      "r\n",
      "i\n"
     ]
    }
   ],
   "source": [
    "# printing strings without assigning a variable\n",
    "\n",
    "for i in \"Hari\":\n",
    "    print(i)"
   ]
  },
  {
   "cell_type": "code",
   "execution_count": 13,
   "id": "994d31aa",
   "metadata": {},
   "outputs": [
    {
     "name": "stdout",
     "output_type": "stream",
     "text": [
      "['Hari', 'Male', 23, 5.12]\n"
     ]
    }
   ],
   "source": [
    "# example list (using Print())\n",
    "\n",
    "list1=[\"Hari\",\"Male\",23,5.12]\n",
    "print(list1)"
   ]
  },
  {
   "cell_type": "code",
   "execution_count": 14,
   "id": "3a0bde99",
   "metadata": {},
   "outputs": [
    {
     "name": "stdout",
     "output_type": "stream",
     "text": [
      "Hari\n",
      "Male\n",
      "23\n",
      "5.12\n"
     ]
    }
   ],
   "source": [
    "# example list - (using FOR)\n",
    "\n",
    "list1=[\"Hari\",\"Male\",23,5.12]\n",
    "\n",
    "for i in list1:\n",
    "    print(i)"
   ]
  },
  {
   "cell_type": "code",
   "execution_count": 15,
   "id": "0fc6afee",
   "metadata": {},
   "outputs": [
    {
     "name": "stdout",
     "output_type": "stream",
     "text": [
      "Total Value =  100\n"
     ]
    }
   ],
   "source": [
    "# example list - adding(SUM) elements ( Using FOR)\n",
    "\n",
    "a = [10,25,30,35]\n",
    "sum = 0\n",
    "for i in a:\n",
    "    sum = sum + i\n",
    "    \n",
    "print(\"Total Value = \",sum)"
   ]
  },
  {
   "cell_type": "code",
   "execution_count": 16,
   "id": "1648ab8d",
   "metadata": {},
   "outputs": [
    {
     "name": "stdout",
     "output_type": "stream",
     "text": [
      "10\n",
      "20\n",
      "30\n"
     ]
    }
   ],
   "source": [
    "# Tuple (Using FOR)\n",
    "\n",
    "a =(10,20,30)\n",
    "for i in a:\n",
    "    print(i)"
   ]
  },
  {
   "cell_type": "code",
   "execution_count": 17,
   "id": "6993b925",
   "metadata": {},
   "outputs": [
    {
     "name": "stdout",
     "output_type": "stream",
     "text": [
      "1\n",
      "2\n",
      "3\n",
      "4\n",
      "5\n"
     ]
    }
   ],
   "source": [
    "# For in range function \n",
    "\n",
    "# Examples :  Generating numbers using range()\n",
    "\n",
    "for i in range(1,6):\n",
    "    print(i)"
   ]
  },
  {
   "cell_type": "code",
   "execution_count": 18,
   "id": "4c8f7f23",
   "metadata": {},
   "outputs": [
    {
     "name": "stdout",
     "output_type": "stream",
     "text": [
      "0\n",
      "2\n",
      "4\n",
      "6\n",
      "8\n"
     ]
    }
   ],
   "source": [
    "# even numbers (USING FOR IN RANGE())\n",
    "\n",
    "for i in range(0,10,2):\n",
    "    print(i)"
   ]
  },
  {
   "cell_type": "code",
   "execution_count": 19,
   "id": "6f6987aa",
   "metadata": {},
   "outputs": [
    {
     "name": "stdout",
     "output_type": "stream",
     "text": [
      "1\n",
      "3\n",
      "5\n",
      "7\n",
      "9\n"
     ]
    }
   ],
   "source": [
    "# odd numbers (USING FOR IN RANGE())\n",
    "\n",
    "for i in range(1,10,2):\n",
    "    print(i)"
   ]
  },
  {
   "cell_type": "code",
   "execution_count": 20,
   "id": "5b11aaf0",
   "metadata": {},
   "outputs": [
    {
     "name": "stdout",
     "output_type": "stream",
     "text": [
      "-1\n",
      "-3\n",
      "-5\n",
      "-7\n",
      "-9\n"
     ]
    }
   ],
   "source": [
    "# negative odd numbers (USING FOR IN RANGE())\n",
    "\n",
    "for i in range(-1,-10,-2):\n",
    "    print(i)"
   ]
  },
  {
   "cell_type": "code",
   "execution_count": 21,
   "id": "f58ea3c7",
   "metadata": {},
   "outputs": [
    {
     "name": "stdout",
     "output_type": "stream",
     "text": [
      "-2\n",
      "-4\n",
      "-6\n",
      "-8\n"
     ]
    }
   ],
   "source": [
    "# negative even numbers (USING FOR IN RANGE())\n",
    "\n",
    "for i in range(-2,-10,-2):\n",
    "    print(i)"
   ]
  },
  {
   "cell_type": "code",
   "execution_count": 22,
   "id": "3470be19",
   "metadata": {},
   "outputs": [
    {
     "name": "stdout",
     "output_type": "stream",
     "text": [
      "P\n",
      "Y\n",
      "T\n",
      "H\n",
      "O\n",
      "N\n"
     ]
    }
   ],
   "source": [
    "# passing a String\n",
    "\n",
    "a = \"PYTHON\"\n",
    "l = len(a)\n",
    "for i in range(l):\n",
    "    print(a[i])"
   ]
  },
  {
   "cell_type": "code",
   "execution_count": 23,
   "id": "55adb20c",
   "metadata": {},
   "outputs": [
    {
     "name": "stdout",
     "output_type": "stream",
     "text": [
      "Welcome\n",
      "To\n",
      "Python\n"
     ]
    }
   ],
   "source": [
    "# passing a List\n",
    "a = [\"Welcome\",\"To\",\"Python\"]\n",
    "\n",
    "for i in range(len(a)):\n",
    "    print(a[i])"
   ]
  },
  {
   "cell_type": "code",
   "execution_count": 24,
   "id": "7a045b94",
   "metadata": {},
   "outputs": [
    {
     "name": "stdout",
     "output_type": "stream",
     "text": [
      "0\n",
      "1\n",
      "2\n",
      "I am from else block\n"
     ]
    }
   ],
   "source": [
    "# for loop with else\n",
    "\n",
    "#  when condition gets failed, the failed part will get executed\n",
    "\n",
    "# examples :\n",
    "\n",
    "for i in range(0,3):\n",
    "    print(i)\n",
    "    \n",
    "else :\n",
    "    print(\"I am from else block\")"
   ]
  },
  {
   "cell_type": "code",
   "execution_count": 25,
   "id": "26953496",
   "metadata": {},
   "outputs": [
    {
     "name": "stdout",
     "output_type": "stream",
     "text": [
      "H\n",
      "a\n",
      "r\n",
      "i\n",
      "I am from else block\n"
     ]
    }
   ],
   "source": [
    "# passing a String\n",
    "\n",
    "for i in \"Hari\":\n",
    "    print(i)\n",
    "    \n",
    "else :\n",
    "    print(\"I am from else block\")"
   ]
  },
  {
   "cell_type": "code",
   "execution_count": 26,
   "id": "30ec0ddd",
   "metadata": {},
   "outputs": [
    {
     "name": "stdout",
     "output_type": "stream",
     "text": [
      "10\n",
      "20\n",
      "30\n",
      "Else block\n"
     ]
    }
   ],
   "source": [
    "# passing a list (for else)\n",
    "a = [10,20,30]\n",
    "for i in a:\n",
    "    print(i)\n",
    "    \n",
    "else :\n",
    "    print(\"Else block\")"
   ]
  },
  {
   "cell_type": "code",
   "execution_count": 27,
   "id": "efc27b21",
   "metadata": {},
   "outputs": [
    {
     "name": "stdout",
     "output_type": "stream",
     "text": [
      "5\n",
      "10\n",
      "15\n",
      "20\n"
     ]
    }
   ],
   "source": [
    "# for with if\n",
    "\n",
    "for i in range(1,21):\n",
    "    if(i%5==0):\n",
    "        print(i)\n",
    "        \n",
    "        "
   ]
  },
  {
   "cell_type": "code",
   "execution_count": 28,
   "id": "71c573ec",
   "metadata": {},
   "outputs": [
    {
     "name": "stdout",
     "output_type": "stream",
     "text": [
      "5  is divisible by 5\n",
      "6  is not divisible by 5\n",
      "7  is not divisible by 5\n",
      "8  is not divisible by 5\n",
      "9  is not divisible by 5\n",
      "10  is divisible by 5\n",
      "Loop terminated\n"
     ]
    }
   ],
   "source": [
    "# for with if else\n",
    "\n",
    "for i in range(5,11):\n",
    "    if(i%5==0):\n",
    "        print(i,\" is divisible by 5\")\n",
    "        \n",
    "    else :\n",
    "        print(i,\" is not divisible by 5\")\n",
    "        \n",
    "print(\"Loop terminated\")        "
   ]
  },
  {
   "cell_type": "code",
   "execution_count": 29,
   "id": "e7820835",
   "metadata": {},
   "outputs": [
    {
     "name": "stdout",
     "output_type": "stream",
     "text": [
      "outer loop 0\n",
      "inner loop Hari\n",
      "inner loop Yogesh\n",
      "inner loop Ram\n",
      "outer loop 1\n",
      "inner loop Hari\n",
      "inner loop Yogesh\n",
      "inner loop Ram\n",
      "outer loop 2\n",
      "inner loop Hari\n",
      "inner loop Yogesh\n",
      "inner loop Ram\n"
     ]
    }
   ],
   "source": [
    "# passing a range function using nested for loop\n",
    "\n",
    "names = [\"Hari\",\"Yogesh\",\"Ram\"]\n",
    "\n",
    "for i in range(0,3):\n",
    "    print(\"outer loop\",i)\n",
    "    for j in names:\n",
    "        print(\"inner loop\",j)"
   ]
  },
  {
   "cell_type": "code",
   "execution_count": 30,
   "id": "a6a12aea",
   "metadata": {},
   "outputs": [
    {
     "name": "stdout",
     "output_type": "stream",
     "text": [
      "Hari Raghu\n",
      "Hari Gopi\n",
      "Yogesh Raghu\n",
      "Yogesh Gopi\n"
     ]
    }
   ],
   "source": [
    "# passing a list \n",
    "\n",
    "list1 = [\"Hari\",\"Yogesh\"]\n",
    "list2 = [\"Raghu\",\"Gopi\"]\n",
    "\n",
    "for i in list1:\n",
    "    for j in list2:\n",
    "        print(i,j)"
   ]
  },
  {
   "cell_type": "code",
   "execution_count": 31,
   "id": "1cc7e7e8",
   "metadata": {},
   "outputs": [
    {
     "name": "stdout",
     "output_type": "stream",
     "text": [
      "1\n",
      "2\n",
      "3\n",
      "4\n",
      "While Loop Terminated\n"
     ]
    }
   ],
   "source": [
    "# break (using WHILE LOOP)\n",
    "\n",
    "i = 1\n",
    "while(i<=7):\n",
    "    print(i)\n",
    "    if(i==4):\n",
    "        break\n",
    "    i=i+1\n",
    "    \n",
    "print(\"While Loop Terminated\")    "
   ]
  },
  {
   "cell_type": "code",
   "execution_count": 32,
   "id": "994f3b54",
   "metadata": {},
   "outputs": [
    {
     "name": "stdout",
     "output_type": "stream",
     "text": [
      "0\n",
      "1\n",
      "2\n",
      "While Loop Terminated\n"
     ]
    }
   ],
   "source": [
    "# example 2 :   break (Using WHILE LOOP)\n",
    "\n",
    "a = 0\n",
    "while(a<=7):\n",
    "    if(a==3):\n",
    "        break\n",
    "        \n",
    "    else :\n",
    "        print(a)\n",
    "        a = a + 1\n",
    "        \n",
    "print(\"While Loop Terminated\")        "
   ]
  },
  {
   "cell_type": "code",
   "execution_count": 33,
   "id": "941151b6",
   "metadata": {},
   "outputs": [
    {
     "name": "stdout",
     "output_type": "stream",
     "text": [
      "0\n",
      "1\n",
      "2\n",
      "3\n",
      "4\n",
      "5\n",
      "For Loop Terminated\n"
     ]
    }
   ],
   "source": [
    "# break ( Using FOR LOOP)\n",
    "\n",
    "for i in range(0,10):\n",
    "    if(i==6):\n",
    "        break\n",
    "        \n",
    "    print(i)\n",
    "    \n",
    "print(\"For Loop Terminated\")    "
   ]
  },
  {
   "cell_type": "code",
   "execution_count": 34,
   "id": "13725bcd",
   "metadata": {},
   "outputs": [
    {
     "name": "stdout",
     "output_type": "stream",
     "text": [
      "H\n",
      "a\n",
      "p\n",
      "p\n",
      "y\n",
      " \n",
      "For Loop Terminated\n"
     ]
    }
   ],
   "source": [
    "# example 2 :  break (using FOR LOOP)\n",
    "\n",
    "for string in \"Happy Morning\":\n",
    "    if(string == \"M\"):\n",
    "        break\n",
    "        \n",
    "    else :\n",
    "        print(string)\n",
    "        \n",
    "print(\"For Loop Terminated\")        "
   ]
  },
  {
   "cell_type": "code",
   "execution_count": 35,
   "id": "c9568ab1",
   "metadata": {},
   "outputs": [
    {
     "name": "stdout",
     "output_type": "stream",
     "text": [
      "Y\n",
      "o\n",
      "g\n",
      "s\n",
      "h\n",
      "For Loop Terminated\n"
     ]
    }
   ],
   "source": [
    "#  continue statement - > forces to execute the next iteration of the loop \n",
    "#                         while skipping the rest of the code\n",
    "\n",
    "\n",
    "# continue (using For LOOP)\n",
    "\n",
    "for names in \"Yogesh\":\n",
    "    if(names == \"e\"):\n",
    "        continue\n",
    "        \n",
    "    print(names)\n",
    "    \n",
    "print(\"For Loop Terminated\")    "
   ]
  },
  {
   "cell_type": "code",
   "execution_count": 36,
   "id": "2b1e2b18",
   "metadata": {},
   "outputs": [
    {
     "name": "stdout",
     "output_type": "stream",
     "text": [
      "2\n",
      "4\n",
      "6\n",
      "8\n",
      "For Loop Terminated\n"
     ]
    }
   ],
   "source": [
    "# even numbers (using continue statement)\n",
    "\n",
    "for i in range(1,10):\n",
    "    if(i%2 != 0):\n",
    "        continue\n",
    "        \n",
    "    print(i)\n",
    "    \n",
    "print(\"For Loop Terminated\")    "
   ]
  },
  {
   "cell_type": "code",
   "execution_count": 37,
   "id": "24001caa",
   "metadata": {},
   "outputs": [
    {
     "name": "stdout",
     "output_type": "stream",
     "text": [
      "Hi buddy!\n",
      "How are you?\n"
     ]
    }
   ],
   "source": [
    "# pass statement --> used as a placeholder for future code\n",
    "    \n",
    "#  Example - 1\n",
    "\n",
    "print(\"Hi buddy!\")\n",
    "print(\"How are you?\")\n",
    "\n",
    "val = {'h','a','p','p','y'}\n",
    "for i in val:\n",
    "    pass"
   ]
  },
  {
   "cell_type": "code",
   "execution_count": 38,
   "id": "b4f95368",
   "metadata": {},
   "outputs": [
    {
     "name": "stdout",
     "output_type": "stream",
     "text": [
      "Else block\n"
     ]
    }
   ],
   "source": [
    "# Example 2 \n",
    "\n",
    "if (3>5):\n",
    "    pass\n",
    "else:\n",
    "    print(\"Else block\")"
   ]
  },
  {
   "cell_type": "code",
   "execution_count": 2,
   "id": "a4f91566",
   "metadata": {},
   "outputs": [
    {
     "name": "stdout",
     "output_type": "stream",
     "text": [
      "1\n",
      "2\n",
      "Pass statement found\n",
      "3\n",
      "4\n",
      "5\n",
      "While Loop Terminated\n"
     ]
    }
   ],
   "source": [
    "# Example 3:\n",
    "\n",
    "i = 1\n",
    "while(i<=5):\n",
    "    if(i==3):\n",
    "        pass\n",
    "        print(\"Pass statement found\")\n",
    "    \n",
    "    print(i)\n",
    "    i = i + 1\n",
    "        \n",
    "print(\"While Loop Terminated\")        "
   ]
  },
  {
   "cell_type": "code",
   "execution_count": 3,
   "id": "db4fcaa8",
   "metadata": {},
   "outputs": [
    {
     "name": "stdout",
     "output_type": "stream",
     "text": [
      "0\n",
      "1\n",
      "2\n",
      "3\n",
      "4\n",
      "6\n",
      "7\n",
      "8\n",
      "For Loop Terminated\n"
     ]
    }
   ],
   "source": [
    "# Example 4 :\n",
    "\n",
    "for i in range(0,9):\n",
    "    if(i==5):\n",
    "        pass\n",
    "    else:\n",
    "        print(i)\n",
    "        \n",
    "print(\"For Loop Terminated\")        "
   ]
  }
 ],
 "metadata": {
  "kernelspec": {
   "display_name": "Python 3 (ipykernel)",
   "language": "python",
   "name": "python3"
  },
  "language_info": {
   "codemirror_mode": {
    "name": "ipython",
    "version": 3
   },
   "file_extension": ".py",
   "mimetype": "text/x-python",
   "name": "python",
   "nbconvert_exporter": "python",
   "pygments_lexer": "ipython3",
   "version": "3.12.1"
  }
 },
 "nbformat": 4,
 "nbformat_minor": 5
}
