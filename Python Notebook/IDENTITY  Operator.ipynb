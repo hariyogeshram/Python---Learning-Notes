{
 "cells": [
  {
   "cell_type": "markdown",
   "id": "b5872b51",
   "metadata": {},
   "source": [
    "#                   IDENTITY  Operator\n",
    "\n",
    "\n",
    "    -   used to compare memory location of two objects\n",
    "\n",
    "### Types of Identity Operators :\n"
   ]
  },
  {
   "cell_type": "code",
   "execution_count": 1,
   "id": "72c09a64",
   "metadata": {},
   "outputs": [],
   "source": [
    "#  is  \n",
    "\n",
    "#     - Returns True, \n",
    "#     - If both variables are the same Object\n"
   ]
  },
  {
   "cell_type": "code",
   "execution_count": 2,
   "id": "97bcc191",
   "metadata": {},
   "outputs": [],
   "source": [
    "# is not  \n",
    "\n",
    "#         - Returns True, \n",
    "#         - If both variables are not in the same Object\n"
   ]
  },
  {
   "cell_type": "code",
   "execution_count": 3,
   "id": "69f4c498",
   "metadata": {},
   "outputs": [
    {
     "name": "stdout",
     "output_type": "stream",
     "text": [
      "140722478398168\n",
      "140722478398168\n",
      "True\n",
      "False\n"
     ]
    }
   ],
   "source": [
    "# Examples : NUMERIC VALUES \n",
    "\n",
    "a = 10\n",
    "b = 10\n",
    "\n",
    "print(id(a))  # 140722923082824\n",
    "print(id(b))  # 140722923082824\n",
    "\n",
    "print(a is b)  # True\n",
    "print(a is not b)  # False"
   ]
  },
  {
   "cell_type": "code",
   "execution_count": 4,
   "id": "2a722064",
   "metadata": {},
   "outputs": [
    {
     "name": "stdout",
     "output_type": "stream",
     "text": [
      "2083151199328\n",
      "140722477286416\n",
      "False\n",
      "True\n"
     ]
    }
   ],
   "source": [
    "# Examples : STRING VALUES\n",
    "\n",
    "a = (\"python\")\n",
    "b = (\"Python\")\n",
    "\n",
    "print(id(a))   # 2323444097328\n",
    "print(id(b))   # 140722921825104\n",
    "\n",
    "print(a is b)  # False\n",
    "print(a is not b) # True"
   ]
  },
  {
   "cell_type": "code",
   "execution_count": 5,
   "id": "93e0a413",
   "metadata": {},
   "outputs": [
    {
     "name": "stdout",
     "output_type": "stream",
     "text": [
      "2083246732032\n",
      "2083246980992\n",
      "False\n",
      "True\n"
     ]
    }
   ],
   "source": [
    "# Examples : LIST  VALUES\n",
    "\n",
    "a = [10,20]\n",
    "b = [10,20]\n",
    "\n",
    "print(id(a))  # 2323492643904\n",
    "print(id(b))  # 2323493089024\n",
    "\n",
    "print(a is b)     # False\n",
    "print(a is not b) # True"
   ]
  },
  {
   "cell_type": "code",
   "execution_count": 6,
   "id": "d7fc1400",
   "metadata": {},
   "outputs": [
    {
     "name": "stdout",
     "output_type": "stream",
     "text": [
      "2083155397568\n",
      "2083246168704\n",
      "False\n",
      "True\n"
     ]
    }
   ],
   "source": [
    "# Examples : TUPLE  VALUES\n",
    "\n",
    "a = (10,20)\n",
    "b = (10,20)\n",
    "\n",
    "print(id(a))  # 2323492526784\n",
    "print(id(b))  # 2323493455872\n",
    "\n",
    "print(a is b)     # False\n",
    "print(a is not b) # True"
   ]
  },
  {
   "cell_type": "code",
   "execution_count": 7,
   "id": "229198f8",
   "metadata": {},
   "outputs": [
    {
     "name": "stdout",
     "output_type": "stream",
     "text": [
      "2083246993920\n",
      "2083246872768\n",
      "False\n",
      "True\n"
     ]
    }
   ],
   "source": [
    "# Examples : DICTIONARY  VALUES\n",
    "\n",
    "a = {1:10,2:20}\n",
    "b = {1:10,2:20}\n",
    "\n",
    "print(id(a))  # 2323493006208\n",
    "print(id(b))  # 2323492960832\n",
    "\n",
    "print(a is b)     # False\n",
    "print(a is not b) # True"
   ]
  },
  {
   "cell_type": "code",
   "execution_count": 8,
   "id": "1562a9cc",
   "metadata": {},
   "outputs": [
    {
     "name": "stdout",
     "output_type": "stream",
     "text": [
      "2083246228640\n",
      "2083246757856\n",
      "False\n",
      "True\n"
     ]
    }
   ],
   "source": [
    "# Examples : SET  VALUES\n",
    "\n",
    "a = {10,20}\n",
    "b = {10,20}\n",
    "\n",
    "print(id(a))  # 2323492983008\n",
    "print(id(b))  # 2323492981664\n",
    "\n",
    "print(a is b)     # False\n",
    "print(a is not b) # True"
   ]
  }
 ],
 "metadata": {
  "kernelspec": {
   "display_name": "Python 3 (ipykernel)",
   "language": "python",
   "name": "python3"
  },
  "language_info": {
   "codemirror_mode": {
    "name": "ipython",
    "version": 3
   },
   "file_extension": ".py",
   "mimetype": "text/x-python",
   "name": "python",
   "nbconvert_exporter": "python",
   "pygments_lexer": "ipython3",
   "version": "3.12.1"
  }
 },
 "nbformat": 4,
 "nbformat_minor": 5
}
