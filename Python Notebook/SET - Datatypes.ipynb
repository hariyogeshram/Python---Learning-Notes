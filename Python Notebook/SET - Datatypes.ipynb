{
 "cells": [
  {
   "cell_type": "markdown",
   "id": "7a3db895",
   "metadata": {},
   "source": [
    "#                                 SET -  Datatypes\n",
    "\n",
    "\n",
    "    -  Unordered Collection of data\n",
    "    -  immutable\n",
    "    -  un-indexed\n",
    "    -  store multiple items in a single variable\n",
    "    -  Represented in Curly braces {}\n",
    "    -  Duplicates are not allowed\n",
    "    -  Cannot access items in a set by referring to an 'index or a key'."
   ]
  },
  {
   "cell_type": "code",
   "execution_count": 2,
   "id": "1a6337b6",
   "metadata": {},
   "outputs": [
    {
     "name": "stdout",
     "output_type": "stream",
     "text": [
      "{True, 'Male', 5.9, 23, 'Hari'}\n",
      "<class 'set'>\n"
     ]
    }
   ],
   "source": [
    "## Creating a Set\n",
    "\n",
    "set1 = {\"Hari\",23,True,1,5.9,\"Male\",23}\n",
    "\n",
    "print(set1)   # {True, 'Male', 5.9, 23, 'Hari'}\n",
    "\n",
    "print(type(set1))   #  <class 'set'>"
   ]
  },
  {
   "cell_type": "code",
   "execution_count": 7,
   "id": "aed66f60",
   "metadata": {},
   "outputs": [
    {
     "name": "stdout",
     "output_type": "stream",
     "text": [
      "<class 'dict'>\n",
      "<class 'set'>\n",
      "{1, 2, 3}\n",
      "<class 'set'>\n",
      "{1, 2, 3}\n",
      "<class 'set'>\n"
     ]
    }
   ],
   "source": [
    "#  Creating an Empty SET :\n",
    "\n",
    "s1 = {}\n",
    "print(type(s1))  # it returns \" <class 'dict'> \"\n",
    "\n",
    "s2 = set()\n",
    "print(type(s2))   #<class 'set'>\n",
    "\n",
    "s3 = set([1,2,3])\n",
    "print(s3)             # {1, 2, 3}\n",
    "print(type(s3))       # <class 'set'>\n",
    "\n",
    "s4 = set((1,2,3))\n",
    "print(s4)             # {1, 2, 3}\n",
    "print(type(s4))       # <class 'set'>"
   ]
  },
  {
   "cell_type": "code",
   "execution_count": 8,
   "id": "66967e15",
   "metadata": {},
   "outputs": [
    {
     "name": "stdout",
     "output_type": "stream",
     "text": [
      "6\n"
     ]
    }
   ],
   "source": [
    "# Basic Operations  -  len()\n",
    "\n",
    "s1 = {1,2,3,4,5,6}\n",
    "print(len(s1))    # 6"
   ]
  },
  {
   "cell_type": "code",
   "execution_count": 9,
   "id": "e89f580f",
   "metadata": {},
   "outputs": [
    {
     "name": "stdout",
     "output_type": "stream",
     "text": [
      "1\n"
     ]
    }
   ],
   "source": [
    "# Basic Operations  -  min()\n",
    "\n",
    "s1 = {1,2,3,4,5,6}\n",
    "print(min(s1))     # 1"
   ]
  },
  {
   "cell_type": "code",
   "execution_count": 10,
   "id": "68cf073b",
   "metadata": {},
   "outputs": [
    {
     "name": "stdout",
     "output_type": "stream",
     "text": [
      "6\n"
     ]
    }
   ],
   "source": [
    "# Basic Operations  -  max()\n",
    "\n",
    "s1 = {1,2,3,4,5,6}\n",
    "print(max(s1))    # 6"
   ]
  },
  {
   "cell_type": "code",
   "execution_count": 11,
   "id": "5321f410",
   "metadata": {},
   "outputs": [
    {
     "name": "stdout",
     "output_type": "stream",
     "text": [
      "21\n"
     ]
    }
   ],
   "source": [
    "# Basic Operations  -  sum()\n",
    "\n",
    "s1 = {1,2,3,4,5,6}\n",
    "print(sum(s1))     #  21"
   ]
  },
  {
   "cell_type": "code",
   "execution_count": 12,
   "id": "fd019193",
   "metadata": {},
   "outputs": [
    {
     "name": "stdout",
     "output_type": "stream",
     "text": [
      "{1, 2, 3, 4, 5, 6, 8}\n"
     ]
    }
   ],
   "source": [
    "# Adding Elements to the set -  add()\n",
    "\n",
    "s1 = {1,2,3,4,5,6}\n",
    "\n",
    "s1.add(8)\n",
    "print(s1)   #  {1, 2, 3, 4, 5, 6, 8}"
   ]
  },
  {
   "cell_type": "code",
   "execution_count": 13,
   "id": "b0fd3fb6",
   "metadata": {},
   "outputs": [
    {
     "name": "stdout",
     "output_type": "stream",
     "text": [
      "{1, 2, 3, 4, 5, 6, 'Hello', 'Python'}\n"
     ]
    }
   ],
   "source": [
    "# Adding multiple elements to the set -  update()\n",
    "\n",
    "s1 = {1,2,3,4,5,6}\n",
    "\n",
    "s1.update([\"Hello\",\"Python\"])\n",
    "print(s1)         #    {1, 2, 3, 4, 5, 6, 'Hello', 'Python'}"
   ]
  },
  {
   "cell_type": "code",
   "execution_count": 14,
   "id": "109924d3",
   "metadata": {},
   "outputs": [
    {
     "name": "stdout",
     "output_type": "stream",
     "text": [
      "1\n",
      "2\n",
      "3\n",
      "4\n"
     ]
    }
   ],
   "source": [
    "# Accessing element from set   - by using for loop\n",
    "\n",
    "s1 = {1,2,3,4}\n",
    "\n",
    "for i in s1:\n",
    "    print(i)"
   ]
  },
  {
   "cell_type": "code",
   "execution_count": null,
   "id": "db09f2c6",
   "metadata": {},
   "outputs": [],
   "source": [
    "# Removing element from set"
   ]
  },
  {
   "cell_type": "code",
   "execution_count": 16,
   "id": "88ced59a",
   "metadata": {},
   "outputs": [
    {
     "name": "stdout",
     "output_type": "stream",
     "text": [
      "{'Hari', 5.1, 23}\n"
     ]
    }
   ],
   "source": [
    "# remove()  - Removes the specified element\n",
    "\n",
    "s = {\"Hari\",23,5.10,\"Male\"}\n",
    "s.remove(\"Male\")\n",
    "print(s)    # {'Hari', 5.1, 23}"
   ]
  },
  {
   "cell_type": "code",
   "execution_count": 17,
   "id": "984554bb",
   "metadata": {},
   "outputs": [
    {
     "name": "stdout",
     "output_type": "stream",
     "text": [
      "{'Male', 5.1, 23}\n"
     ]
    }
   ],
   "source": [
    "# discard() - Remove the specified item\n",
    "\n",
    "s = {\"Hari\",23,5.10,\"Male\"}\n",
    "s.discard(\"Hari\")\n",
    "print(s)   # {'Male', 5.1, 23}"
   ]
  },
  {
   "cell_type": "code",
   "execution_count": 21,
   "id": "5a37836b",
   "metadata": {},
   "outputs": [
    {
     "name": "stdout",
     "output_type": "stream",
     "text": [
      "{'Male', 'Hari', 5.1, 23}\n",
      "Male\n",
      "{'Hari', 5.1, 23}\n"
     ]
    }
   ],
   "source": [
    "# pop() - Removes an element from the set\n",
    "\n",
    "s = {\"Hari\",23,5.10,\"Male\"}   \n",
    "print(s)  # {'Male', 'Hari', 5.1, 23}\n",
    "\n",
    "print(s.pop())  # Male     # removes 1 st element in the set\n",
    "\n",
    "print(s)  # {'Hari', 5.1, 23}"
   ]
  },
  {
   "cell_type": "code",
   "execution_count": 47,
   "id": "5e26c26b",
   "metadata": {},
   "outputs": [
    {
     "name": "stdout",
     "output_type": "stream",
     "text": [
      "None\n",
      "<class 'set'>\n"
     ]
    }
   ],
   "source": [
    "# clear() - Remove all elements from the set:\n",
    "    \n",
    "a = {10,20,30}\n",
    "\n",
    "print(a.clear())   # None\n",
    "print(type(a))     # <class 'set'>"
   ]
  },
  {
   "cell_type": "code",
   "execution_count": 48,
   "id": "730410af",
   "metadata": {},
   "outputs": [
    {
     "name": "stdout",
     "output_type": "stream",
     "text": [
      "{10, 20, 30}\n"
     ]
    }
   ],
   "source": [
    "# copy()\n",
    "\n",
    "a = {10,20,30}\n",
    "\n",
    "b = a.copy()\n",
    "print(b)    # {10, 20, 30}"
   ]
  },
  {
   "cell_type": "markdown",
   "id": "22dcfe0a",
   "metadata": {},
   "source": [
    "#                            SET  - Methods"
   ]
  },
  {
   "cell_type": "code",
   "execution_count": 22,
   "id": "5301c06a",
   "metadata": {},
   "outputs": [
    {
     "data": {
      "text/plain": [
       "['__and__',\n",
       " '__class__',\n",
       " '__class_getitem__',\n",
       " '__contains__',\n",
       " '__delattr__',\n",
       " '__dir__',\n",
       " '__doc__',\n",
       " '__eq__',\n",
       " '__format__',\n",
       " '__ge__',\n",
       " '__getattribute__',\n",
       " '__getstate__',\n",
       " '__gt__',\n",
       " '__hash__',\n",
       " '__iand__',\n",
       " '__init__',\n",
       " '__init_subclass__',\n",
       " '__ior__',\n",
       " '__isub__',\n",
       " '__iter__',\n",
       " '__ixor__',\n",
       " '__le__',\n",
       " '__len__',\n",
       " '__lt__',\n",
       " '__ne__',\n",
       " '__new__',\n",
       " '__or__',\n",
       " '__rand__',\n",
       " '__reduce__',\n",
       " '__reduce_ex__',\n",
       " '__repr__',\n",
       " '__ror__',\n",
       " '__rsub__',\n",
       " '__rxor__',\n",
       " '__setattr__',\n",
       " '__sizeof__',\n",
       " '__str__',\n",
       " '__sub__',\n",
       " '__subclasshook__',\n",
       " '__xor__',\n",
       " 'add',\n",
       " 'clear',\n",
       " 'copy',\n",
       " 'difference',\n",
       " 'difference_update',\n",
       " 'discard',\n",
       " 'intersection',\n",
       " 'intersection_update',\n",
       " 'isdisjoint',\n",
       " 'issubset',\n",
       " 'issuperset',\n",
       " 'pop',\n",
       " 'remove',\n",
       " 'symmetric_difference',\n",
       " 'symmetric_difference_update',\n",
       " 'union',\n",
       " 'update']"
      ]
     },
     "execution_count": 22,
     "metadata": {},
     "output_type": "execute_result"
    }
   ],
   "source": [
    "dir(set)"
   ]
  },
  {
   "cell_type": "code",
   "execution_count": 23,
   "id": "008a9618",
   "metadata": {},
   "outputs": [
    {
     "name": "stdout",
     "output_type": "stream",
     "text": [
      "{'Blue', 'Purple', 'Green', 'Orange', 'Pink', 'Black', 'Red', 'Yellow'}\n"
     ]
    }
   ],
   "source": [
    "# union()  - Return a set containing the union of sets\n",
    "\n",
    "s1 = {\"Black\",\"Blue\",\"Yellow\",\"Pink\"}\n",
    "s2 = {\"Red\",\"Purple\",\"Green\",\"Black\",\"Orange\",\"Pink\"} \n",
    "\n",
    "print(s1.union(s2))  # {'Blue', 'Purple', 'Green', 'Orange', 'Pink', 'Black', 'Red', 'Yellow'}"
   ]
  },
  {
   "cell_type": "code",
   "execution_count": 26,
   "id": "671138a1",
   "metadata": {},
   "outputs": [
    {
     "name": "stdout",
     "output_type": "stream",
     "text": [
      "{'Black', 'Pink'}\n",
      "{'Pink', 'Blue', 'Black', 'Yellow'}\n"
     ]
    }
   ],
   "source": [
    "# intersection()  - Returns a set, that is the intersection of two other sets\n",
    "\n",
    "s1 = {\"Black\",\"Blue\",\"Yellow\",\"Pink\"}\n",
    "s2 = {\"Red\",\"Purple\",\"Green\",\"Black\",\"Orange\",\"Pink\"} \n",
    "\n",
    "print(s1.intersection(s2))   #  {'Black', 'Pink'}\n",
    "\n",
    "print(s1)  # {'Pink', 'Blue', 'Black', 'Yellow'}  // difference b/w intersection_update and \n",
    "#                                                                              intersection"
   ]
  },
  {
   "cell_type": "code",
   "execution_count": 28,
   "id": "e429a666",
   "metadata": {},
   "outputs": [
    {
     "name": "stdout",
     "output_type": "stream",
     "text": [
      "None\n",
      "{'Black', 'Pink'}\n"
     ]
    }
   ],
   "source": [
    "# intersection_update() -Removes the items in this set that are not present in other,\n",
    "#                         specified set(s)\n",
    "\n",
    "s1 = {\"Black\",\"Blue\",\"Yellow\",\"Pink\"}\n",
    "s2 = {\"Red\",\"Purple\",\"Green\",\"Black\",\"Orange\",\"Pink\"} \n",
    "\n",
    "print(s1.intersection_update(s2))  # none\n",
    "print(s1)  # {'Black', 'Pink'}             // difference b/w intersection_update and \n",
    "#                                                                              intersection"
   ]
  },
  {
   "cell_type": "code",
   "execution_count": 30,
   "id": "b39404c3",
   "metadata": {},
   "outputs": [
    {
     "name": "stdout",
     "output_type": "stream",
     "text": [
      "{'Blue', 'Yellow'}\n",
      "{'Purple', 'Red', 'Orange', 'Green'}\n"
     ]
    }
   ],
   "source": [
    "# difference() - removes common name from two sets and return the given result set\n",
    "\n",
    "s1 = {\"Black\",\"Blue\",\"Yellow\",\"Pink\"}\n",
    "s2 = {\"Red\",\"Purple\",\"Green\",\"Black\",\"Orange\",\"Pink\"}\n",
    "\n",
    "print(s1.difference(s2))  #  {'Blue', 'Yellow'}\n",
    "\n",
    "print(s2.difference(s1))  #  {'Purple', 'Red', 'Orange', 'Green'}"
   ]
  },
  {
   "cell_type": "code",
   "execution_count": 32,
   "id": "d3694067",
   "metadata": {},
   "outputs": [
    {
     "name": "stdout",
     "output_type": "stream",
     "text": [
      "None\n",
      "{'Blue', 'Yellow'}\n"
     ]
    }
   ],
   "source": [
    "# difference_update() - Removes the items in this set that are also included in another, \n",
    "#                                                                          specified set\n",
    "\n",
    "s1 = {\"Black\",\"Blue\",\"Yellow\",\"Pink\"}\n",
    "s2 = {\"Red\",\"Purple\",\"Green\",\"Black\",\"Orange\",\"Pink\"}\n",
    "\n",
    "print(s1.difference_update(s2))   # None\n",
    "print(s1)  # {'Blue', 'Yellow'}"
   ]
  },
  {
   "cell_type": "code",
   "execution_count": 33,
   "id": "b14cd745",
   "metadata": {},
   "outputs": [
    {
     "name": "stdout",
     "output_type": "stream",
     "text": [
      "{'Blue', 'Orange', 'Purple', 'Red', 'Green', 'Yellow'}\n"
     ]
    }
   ],
   "source": [
    "#  symmetric_difference() - removes common names from both the sets\n",
    "#                         - returns the remaining values from both the sets   \n",
    "\n",
    "s1 = {\"Black\",\"Blue\",\"Yellow\",\"Pink\"}\n",
    "s2 = {\"Red\",\"Purple\",\"Green\",\"Black\",\"Orange\",\"Pink\"}\n",
    "\n",
    "print(s1.symmetric_difference(s2)) # {'Blue', 'Orange', 'Purple', 'Red', 'Green', 'Yellow'}"
   ]
  },
  {
   "cell_type": "code",
   "execution_count": 35,
   "id": "51a8361a",
   "metadata": {},
   "outputs": [
    {
     "name": "stdout",
     "output_type": "stream",
     "text": [
      "None\n",
      "{'Blue', 'Purple', 'Green', 'Orange', 'Red', 'Yellow'}\n"
     ]
    }
   ],
   "source": [
    "# symmetric_difference_update() - inserts the symmetric differences from this set and another\n",
    "\n",
    "s1 = {\"Black\",\"Blue\",\"Yellow\",\"Pink\"}\n",
    "s2 = {\"Red\",\"Purple\",\"Green\",\"Black\",\"Orange\",\"Pink\"}\n",
    "\n",
    "print(s1.symmetric_difference_update(s2))   # None\n",
    "print(s1)    # {'Blue', 'Purple', 'Green', 'Orange', 'Red', 'Yellow'}"
   ]
  },
  {
   "cell_type": "code",
   "execution_count": 40,
   "id": "0336343d",
   "metadata": {},
   "outputs": [
    {
     "name": "stdout",
     "output_type": "stream",
     "text": [
      "False\n",
      "True\n"
     ]
    }
   ],
   "source": [
    "# issubset()  - Returns boolean value whether another set contains this set or not\n",
    "\n",
    "s1 = {\"Black\",\"Blue\",\"Yellow\",\"Pink\"}\n",
    "s2 = {\"Red\",\"Purple\",\"Green\",\"Black\",\"Orange\",\"Pink\"}\n",
    "\n",
    "print(s1.issubset(s2))  # False\n",
    "\n",
    "s1 = {\"Black\",\"Pink\"}\n",
    "s2 = {\"Red\",\"Purple\",\"Green\",\"Black\",\"Orange\",\"Pink\"}\n",
    "\n",
    "print(s1.issubset(s2))  # True"
   ]
  },
  {
   "cell_type": "code",
   "execution_count": 43,
   "id": "ef26d9d6",
   "metadata": {},
   "outputs": [
    {
     "name": "stdout",
     "output_type": "stream",
     "text": [
      "False\n",
      "True\n"
     ]
    }
   ],
   "source": [
    "#  issuperset()  -  Returns whether this set contains another set or not\n",
    "\n",
    "s1 = {\"Black\",\"Pink\"}\n",
    "s2 = {\"Red\",\"Purple\",\"Green\",\"Black\",\"Orange\",\"Pink\"}\n",
    "\n",
    "print(s1.issuperset(s2))   # False\n",
    "\n",
    "s2 = {\"Red\",\"Purple\",\"Green\",\"Black\",\"Orange\",\"Pink\"}\n",
    "s1 = {\"Black\",\"Pink\"}\n",
    "\n",
    "print(s2.issuperset(s1))   # True"
   ]
  },
  {
   "cell_type": "code",
   "execution_count": 45,
   "id": "923996dc",
   "metadata": {},
   "outputs": [
    {
     "name": "stdout",
     "output_type": "stream",
     "text": [
      "True\n",
      "False\n"
     ]
    }
   ],
   "source": [
    "# isdisjoint() - returns True if both the sets having different elements\n",
    "\n",
    "a = {10,20,30}\n",
    "b = {40,50}\n",
    "\n",
    "print(a.isdisjoint(b))  # True\n",
    "\n",
    "a = {10,20,30}\n",
    "b = {40,50,30}\n",
    "\n",
    "print(a.isdisjoint(b))  # False"
   ]
  }
 ],
 "metadata": {
  "kernelspec": {
   "display_name": "Python 3 (ipykernel)",
   "language": "python",
   "name": "python3"
  },
  "language_info": {
   "codemirror_mode": {
    "name": "ipython",
    "version": 3
   },
   "file_extension": ".py",
   "mimetype": "text/x-python",
   "name": "python",
   "nbconvert_exporter": "python",
   "pygments_lexer": "ipython3",
   "version": "3.11.5"
  }
 },
 "nbformat": 4,
 "nbformat_minor": 5
}
