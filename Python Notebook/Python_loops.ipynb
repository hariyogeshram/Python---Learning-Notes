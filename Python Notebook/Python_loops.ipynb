{
 "cells": [
  {
   "cell_type": "markdown",
   "id": "3294ce17-adde-434c-8a9c-e9dc8d0eb8c8",
   "metadata": {},
   "source": [
    "## Iterative Executions"
   ]
  },
  {
   "cell_type": "markdown",
   "id": "ea0cc8ef-130f-4f7e-b605-ad4abc58390c",
   "metadata": {},
   "source": [
    "### What is iteration?\n",
    "-Doing repetative tasks\n",
    "- Include conditional statements to check for the condition till its true\n",
    "- Line by line execution"
   ]
  },
  {
   "cell_type": "code",
   "execution_count": null,
   "id": "d5c9a83b-1fc4-4fa8-aa6e-cee369d893e1",
   "metadata": {},
   "outputs": [],
   "source": [
    "Name_list = ['Gomathi','Dev','Arthi']"
   ]
  },
  {
   "cell_type": "markdown",
   "id": "355b6091-b0ec-4500-9c5d-5efc32ccf88b",
   "metadata": {},
   "source": [
    "### There are two loops\n",
    "- For\n",
    "- While"
   ]
  },
  {
   "cell_type": "code",
   "execution_count": null,
   "id": "1797057e-820a-4861-8846-825b39fc4c16",
   "metadata": {},
   "outputs": [],
   "source": [
    "# While( We need to know the number of iterations or elements inside the container)\n",
    "# If i initiate a while loop without end or break or counter? Infinite loop"
   ]
  },
  {
   "cell_type": "code",
   "execution_count": 3,
   "id": "227b5f55-3b1a-4d51-ae7f-d1041452e449",
   "metadata": {},
   "outputs": [
    {
     "name": "stdout",
     "output_type": "stream",
     "text": [
      "Stop the Vehicle\n"
     ]
    }
   ],
   "source": [
    "Signal_Yellow = True\n",
    "Signal_Green = True\n",
    "Signal_Red = True # Variable\n",
    "while Signal_Red:\n",
    "    print(\"Stop the Vehicle\")\n",
    "    break"
   ]
  },
  {
   "cell_type": "code",
   "execution_count": 7,
   "id": "2dbe2269-77b6-41f9-a6e4-e52fbfb9c51e",
   "metadata": {},
   "outputs": [
    {
     "name": "stdout",
     "output_type": "stream",
     "text": [
      "1\n",
      "Am i inside the loop?\n",
      "2\n",
      "Am i inside the loop?\n",
      "3\n",
      "Am i inside the loop?\n",
      "4\n",
      "Am i inside the loop?\n",
      "5\n",
      "Am i inside the loop?\n",
      "6\n",
      "Am i inside the loop?\n",
      "7\n",
      "Am i inside the loop?\n",
      "8\n",
      "Am i inside the loop?\n",
      "9\n",
      "Am i inside the loop?\n",
      "10\n",
      "Am i inside the loop?\n",
      "AM i outside the loop?\n"
     ]
    }
   ],
   "source": [
    "i = 0 #initialization or iterative variable\n",
    "while i<10: # 0<10?\n",
    "    i = i+1 #Counter increment #i=1\n",
    "    print(i) #printing 1\n",
    "    print(\"Am i inside the loop?\")\n",
    "# The process is called debugging\n",
    "print(\"AM i outside the loop?\")"
   ]
  },
  {
   "cell_type": "code",
   "execution_count": 19,
   "id": "95f9cf93-fb49-4180-a94b-f0d8ff04f81c",
   "metadata": {},
   "outputs": [
    {
     "name": "stdout",
     "output_type": "stream",
     "text": [
      "For this loop run, i values is  1\n",
      "For this loop run, i values is  2\n",
      "For this loop run, i values is  3\n",
      "For this loop run, i values is  4\n",
      "For this loop run, i values is  5\n",
      "For this loop run, i values is  6\n",
      "For this loop run, i values is  7\n",
      "For this loop run, i values is  8\n",
      "For this loop run, i values is  9\n",
      "For this loop run, i values is  10\n",
      "One time\n"
     ]
    }
   ],
   "source": [
    "# break vs continue\n",
    "i = 0\n",
    "while i<10:\n",
    "    i=i+1\n",
    "    if i==5: #equals to:\n",
    "        pass\n",
    "    print(\"For this loop run, i values is \",i)\n",
    "print(\"One time\")#String concat"
   ]
  },
  {
   "cell_type": "code",
   "execution_count": 13,
   "id": "f4cc8db5-cb79-464b-8c8e-a35465e4cfdf",
   "metadata": {},
   "outputs": [
    {
     "data": {
      "text/plain": [
       "True"
      ]
     },
     "execution_count": 13,
     "metadata": {},
     "output_type": "execute_result"
    }
   ],
   "source": [
    "Signal_Red"
   ]
  },
  {
   "cell_type": "code",
   "execution_count": 16,
   "id": "a0d091c6-0016-4cf0-bbfa-a559d40189d8",
   "metadata": {},
   "outputs": [
    {
     "name": "stdout",
     "output_type": "stream",
     "text": [
      "Now, Signal red is True, Signal green is False\n"
     ]
    }
   ],
   "source": [
    "print(f\"Now, Signal red is {Signal_Red}, Signal green is {Signal_Green}\")"
   ]
  },
  {
   "cell_type": "code",
   "execution_count": 15,
   "id": "c5ceae77-b7a8-4bbb-afc2-c72b71c1970f",
   "metadata": {},
   "outputs": [
    {
     "name": "stdout",
     "output_type": "stream",
     "text": [
      "Now, Signal red is True\n"
     ]
    }
   ],
   "source": [
    "print(\"Now, Signal red is\",Signal_Red,\"Signal Green is\",)"
   ]
  },
  {
   "cell_type": "code",
   "execution_count": 26,
   "id": "f558a5a8-2982-4b13-b2f0-86872a9e5f02",
   "metadata": {},
   "outputs": [],
   "source": [
    "#Format\n",
    "Name = \"Suresh\"\n",
    "Age = 25\n",
    "English_mark = 80"
   ]
  },
  {
   "cell_type": "code",
   "execution_count": 21,
   "id": "7cf00b6e-3704-4898-b70e-d6adad7ce6c8",
   "metadata": {},
   "outputs": [
    {
     "name": "stdout",
     "output_type": "stream",
     "text": [
      "Hi,Suresh. Your english mark is 80\n"
     ]
    }
   ],
   "source": [
    "# i want to print Hi, Suresh your english mark is 80\n",
    "print(\"Hi,Suresh. Your english mark is 80\")"
   ]
  },
  {
   "cell_type": "code",
   "execution_count": 22,
   "id": "342dc9b1-6051-4502-8f95-e9b319bfc5d8",
   "metadata": {},
   "outputs": [],
   "source": [
    "Name_2 = \"Kathikeyan\"\n",
    "Englidsh_marks = 85"
   ]
  },
  {
   "cell_type": "code",
   "execution_count": 24,
   "id": "e1170a76-9f5c-4a47-88ff-512234240128",
   "metadata": {},
   "outputs": [
    {
     "name": "stdout",
     "output_type": "stream",
     "text": [
      "Hi,Karthikeyan. Your english mark is 85\n"
     ]
    }
   ],
   "source": [
    "print(\"Hi,Karthikeyan. Your english mark is 85\")"
   ]
  },
  {
   "cell_type": "code",
   "execution_count": 28,
   "id": "4821d89a-d300-477f-9f4a-a7a6337f1369",
   "metadata": {},
   "outputs": [
    {
     "name": "stdout",
     "output_type": "stream",
     "text": [
      "Hi,Kathikeyan. YOur english marks is 85\n"
     ]
    }
   ],
   "source": [
    "print(f\"Hi,{Name_2}. YOur english marks is {Englidsh_marks}\")"
   ]
  },
  {
   "cell_type": "code",
   "execution_count": 29,
   "id": "101ff035-8301-4d3d-b7e7-9dbcd2b9da06",
   "metadata": {},
   "outputs": [],
   "source": [
    "Names = [\"Suresh\",\"Karthikeyan\"]\n",
    "Marks = [80,85]"
   ]
  },
  {
   "cell_type": "code",
   "execution_count": 30,
   "id": "9303527e-d379-40a1-8681-e6c6431379a7",
   "metadata": {},
   "outputs": [
    {
     "name": "stdout",
     "output_type": "stream",
     "text": [
      "Suresh\n",
      "Karthikeyan\n"
     ]
    }
   ],
   "source": [
    "# For loop\n",
    "for i in Names:\n",
    "    print(i)"
   ]
  },
  {
   "cell_type": "code",
   "execution_count": 31,
   "id": "30f091a4-e854-4221-840a-6868b1c3ac0f",
   "metadata": {},
   "outputs": [
    {
     "name": "stdout",
     "output_type": "stream",
     "text": [
      "0\n",
      "1\n",
      "2\n",
      "3\n",
      "4\n",
      "5\n",
      "6\n",
      "7\n",
      "8\n",
      "9\n"
     ]
    }
   ],
   "source": [
    "for i in range(10):\n",
    "    print(i) # i am printing the first 10 numbers"
   ]
  },
  {
   "cell_type": "code",
   "execution_count": 32,
   "id": "f4c24d5d-8342-43b1-8578-d84b798569bd",
   "metadata": {},
   "outputs": [
    {
     "name": "stdout",
     "output_type": "stream",
     "text": [
      "5\n",
      "6\n",
      "7\n",
      "8\n",
      "9\n"
     ]
    }
   ],
   "source": [
    "for i in range(5,10):\n",
    "    print(i)"
   ]
  },
  {
   "cell_type": "code",
   "execution_count": 33,
   "id": "8b972780-5898-48a6-831d-0cbaac4b6028",
   "metadata": {},
   "outputs": [
    {
     "name": "stdout",
     "output_type": "stream",
     "text": [
      "5\n",
      "7\n",
      "9\n"
     ]
    }
   ],
   "source": [
    "for i in range(5,10,2):\n",
    "    print(i)"
   ]
  },
  {
   "cell_type": "code",
   "execution_count": 35,
   "id": "94c90a08-7a4a-41e9-9728-fc8a31b1e93d",
   "metadata": {},
   "outputs": [
    {
     "name": "stdout",
     "output_type": "stream",
     "text": [
      "Yes\n"
     ]
    }
   ],
   "source": [
    "Name = \"Stephen\"\n",
    "if Name==\"Stephen\":\n",
    "    print(\"Yes\")"
   ]
  },
  {
   "cell_type": "code",
   "execution_count": 43,
   "id": "a61f91d7-5b22-4b75-8a02-e08c56f5dfa8",
   "metadata": {},
   "outputs": [
    {
     "name": "stdout",
     "output_type": "stream",
     "text": [
      "1\n"
     ]
    }
   ],
   "source": [
    "List = [1,2,3,4,5]\n",
    "List_2 = []\n",
    "for i in List:\n",
    "    if i%2!=0: #i=1\n",
    "        print(i)"
   ]
  },
  {
   "cell_type": "code",
   "execution_count": 39,
   "id": "ec8a6815-1e63-4974-be9d-5aa4d52e2aac",
   "metadata": {},
   "outputs": [
    {
     "data": {
      "text/plain": [
       "[2, 4, 6, 8, 10]"
      ]
     },
     "execution_count": 39,
     "metadata": {},
     "output_type": "execute_result"
    }
   ],
   "source": [
    "List_2"
   ]
  },
  {
   "cell_type": "markdown",
   "id": "3d10d4b9-f8a6-43b0-b42e-16c2547f9431",
   "metadata": {},
   "source": [
    "Lets say you are driving, writing code block to give you three tickets\n",
    "\"No Ticket\",\"Small Ticket\",\"Big Ticket\"\n",
    "if your speed is between 61 to 80 it is small, if it is 81 or more, it is big if its is less than 60 no ticket"
   ]
  },
  {
   "cell_type": "code",
   "execution_count": 47,
   "id": "2a84a7f3-4195-4598-8c37-6808450a7e7a",
   "metadata": {},
   "outputs": [
    {
     "name": "stdin",
     "output_type": "stream",
     "text": [
      "What is your speed? 85\n"
     ]
    },
    {
     "name": "stdout",
     "output_type": "stream",
     "text": [
      "Big Ticket\n"
     ]
    }
   ],
   "source": [
    "Speed = input(\"What is your speed?\")\n",
    "Speed = int(Speed)\n",
    "if Speed >= 61 and Speed < 81:\n",
    "    print(\"Small Ticket\")\n",
    "elif Speed >=81:\n",
    "    print(\"Big Ticket\")\n",
    "else:\n",
    "    print(\"No ticket\")"
   ]
  },
  {
   "cell_type": "code",
   "execution_count": 49,
   "id": "ace9afa7-719b-4940-b49b-b6f2c0ca2e56",
   "metadata": {},
   "outputs": [],
   "source": [
    "Dict = {\"Name\":\"Stephen\",\n",
    "       \"Nationality\":\"Indian\",\n",
    "       \"Height\":177}"
   ]
  },
  {
   "cell_type": "code",
   "execution_count": 52,
   "id": "7d0c1c9c-2c42-445a-81ea-63d55289c237",
   "metadata": {},
   "outputs": [
    {
     "name": "stdout",
     "output_type": "stream",
     "text": [
      "Name\n",
      "Nationality\n",
      "Height\n"
     ]
    }
   ],
   "source": [
    "for i in Dict:\n",
    "    print(i)"
   ]
  },
  {
   "cell_type": "markdown",
   "id": "2684dd56-44ca-424c-9559-5bc4c5f46d89",
   "metadata": {},
   "source": [
    "### Functions in python\n",
    "- Set if instructions\n",
    "- code reusability\n",
    "- block of codes\n",
    "\n",
    "There are two types\n",
    "inbuilt function\n",
    "UDF(User defined function)"
   ]
  },
  {
   "cell_type": "code",
   "execution_count": 53,
   "id": "41a3ad0a-b302-4253-8de3-8c57b0f1f29a",
   "metadata": {},
   "outputs": [
    {
     "name": "stdout",
     "output_type": "stream",
     "text": [
      "Hello\n"
     ]
    }
   ],
   "source": [
    "print(\"Hello\") # Print is a fuction as we are passing the parameters or arguments"
   ]
  },
  {
   "cell_type": "code",
   "execution_count": 54,
   "id": "eee8ec33-f118-4810-8ba8-d9792625fb05",
   "metadata": {},
   "outputs": [],
   "source": [
    "A = [10,20,30,40,50]"
   ]
  },
  {
   "cell_type": "markdown",
   "id": "59162012-f318-40f8-a673-0bd2ac3bd68f",
   "metadata": {},
   "source": [
    "### "
   ]
  },
  {
   "cell_type": "code",
   "execution_count": 55,
   "id": "818aeb53-816f-4499-b64e-b07ff675643a",
   "metadata": {},
   "outputs": [
    {
     "data": {
      "text/plain": [
       "[10, 20, 30, 40, 50]"
      ]
     },
     "execution_count": 55,
     "metadata": {},
     "output_type": "execute_result"
    }
   ],
   "source": [
    "A"
   ]
  },
  {
   "cell_type": "code",
   "execution_count": 56,
   "id": "76ead555-f639-4af8-b450-0a49fd522ce1",
   "metadata": {},
   "outputs": [
    {
     "data": {
      "text/plain": [
       "150"
      ]
     },
     "execution_count": 56,
     "metadata": {},
     "output_type": "execute_result"
    }
   ],
   "source": [
    "sum(A)"
   ]
  },
  {
   "cell_type": "code",
   "execution_count": 57,
   "id": "1d313b9c-89dc-4b40-bb9b-54593959e03d",
   "metadata": {},
   "outputs": [],
   "source": [
    "def welcome_notice():\n",
    "    print(\"********************\")\n",
    "    print(\"Welcome, guys\")\n",
    "    print(\"*********************\")"
   ]
  },
  {
   "cell_type": "code",
   "execution_count": 58,
   "id": "636b3ef2-36e7-4e6e-9c03-1c7536d281d4",
   "metadata": {},
   "outputs": [
    {
     "name": "stdout",
     "output_type": "stream",
     "text": [
      "********************\n",
      "Welcome, guys\n",
      "*********************\n"
     ]
    }
   ],
   "source": [
    "welcome_notice()"
   ]
  },
  {
   "cell_type": "code",
   "execution_count": 71,
   "id": "61043c51-285a-4aaa-b10e-eb504219daa2",
   "metadata": {},
   "outputs": [],
   "source": [
    "def addd(A,B):\n",
    "    C = A+B\n",
    "    return C"
   ]
  },
  {
   "cell_type": "code",
   "execution_count": 62,
   "id": "4edfd3e6-6cd3-4bd0-acdc-4f2baa090c60",
   "metadata": {},
   "outputs": [
    {
     "name": "stdout",
     "output_type": "stream",
     "text": [
      "20\n"
     ]
    }
   ],
   "source": [
    "addd(10,10)"
   ]
  },
  {
   "cell_type": "code",
   "execution_count": 72,
   "id": "e1873869-852b-4585-a8d9-c8bd215332ac",
   "metadata": {},
   "outputs": [],
   "source": [
    "Final_sum_10_20 = addd(10,20)"
   ]
  },
  {
   "cell_type": "code",
   "execution_count": 73,
   "id": "6ab49144-0d97-423f-a8ef-0138d9db640e",
   "metadata": {},
   "outputs": [
    {
     "data": {
      "text/plain": [
       "30"
      ]
     },
     "execution_count": 73,
     "metadata": {},
     "output_type": "execute_result"
    }
   ],
   "source": [
    "Final_sum_10_20"
   ]
  },
  {
   "cell_type": "code",
   "execution_count": 74,
   "id": "ce2aa592-678c-487e-82f1-e3fad605696a",
   "metadata": {},
   "outputs": [],
   "source": [
    "set_2 = addd(20,40)"
   ]
  },
  {
   "cell_type": "code",
   "execution_count": 75,
   "id": "8896b18d-6c4a-4a04-8184-ad93dae90149",
   "metadata": {},
   "outputs": [],
   "source": [
    "def ticket_generation(speed):\n",
    "    if Speed >= 61 and Speed < 81:\n",
    "        print(\"Small Ticket\")\n",
    "    elif Speed >=81:\n",
    "        print(\"Big Ticket\")\n",
    "    else:\n",
    "        print(\"No ticket\")"
   ]
  },
  {
   "cell_type": "code",
   "execution_count": 77,
   "id": "87f950e3-a91a-4bbf-9874-bfa95ac47625",
   "metadata": {},
   "outputs": [
    {
     "name": "stdin",
     "output_type": "stream",
     "text": [
      "Please enter your speed 100\n"
     ]
    },
    {
     "name": "stdout",
     "output_type": "stream",
     "text": [
      "Big Ticket\n"
     ]
    }
   ],
   "source": [
    "ticket_generation(100)"
   ]
  },
  {
   "cell_type": "code",
   "execution_count": 94,
   "id": "c99b0044-8fba-403a-afe4-0c10e6d0d13d",
   "metadata": {},
   "outputs": [],
   "source": [
    "# this function return the ticket based on the speed of the vehicle, now i want to add on more parameter called birthday, then spped mentionec saare 5 hogher\n",
    "\n",
    "def ticket_generation(speed,Is_birthday):\n",
    "    if Is_birthday:\n",
    "        speeding = speed - 5\n",
    "    else:\n",
    "        speeding = speed\n",
    "\n",
    "    if speeding > 80:\n",
    "        print(\"Big ticket\")\n",
    "    elif speeding >60:\n",
    "        print(\"Small ticket\")\n",
    "    else:\n",
    "        print(\"No Ticket\")"
   ]
  },
  {
   "cell_type": "code",
   "execution_count": 95,
   "id": "7caa6531-c8e4-40b1-964c-885218e82292",
   "metadata": {},
   "outputs": [
    {
     "name": "stdout",
     "output_type": "stream",
     "text": [
      "Small ticket\n"
     ]
    }
   ],
   "source": [
    "ticket_generation(81,True)"
   ]
  },
  {
   "cell_type": "code",
   "execution_count": 96,
   "id": "0799bfc2-570a-42c7-b531-069a57c20095",
   "metadata": {},
   "outputs": [
    {
     "name": "stdout",
     "output_type": "stream",
     "text": [
      "Big ticket\n"
     ]
    }
   ],
   "source": [
    "ticket_generation(81,False)"
   ]
  },
  {
   "cell_type": "markdown",
   "id": "b104ef85-c796-4fe6-8589-68b5612a2af8",
   "metadata": {},
   "source": [
    "def function_name(parameters):\n",
    "    handle all the parameters\n",
    "    return the required elements"
   ]
  },
  {
   "cell_type": "markdown",
   "id": "3e0f70dd-316f-440b-8bdf-d811170209f9",
   "metadata": {},
   "source": [
    "call_the function(arguements)"
   ]
  },
  {
   "cell_type": "code",
   "execution_count": null,
   "id": "80ad5a6e-d5e5-4855-896b-bc818994adb3",
   "metadata": {},
   "outputs": [],
   "source": [
    "def dataframe_cleaning(dataframe):\n",
    "    handle all the cleaning"
   ]
  },
  {
   "cell_type": "code",
   "execution_count": null,
   "id": "8f5495c1-a24a-4e66-993a-33fb6d9bb3eb",
   "metadata": {},
   "outputs": [],
   "source": [
    "dataframe_cleand(df)"
   ]
  },
  {
   "cell_type": "code",
   "execution_count": null,
   "id": "bb02c5a0-bce5-441b-b938-38c6b537964f",
   "metadata": {},
   "outputs": [],
   "source": [
    "String = \"I played cricket when i was young. I always wanted to be a cricketer as i love to play cricket\""
   ]
  },
  {
   "cell_type": "code",
   "execution_count": null,
   "id": "4b34be2b-2ece-4ca6-81d4-2dfced6f0933",
   "metadata": {},
   "outputs": [],
   "source": [
    "find_cricket(\"cricket cricket\")"
   ]
  }
 ],
 "metadata": {
  "kernelspec": {
   "display_name": "Python 3 (ipykernel)",
   "language": "python",
   "name": "python3"
  },
  "language_info": {
   "codemirror_mode": {
    "name": "ipython",
    "version": 3
   },
   "file_extension": ".py",
   "mimetype": "text/x-python",
   "name": "python",
   "nbconvert_exporter": "python",
   "pygments_lexer": "ipython3",
   "version": "3.11.5"
  }
 },
 "nbformat": 4,
 "nbformat_minor": 5
}
