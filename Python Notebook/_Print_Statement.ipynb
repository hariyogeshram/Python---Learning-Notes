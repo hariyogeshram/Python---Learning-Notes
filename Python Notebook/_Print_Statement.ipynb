{
 "cells": [
  {
   "cell_type": "code",
   "execution_count": null,
   "id": "618fb331",
   "metadata": {},
   "outputs": [],
   "source": [
    "                         #  INPUT / OUTPUT Statements\n"
   ]
  },
  {
   "cell_type": "code",
   "execution_count": null,
   "id": "46535701",
   "metadata": {},
   "outputs": [],
   "source": [
    "# Output Statements / Print Statements : \n",
    "\n",
    "        print() -> It prints the message to the screen or output device.\n",
    "    \n",
    "    # Syntax :\n",
    "        \n",
    "                  print(Object,seperator,end,file,flush)"
   ]
  },
  {
   "cell_type": "code",
   "execution_count": 12,
   "id": "26306caf",
   "metadata": {},
   "outputs": [
    {
     "name": "stdout",
     "output_type": "stream",
     "text": [
      "Hey Python\n",
      "Hey Data Science\n"
     ]
    }
   ],
   "source": [
    "# example - 1\n",
    "\n",
    "# Expected output : Hey Python   (\"USING DOUBLE QUOTES\")\n",
    "\n",
    "print(\"Hey Python\")     # o/p : Hey Python\n",
    "\n",
    "\n",
    "# Expected output : Hey Data Science   ('USING SINGLE QUOTES')\n",
    "\n",
    "print('Hey Data Science')     # o/p : Hey Data Science\n",
    "\n",
    "    "
   ]
  },
  {
   "cell_type": "code",
   "execution_count": 13,
   "id": "8254b48f",
   "metadata": {},
   "outputs": [
    {
     "name": "stdout",
     "output_type": "stream",
     "text": [
      "You're here to Learn Python\n"
     ]
    }
   ],
   "source": [
    "# example - 2\n",
    "\n",
    "# Expected output : You're here to Learn Python\n",
    "\n",
    "# Correct Ans :\n",
    "\n",
    "print(\"You're here to Learn Python\")       # o/p : You're here to Learn Python"
   ]
  },
  {
   "cell_type": "code",
   "execution_count": 11,
   "id": "0090f027",
   "metadata": {},
   "outputs": [
    {
     "name": "stdout",
     "output_type": "stream",
     "text": [
      "\"You are here to Learn Python\"\n"
     ]
    }
   ],
   "source": [
    "# example - 3\n",
    "\n",
    "# Expected output : \"You are here to Learn Python\"\n",
    "\n",
    "# Correct Answer : \n",
    "\n",
    "print('\"You are here to Learn Python\"')     # o/p : \"You are here to Learn Python\"\n",
    "\n"
   ]
  },
  {
   "cell_type": "code",
   "execution_count": 14,
   "id": "3d9dca8e",
   "metadata": {},
   "outputs": [
    {
     "name": "stdout",
     "output_type": "stream",
     "text": [
      "\"You're here to Learn Python\"\n"
     ]
    }
   ],
   "source": [
    "# example - 4\n",
    "\n",
    "# Expected output : \"You're here to Learn Python\"\n",
    "\n",
    "# Correct Answer :\n",
    "\n",
    "print('\"You\\'re here to Learn Python\"')   # use \\ -> escape sequence"
   ]
  },
  {
   "cell_type": "code",
   "execution_count": 18,
   "id": "a05b858d",
   "metadata": {},
   "outputs": [
    {
     "name": "stdout",
     "output_type": "stream",
     "text": [
      "Welcome\n",
      "to\n",
      "Python\n",
      "\n",
      "\n",
      "Welcome\n",
      "to\n",
      "Python\n"
     ]
    }
   ],
   "source": [
    "# example - 5\n",
    "\n",
    "# Expected output :  \n",
    " \n",
    "    # Welcome\n",
    "    # to\n",
    "    # Python\n",
    "\n",
    "# Correct Answer :\n",
    "\n",
    "print(\"Welcome\")\n",
    "print(\"to\")\n",
    "print(\"Python\")\n",
    "\n",
    "print(\"\\n\")    # new line\n",
    "\n",
    "# print() using 'Single Line'\n",
    "\n",
    "print(\"Welcome\\nto\\nPython\")\n"
   ]
  },
  {
   "cell_type": "code",
   "execution_count": 20,
   "id": "312b037a",
   "metadata": {},
   "outputs": [
    {
     "name": "stdout",
     "output_type": "stream",
     "text": [
      "Name:Yogesh\n",
      "Gender:Male\n",
      "\n",
      "\n",
      "Name\t:\tYogesh\n",
      "Gender\t:\tMale\n"
     ]
    }
   ],
   "source": [
    "# example - 6\n",
    "\n",
    "# Expected output :\n",
    "\n",
    "# Name:Yogesh\n",
    "# Gender:Male\n",
    "\n",
    "# Correct Answer :\n",
    "\n",
    "print(\"Name:Yogesh\\nGender:Male\")\n",
    "\n",
    "print(\"\\n\")\n",
    "\n",
    "# Expected output :\n",
    "\n",
    "#        Name      :  Yogesh\n",
    "#        Gender    :  Male \n",
    "\n",
    "# Correct Answer :\n",
    "\n",
    "print(\"Name\\t:\\tYogesh\\nGender\\t:\\tMale\")   # \\t - tab -> Aligned sequence"
   ]
  },
  {
   "cell_type": "code",
   "execution_count": 26,
   "id": "a43d7456",
   "metadata": {},
   "outputs": [
    {
     "name": "stdout",
     "output_type": "stream",
     "text": [
      "Happy Learning\n",
      "Happy_Learning\n",
      "Happy + Learning\n",
      "HappyLearning\n"
     ]
    }
   ],
   "source": [
    "# print()     # Seperator (sep=\"any\") -> \"space between 2 words\"\n",
    "\n",
    "# example - 7\n",
    "\n",
    "# Expected output :\n",
    "\n",
    "# Happy Learning\n",
    "# Happy_Learning\n",
    "# Happy + Learning\n",
    "# HappyLearning\n",
    "\n",
    "# Correct Ans :\n",
    "\n",
    "print(\"Happy\",\"Learning\",sep=\" \")         # Happy Learning\n",
    "\n",
    "print(\"Happy\",\"Learning\",sep=\"_\")         # Happy_Learning\n",
    "\n",
    "print(\"Happy\",\"Learning\",sep=\" + \")       # Happy + Learning\n",
    "\n",
    "print(\"Happy\",\"Learning\",sep=\"\")          # HappyLearning\n"
   ]
  },
  {
   "cell_type": "code",
   "execution_count": 30,
   "id": "873dbdc8",
   "metadata": {},
   "outputs": [
    {
     "name": "stdout",
     "output_type": "stream",
     "text": [
      "Welcome to India.\n",
      "\n",
      "Welcome to India\n",
      "\t* Python Series\n",
      "\t* Python Tricks\n"
     ]
    }
   ],
   "source": [
    "# Use end=\" \" parameter\n",
    "\n",
    "# example - 8\n",
    "\n",
    "# Expected output :\n",
    "# use 3 print statements to get output welcome to India in a single line\n",
    "\n",
    "# Welcome to India.\n",
    "\n",
    "# Answer :\n",
    "\n",
    "print(\"Welcome\",end=\" \")\n",
    "print(\"to\",end=\" \")\n",
    "print(\"India\",end=\".\")\n",
    "\n",
    "print(\"\\n\")\n",
    "\n",
    "# Welcome to India     \n",
    "#     * Python Series\n",
    "#     * Python Tricks\n",
    "\n",
    "\n",
    "# Answer :\n",
    "\n",
    "print(\"Welcome to India\",end=\"\\n\\t* \")\n",
    "print(\"Python Series\",end=\"\\n\\t* \")\n",
    "print(\"Python Tricks\")\n",
    "\n"
   ]
  },
  {
   "cell_type": "code",
   "execution_count": null,
   "id": "0c3f7834",
   "metadata": {},
   "outputs": [],
   "source": []
  }
 ],
 "metadata": {
  "kernelspec": {
   "display_name": "Python 3 (ipykernel)",
   "language": "python",
   "name": "python3"
  },
  "language_info": {
   "codemirror_mode": {
    "name": "ipython",
    "version": 3
   },
   "file_extension": ".py",
   "mimetype": "text/x-python",
   "name": "python",
   "nbconvert_exporter": "python",
   "pygments_lexer": "ipython3",
   "version": "3.11.5"
  }
 },
 "nbformat": 4,
 "nbformat_minor": 5
}
