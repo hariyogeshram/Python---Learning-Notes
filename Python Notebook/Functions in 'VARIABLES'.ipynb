{
 "cells": [
  {
   "cell_type": "markdown",
   "id": "5b917bf4",
   "metadata": {},
   "source": [
    "#                        Functions in VARIABLES\n",
    "\n",
    "\n",
    "\n",
    "###    GLOBAL VARIABLES \n",
    "\n",
    "      - variables declared 'outside' the Function\n",
    "\n",
    "###    LOCAL VARIABLES\n",
    "\n",
    "      - variables declared 'inside' the Function"
   ]
  },
  {
   "cell_type": "code",
   "execution_count": 4,
   "id": "243deacf",
   "metadata": {},
   "outputs": [
    {
     "name": "stdout",
     "output_type": "stream",
     "text": [
      "Inside Function :  I am from Global Varible\n"
     ]
    }
   ],
   "source": [
    "#  Examples for \"Global Varibles\" using function\n",
    "\n",
    "global_variable = \"I am from Global Varible\"\n",
    "\n",
    "def glo_var():\n",
    "    \n",
    "    print(\"Inside Function : \",global_variable)\n",
    "    \n",
    "glo_var()"
   ]
  },
  {
   "cell_type": "code",
   "execution_count": 5,
   "id": "3d45d8ed",
   "metadata": {},
   "outputs": [
    {
     "name": "stdout",
     "output_type": "stream",
     "text": [
      "Inside Function :  I am from a Local Variable\n"
     ]
    }
   ],
   "source": [
    "#  Examples for local variables\n",
    "\n",
    "def loc_var():\n",
    "    \n",
    "    local_variable = \"I am from a Local Variable\"\n",
    "    \n",
    "    print(\"Inside Function : \",local_variable)\n",
    "    \n",
    "loc_var()"
   ]
  },
  {
   "cell_type": "code",
   "execution_count": 6,
   "id": "de106698",
   "metadata": {},
   "outputs": [
    {
     "name": "stdout",
     "output_type": "stream",
     "text": [
      "Inside Function :  I am from a Local Variable\n"
     ]
    },
    {
     "ename": "NameError",
     "evalue": "name 'local_variable' is not defined",
     "output_type": "error",
     "traceback": [
      "\u001b[1;31m---------------------------------------------------------------------------\u001b[0m",
      "\u001b[1;31mNameError\u001b[0m                                 Traceback (most recent call last)",
      "Cell \u001b[1;32mIn[6], line 14\u001b[0m\n\u001b[0;32m     10\u001b[0m     \u001b[38;5;28mprint\u001b[39m(\u001b[38;5;124m\"\u001b[39m\u001b[38;5;124mInside Function : \u001b[39m\u001b[38;5;124m\"\u001b[39m,local_variable)\n\u001b[0;32m     12\u001b[0m loc_var()  \n\u001b[1;32m---> 14\u001b[0m \u001b[38;5;28mprint\u001b[39m(\u001b[43mlocal_variable\u001b[49m)   \u001b[38;5;66;03m# calling local_variable outside of the function\u001b[39;00m\n\u001b[0;32m     15\u001b[0m                         \u001b[38;5;66;03m# it returns 'NameError' : name 'local_variable' is not defined\u001b[39;00m\n",
      "\u001b[1;31mNameError\u001b[0m: name 'local_variable' is not defined"
     ]
    }
   ],
   "source": [
    "# Suppose if I am declaring 'local variables' -> outside of a function\n",
    "# And call the local variables outside of a function it shows \"Error\"\n",
    "\n",
    "\n",
    "\n",
    "def loc_var():\n",
    "    \n",
    "    local_variable = \"I am from a Local Variable\"\n",
    "    \n",
    "    print(\"Inside Function : \",local_variable)\n",
    "    \n",
    "loc_var()  \n",
    "\n",
    "print(local_variable)   # calling local_variable outside of the function\n",
    "                        # it returns 'NameError' : name 'local_variable' is not defined"
   ]
  },
  {
   "cell_type": "code",
   "execution_count": null,
   "id": "26345ef2",
   "metadata": {},
   "outputs": [
    {
     "name": "stdout",
     "output_type": "stream",
     "text": [
      "Inside function :  Hey Dude\n",
      "Outside call :  Happy Morning\n"
     ]
    }
   ],
   "source": [
    "# Examples\n",
    "\n",
    "var = \"Happy Morning\"\n",
    "\n",
    "def glo_loc():\n",
    "    \n",
    "    var1 = \"Hey Dude\"\n",
    "    print(\"Inside function : \",var1)\n",
    "    \n",
    "glo_loc()\n",
    "print(\"Outside call : \",var)"
   ]
  },
  {
   "cell_type": "code",
   "execution_count": null,
   "id": "a3441a3a",
   "metadata": {},
   "outputs": [
    {
     "name": "stdout",
     "output_type": "stream",
     "text": [
      "Inside function :  Hey Dude\n",
      "Outside call :  Hey Dude\n"
     ]
    }
   ],
   "source": [
    "# Need to change Global variable inside a function\n",
    "\n",
    "# using 'global' keyword : (inside a function)\n",
    "\n",
    "# Examples :\n",
    "\n",
    "var = \"Happy Morning\"\n",
    "\n",
    "def glo_loc():\n",
    "    \n",
    "    global var\n",
    "    \n",
    "    var = \"Hey Dude\"\n",
    "    print(\"Inside function : \",var)\n",
    "    \n",
    "glo_loc()\n",
    "print(\"Outside call : \",var)"
   ]
  },
  {
   "cell_type": "code",
   "execution_count": null,
   "id": "ef8d80c0",
   "metadata": {},
   "outputs": [
    {
     "name": "stdout",
     "output_type": "stream",
     "text": [
      "Inside Function :  Hey Dude!\n",
      "Happy Morning\n",
      "Outside call :  Happy Morning\n"
     ]
    }
   ],
   "source": [
    "# global and local variables having same variable name\n",
    "\n",
    "# print global variables inside the function - we call \"globals()['variable_name']\"\n",
    "\n",
    "var = \"Happy Morning\"\n",
    "\n",
    "def glo_loc():\n",
    "    \n",
    "    var = \"Hey Dude!\"\n",
    "    print(\"Inside Function : \",var)\n",
    "    \n",
    "    print(globals()['var'])\n",
    "    \n",
    "glo_loc()\n",
    "print(\"Outside call : \",var)"
   ]
  },
  {
   "cell_type": "code",
   "execution_count": null,
   "id": "fa164625",
   "metadata": {},
   "outputs": [
    {
     "name": "stdout",
     "output_type": "stream",
     "text": [
      "Inside Function :  Hey Dude\n",
      "Good Night\n",
      "global variables changed now :  Good Night\n"
     ]
    }
   ],
   "source": [
    "# changing Global variables inside a function\n",
    "\n",
    "var = \"Happy Morning\"\n",
    "\n",
    "def glo_var():\n",
    "    var = \"Hey Dude\"\n",
    "    print(\"Inside Function : \",var)\n",
    "    \n",
    "    # changing global variable using globals()['var_name']\n",
    "    globals()['var'] = \"Good Night\"\n",
    "    \n",
    "    print(globals()['var'])\n",
    "    \n",
    "glo_var()\n",
    "\n",
    "print(\"global variables changed now : \",var)"
   ]
  }
 ],
 "metadata": {
  "kernelspec": {
   "display_name": "Python 3 (ipykernel)",
   "language": "python",
   "name": "python3"
  },
  "language_info": {
   "codemirror_mode": {
    "name": "ipython",
    "version": 3
   },
   "file_extension": ".py",
   "mimetype": "text/x-python",
   "name": "python",
   "nbconvert_exporter": "python",
   "pygments_lexer": "ipython3",
   "version": "3.12.1"
  }
 },
 "nbformat": 4,
 "nbformat_minor": 5
}
