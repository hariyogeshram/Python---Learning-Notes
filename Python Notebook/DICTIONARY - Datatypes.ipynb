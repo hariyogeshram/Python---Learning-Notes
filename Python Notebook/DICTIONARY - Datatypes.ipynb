{
 "cells": [
  {
   "cell_type": "markdown",
   "id": "48d83fd8",
   "metadata": {},
   "source": [
    "#                                  DICTIONARY\n",
    "\n",
    "      -  Used to store data values in \"Key-Value\" pairs\n",
    "      -  Ordered Collection of data\n",
    "      -  'Mutable'\n",
    "      -  does not allow duplicate values\n",
    "      -  It can be referred by using \"Key\" name.\n",
    "      -  Represented in Curly braces {}."
   ]
  },
  {
   "cell_type": "code",
   "execution_count": null,
   "id": "2a9d59de",
   "metadata": {},
   "outputs": [],
   "source": [
    " # Syntax :\n",
    "    \n",
    "#       variable = {\"key\" : \"value\"}\n",
    "    \n",
    "  # Examples :\n",
    " \n",
    "#       dict_1 = {\"Name\" : \"Hari\", \"Age\" : 23}   "
   ]
  },
  {
   "cell_type": "code",
   "execution_count": 2,
   "id": "78fe6c64",
   "metadata": {},
   "outputs": [
    {
     "name": "stdout",
     "output_type": "stream",
     "text": [
      "<class 'dict'>\n"
     ]
    }
   ],
   "source": [
    "#  Creating an EMPTY Dictionary\n",
    "\n",
    "dict1 = {}\n",
    "\n",
    "print(type(dict1))      #  <class 'dict'>"
   ]
  },
  {
   "cell_type": "code",
   "execution_count": 3,
   "id": "20715738",
   "metadata": {},
   "outputs": [
    {
     "name": "stdout",
     "output_type": "stream",
     "text": [
      "{'Name': 'Hari', 'Age': 23}\n"
     ]
    }
   ],
   "source": [
    "# LIST as Dictionary\n",
    "\n",
    "a = [\"Name\",\"Age\"]\n",
    "b = [\"Hari\",23]\n",
    "\n",
    "c = dict(zip(a,b))\n",
    " \n",
    "print(c)           # {'Name': 'Hari', 'Age': 23}"
   ]
  },
  {
   "cell_type": "code",
   "execution_count": 5,
   "id": "cabe15de",
   "metadata": {},
   "outputs": [
    {
     "name": "stdout",
     "output_type": "stream",
     "text": [
      "{'Name': 'Hari', 'Age': 23}\n"
     ]
    }
   ],
   "source": [
    "#  TUPLE as Dictionary\n",
    "\n",
    "a = (\"Name\",\"Age\",\"Height\")   # it doesn't show any errors while adding extra key attributes\n",
    "b = (\"Hari\",23)\n",
    "\n",
    "c = dict(zip(a,b))\n",
    " \n",
    "print(c)       # {'Name': 'Hari', 'Age': 23}"
   ]
  },
  {
   "cell_type": "code",
   "execution_count": 8,
   "id": "b9e2dd5d",
   "metadata": {},
   "outputs": [
    {
     "name": "stdout",
     "output_type": "stream",
     "text": [
      "{'name': 'Hari', 'age': 23}\n",
      "{'name': 'Hari', 'Age': 23}\n"
     ]
    }
   ],
   "source": [
    "#  dict() function\n",
    "\n",
    "result = dict(name = \"Hari\", age = 23)  # not worry about the double quotes in keys\n",
    "\n",
    "print(result)   # {'name': 'Hari', 'age': 23}\n",
    "\n",
    "result = dict([(\"name\",\"Hari\"),(\"Age\",23)])\n",
    "print(result)     # {'name': 'Hari', 'Age': 23}"
   ]
  },
  {
   "cell_type": "code",
   "execution_count": 9,
   "id": "b5be8c76",
   "metadata": {},
   "outputs": [
    {
     "name": "stdout",
     "output_type": "stream",
     "text": [
      "2\n"
     ]
    }
   ],
   "source": [
    "# Basic Operations -  len\n",
    "\n",
    "dict_1 = {'name': 'Hari', 'age': 23}\n",
    "\n",
    "print(len(dict_1))   # 2"
   ]
  },
  {
   "cell_type": "code",
   "execution_count": 10,
   "id": "1080b09e",
   "metadata": {},
   "outputs": [
    {
     "ename": "TypeError",
     "evalue": "unsupported operand type(s) for +: 'dict' and 'dict'",
     "output_type": "error",
     "traceback": [
      "\u001b[1;31m---------------------------------------------------------------------------\u001b[0m",
      "\u001b[1;31mTypeError\u001b[0m                                 Traceback (most recent call last)",
      "Cell \u001b[1;32mIn[10], line 6\u001b[0m\n\u001b[0;32m      3\u001b[0m dict_1 \u001b[38;5;241m=\u001b[39m {\u001b[38;5;124m'\u001b[39m\u001b[38;5;124mname\u001b[39m\u001b[38;5;124m'\u001b[39m: \u001b[38;5;124m'\u001b[39m\u001b[38;5;124mHari\u001b[39m\u001b[38;5;124m'\u001b[39m}\n\u001b[0;32m      4\u001b[0m dict_2 \u001b[38;5;241m=\u001b[39m {\u001b[38;5;124m'\u001b[39m\u001b[38;5;124mage\u001b[39m\u001b[38;5;124m'\u001b[39m: \u001b[38;5;241m23\u001b[39m}\n\u001b[1;32m----> 6\u001b[0m \u001b[38;5;28mprint\u001b[39m(dict_1 \u001b[38;5;241m+\u001b[39m dict_2)\n",
      "\u001b[1;31mTypeError\u001b[0m: unsupported operand type(s) for +: 'dict' and 'dict'"
     ]
    }
   ],
   "source": [
    "# Basic Operations -  Concatenation\n",
    "\n",
    "dict_1 = {'name': 'Hari'}\n",
    "dict_2 = {'age': 23}\n",
    "\n",
    "print(dict_1 + dict_2)   # TypeError ...It doesnot perform/supported this operations"
   ]
  },
  {
   "cell_type": "code",
   "execution_count": 11,
   "id": "e0a8f0c8",
   "metadata": {},
   "outputs": [
    {
     "ename": "TypeError",
     "evalue": "unsupported operand type(s) for *: 'dict' and 'int'",
     "output_type": "error",
     "traceback": [
      "\u001b[1;31m---------------------------------------------------------------------------\u001b[0m",
      "\u001b[1;31mTypeError\u001b[0m                                 Traceback (most recent call last)",
      "Cell \u001b[1;32mIn[11], line 6\u001b[0m\n\u001b[0;32m      3\u001b[0m dict_1 \u001b[38;5;241m=\u001b[39m {\u001b[38;5;124m'\u001b[39m\u001b[38;5;124mname\u001b[39m\u001b[38;5;124m'\u001b[39m: \u001b[38;5;124m'\u001b[39m\u001b[38;5;124mHari\u001b[39m\u001b[38;5;124m'\u001b[39m}\n\u001b[0;32m      4\u001b[0m dict_2 \u001b[38;5;241m=\u001b[39m {\u001b[38;5;124m'\u001b[39m\u001b[38;5;124mage\u001b[39m\u001b[38;5;124m'\u001b[39m: \u001b[38;5;241m23\u001b[39m}\n\u001b[1;32m----> 6\u001b[0m \u001b[38;5;28mprint\u001b[39m(dict_1 \u001b[38;5;241m*\u001b[39m \u001b[38;5;241m2\u001b[39m)\n",
      "\u001b[1;31mTypeError\u001b[0m: unsupported operand type(s) for *: 'dict' and 'int'"
     ]
    }
   ],
   "source": [
    "# Basic Operations -  Repitition\n",
    "\n",
    "dict_1 = {'name': 'Hari'}\n",
    "dict_2 = {'age': 23}\n",
    "\n",
    "print(dict_1 * 2)   # TypeError ...It doesnot performed/supported this operations"
   ]
  },
  {
   "cell_type": "code",
   "execution_count": 13,
   "id": "ae0ea213",
   "metadata": {},
   "outputs": [
    {
     "name": "stdout",
     "output_type": "stream",
     "text": [
      "True\n",
      "False\n"
     ]
    }
   ],
   "source": [
    "# Basic Operations -  Membership operator\n",
    "\n",
    "# in\n",
    "dict_1 = {'name': 'Hari'}\n",
    "print('name' in dict_1)    # True\n",
    "\n",
    "# not in\n",
    "print('name' not in dict_1)  # False"
   ]
  },
  {
   "cell_type": "code",
   "execution_count": 15,
   "id": "9cfe39af",
   "metadata": {},
   "outputs": [
    {
     "name": "stdout",
     "output_type": "stream",
     "text": [
      "23\n",
      "27\n"
     ]
    }
   ],
   "source": [
    "# Accessing Dictionary Elements   (by using 'keys')\n",
    "\n",
    "dict_1 = {'name': 'Hari' , 'Age': 23, \"Gender\": \"Male\"}\n",
    "\n",
    "print(dict_1['Age'])   # 23\n",
    "\n",
    "# if multiple same keys are repeated , it returns the \"latest present keys\"\n",
    "# Examples:\n",
    "\n",
    "dict_1 = {'name': 'Hari' , 'Age': 23, \"Gender\": \"Male\", \"Age\" : 27}\n",
    "\n",
    "print(dict_1['Age'])   # 27"
   ]
  },
  {
   "cell_type": "code",
   "execution_count": 17,
   "id": "9fdd700f",
   "metadata": {},
   "outputs": [
    {
     "name": "stdout",
     "output_type": "stream",
     "text": [
      "{'Name': 'Hari', 'Age': 23, 'Hobbies': ['Cricket', 'Volleyball', 'Handball'], 'Languages': {'speak': 'English', 'write': 'Tamil'}}\n"
     ]
    }
   ],
   "source": [
    "# Declaring 'NESTED DICTIONARY'\n",
    "\n",
    "My_details  = {\n",
    "    \"Name\" : \"Hari\",\n",
    "    \"Age\" : 23,\n",
    "    \"Hobbies\" : [\"Cricket\",\"Volleyball\",\"Handball\"],\n",
    "    \"Languages\" : {\"speak\" : \"English\", \"write\" : \"Tamil\"}\n",
    "}\n",
    "\n",
    "print(My_details)"
   ]
  },
  {
   "cell_type": "code",
   "execution_count": 20,
   "id": "d607c15b",
   "metadata": {},
   "outputs": [
    {
     "name": "stdout",
     "output_type": "stream",
     "text": [
      "Cricket\n",
      "English\n"
     ]
    }
   ],
   "source": [
    "print(My_details[\"Hobbies\"][0])    # Cricket\n",
    "\n",
    "print(My_details[\"Languages\"][\"speak\"])   # English"
   ]
  },
  {
   "cell_type": "code",
   "execution_count": 22,
   "id": "54bf9292",
   "metadata": {},
   "outputs": [
    {
     "name": "stdout",
     "output_type": "stream",
     "text": [
      "{'Name': 'Yogesh', 'Age': 23}\n",
      "{'Name': 'Yogesh', 'Age': 23, 'Gender': 'Male'}\n"
     ]
    }
   ],
   "source": [
    "# Modifing the dictionary elements\n",
    "\n",
    "details = {\"Name\" : \"Hari\", \"Age\" : 23}\n",
    "\n",
    "details[\"Name\"] = \"Yogesh\"\n",
    "print(details)  # {'Name': 'Yogesh', 'Age': 23}\n",
    "\n",
    "details[\"Gender\"] = \"Male\"\n",
    "print(details)    #   {'Name': 'Yogesh', 'Age': 23, 'Gender': 'Male'}"
   ]
  },
  {
   "cell_type": "code",
   "execution_count": 26,
   "id": "3550e622",
   "metadata": {},
   "outputs": [
    {
     "name": "stdout",
     "output_type": "stream",
     "text": [
      "{'Age': 23, 'Gender': 'Male'}\n"
     ]
    },
    {
     "ename": "NameError",
     "evalue": "name 'dict_1' is not defined",
     "output_type": "error",
     "traceback": [
      "\u001b[1;31m---------------------------------------------------------------------------\u001b[0m",
      "\u001b[1;31mNameError\u001b[0m                                 Traceback (most recent call last)",
      "Cell \u001b[1;32mIn[26], line 16\u001b[0m\n\u001b[0;32m     12\u001b[0m dict_1 \u001b[38;5;241m=\u001b[39m {\u001b[38;5;124m'\u001b[39m\u001b[38;5;124mName\u001b[39m\u001b[38;5;124m'\u001b[39m: \u001b[38;5;124m'\u001b[39m\u001b[38;5;124mYogesh\u001b[39m\u001b[38;5;124m'\u001b[39m, \u001b[38;5;124m'\u001b[39m\u001b[38;5;124mAge\u001b[39m\u001b[38;5;124m'\u001b[39m: \u001b[38;5;241m23\u001b[39m, \u001b[38;5;124m'\u001b[39m\u001b[38;5;124mGender\u001b[39m\u001b[38;5;124m'\u001b[39m: \u001b[38;5;124m'\u001b[39m\u001b[38;5;124mMale\u001b[39m\u001b[38;5;124m'\u001b[39m}\n\u001b[0;32m     14\u001b[0m \u001b[38;5;28;01mdel\u001b[39;00m dict_1\n\u001b[1;32m---> 16\u001b[0m \u001b[38;5;28mprint\u001b[39m(dict_1)\n",
      "\u001b[1;31mNameError\u001b[0m: name 'dict_1' is not defined"
     ]
    }
   ],
   "source": [
    "#  deleting dictionary elements and entire dictionary\n",
    "\n",
    "# deleting dict elements\n",
    "\n",
    "dict_1 = {'Name': 'Yogesh', 'Age': 23, 'Gender': 'Male'}\n",
    "\n",
    "del dict_1['Name']\n",
    "\n",
    "print(dict_1)     #  {'Age': 23, 'Gender': 'Male'}\n",
    "\n",
    "# deleting entire dictionary\n",
    "dict_1 = {'Name': 'Yogesh', 'Age': 23, 'Gender': 'Male'}\n",
    "\n",
    "del dict_1\n",
    "\n",
    "print(dict_1)  # NameError: name 'dict_1' is not defined"
   ]
  },
  {
   "cell_type": "markdown",
   "id": "63b78f5b",
   "metadata": {},
   "source": [
    "#                   DICTIONARY  -  Methods"
   ]
  },
  {
   "cell_type": "code",
   "execution_count": 27,
   "id": "89655113",
   "metadata": {},
   "outputs": [
    {
     "data": {
      "text/plain": [
       "['__class__',\n",
       " '__class_getitem__',\n",
       " '__contains__',\n",
       " '__delattr__',\n",
       " '__delitem__',\n",
       " '__dir__',\n",
       " '__doc__',\n",
       " '__eq__',\n",
       " '__format__',\n",
       " '__ge__',\n",
       " '__getattribute__',\n",
       " '__getitem__',\n",
       " '__getstate__',\n",
       " '__gt__',\n",
       " '__hash__',\n",
       " '__init__',\n",
       " '__init_subclass__',\n",
       " '__ior__',\n",
       " '__iter__',\n",
       " '__le__',\n",
       " '__len__',\n",
       " '__lt__',\n",
       " '__ne__',\n",
       " '__new__',\n",
       " '__or__',\n",
       " '__reduce__',\n",
       " '__reduce_ex__',\n",
       " '__repr__',\n",
       " '__reversed__',\n",
       " '__ror__',\n",
       " '__setattr__',\n",
       " '__setitem__',\n",
       " '__sizeof__',\n",
       " '__str__',\n",
       " '__subclasshook__',\n",
       " 'clear',\n",
       " 'copy',\n",
       " 'fromkeys',\n",
       " 'get',\n",
       " 'items',\n",
       " 'keys',\n",
       " 'pop',\n",
       " 'popitem',\n",
       " 'setdefault',\n",
       " 'update',\n",
       " 'values']"
      ]
     },
     "execution_count": 27,
     "metadata": {},
     "output_type": "execute_result"
    }
   ],
   "source": [
    "dir(dict)"
   ]
  },
  {
   "cell_type": "code",
   "execution_count": null,
   "id": "d5d82485",
   "metadata": {},
   "outputs": [],
   "source": [
    "#  'clear()',\n",
    "#  'copy()',\n",
    "#  'fromkeys()',\n",
    "#  'get()',\n",
    "#  'items()',\n",
    "#  'keys()',\n",
    "#  'pop()',\n",
    "#  'popitem()',\n",
    "#  'setdefault()',\n",
    "#  'update()',\n",
    "#  'values()'"
   ]
  },
  {
   "cell_type": "code",
   "execution_count": 28,
   "id": "16e134dd",
   "metadata": {},
   "outputs": [
    {
     "name": "stdout",
     "output_type": "stream",
     "text": [
      "dict_items([('Name', 'Yogesh'), ('Gender', 'Male'), ('Age', 23), ('Height', 181.5)])\n"
     ]
    }
   ],
   "source": [
    " # 1) items() - Returns a 'list' containing a tuple for each 'key-value' pair\n",
    "    \n",
    "dict1 = {\"Name\":\"Yogesh\",\"Gender\":\"Male\",\"Age\":23,\"Height\":181.50}   \n",
    "\n",
    "print(dict1.items())"
   ]
  },
  {
   "cell_type": "code",
   "execution_count": 29,
   "id": "7ebc21fe",
   "metadata": {},
   "outputs": [
    {
     "name": "stdout",
     "output_type": "stream",
     "text": [
      "dict_keys(['Name', 'Gender', 'Age', 'Height'])\n"
     ]
    }
   ],
   "source": [
    " # 2) keys()  - Returns a 'list' containing the dictionary's 'keys'\n",
    "    \n",
    "dict1 = {\"Name\":\"Yogesh\",\"Gender\":\"Male\",\"Age\":23,\"Height\":181.50}   \n",
    "\n",
    "print(dict1.keys())    \n",
    "    "
   ]
  },
  {
   "cell_type": "code",
   "execution_count": 30,
   "id": "78be55f3",
   "metadata": {},
   "outputs": [
    {
     "name": "stdout",
     "output_type": "stream",
     "text": [
      "dict_values(['Yogesh', 'Male', 23, 181.5])\n"
     ]
    }
   ],
   "source": [
    "# 3) values()  - Returns a 'list' containing the dictionary's 'Values'\n",
    "    \n",
    "dict1 = {\"Name\":\"Yogesh\",\"Gender\":\"Male\",\"Age\":23,\"Height\":181.50}   \n",
    "\n",
    "print(dict1.values())    \n",
    "    "
   ]
  },
  {
   "cell_type": "code",
   "execution_count": 36,
   "id": "60c7f015",
   "metadata": {},
   "outputs": [
    {
     "name": "stdout",
     "output_type": "stream",
     "text": [
      "Male\n",
      "None\n",
      "Address not found in dictionary\n",
      "Yogesh\n"
     ]
    }
   ],
   "source": [
    "#  4) get() - Returns the 'value' of the specified 'key'\n",
    "\n",
    "dict1 = {\"Name\":\"Yogesh\",\"Gender\":\"Male\",\"Age\":23,\"Height\":181.50} \n",
    "\n",
    "print(dict1.get(\"Gender\"))   # Male\n",
    "\n",
    "print(dict1.get(\"Address\"))  # none\n",
    "print(dict1.get(\"Address\",\"Address not found in dictionary\")) # Address not found in dictionary\n",
    "\n",
    "print(dict1.get(\"Name\",\"Name not found\"))  # Yogesh"
   ]
  },
  {
   "cell_type": "code",
   "execution_count": 46,
   "id": "efe78e81",
   "metadata": {},
   "outputs": [
    {
     "name": "stdout",
     "output_type": "stream",
     "text": [
      "{'Name': 'Yogesh', 'Gender': 'Male', 'Age': 23, 'Height': 181.5, 'Address': 'nil'}\n",
      "{'Name': 'Yogesh', 'Gender': 'Male', 'Age': 23, 'Height': 181.5, 'Address': 'nil'}\n",
      "{'Name': 'Yogesh', 'Gender': 'Male', 'Age': 23, 'Height': 181.5, 'Address': 'nil', 'fatherName': 'Baskar'}\n"
     ]
    }
   ],
   "source": [
    "#  5) update() - Updates the dictionary with the specified key-value pairs\n",
    "\n",
    "dict1 = {\"Name\":\"Yogesh\",\"Gender\":\"Male\",\"Age\":23,\"Height\":181.50} \n",
    "\n",
    "dict1.update(Address = \"nil\")\n",
    "print(dict1) # {'Name': 'Yogesh', 'Gender': 'Male', 'Age': 23, 'Height': 181.5, 'Address': 'nil'}\n",
    "\n",
    "dict1 = {\"Name\":\"Yogesh\",\"Gender\":\"Male\",\"Age\":23,\"Height\":181.50} \n",
    "dict2 = {\"Address\":\"nil\"}\n",
    "dict1.update(dict2)\n",
    "\n",
    "print(dict1) # {'Name': 'Yogesh', 'Gender': 'Male', 'Age': 23, 'Height': 181.5, 'Address': 'nil'}\n",
    "\n",
    "dict1 = {\"Name\":\"Yogesh\",\"Gender\":\"Male\",\"Age\":23,\"Height\":181.50} \n",
    "dict2 = {\"Address\":\"nil\"}\n",
    "dict1.update(dict2, fatherName = \"Baskar\")\n",
    "\n",
    "print(dict1)"
   ]
  },
  {
   "cell_type": "code",
   "execution_count": 48,
   "id": "e6d7884a",
   "metadata": {},
   "outputs": [
    {
     "name": "stdout",
     "output_type": "stream",
     "text": [
      "{'age': 23}\n"
     ]
    }
   ],
   "source": [
    "#  6) copy()  -  Returns a copy of the dictionary\n",
    " \n",
    "dict1 = {\"Name\":\"Yogesh\",\"Gender\":\"Male\",\"Age\":23,\"Height\":181.50}\n",
    "dict_2 = dict_2.copy()\n",
    "print(dict_2)"
   ]
  },
  {
   "cell_type": "code",
   "execution_count": 51,
   "id": "1e8ecc24",
   "metadata": {},
   "outputs": [
    {
     "name": "stdout",
     "output_type": "stream",
     "text": [
      "{'Hari': 'nil', 'Yogesh': 'nil', 'Ram': 'nil'}\n"
     ]
    }
   ],
   "source": [
    "#  7) fromkeys() - Returns a dictionary with the specified keys and value\n",
    "\n",
    "name = (\"Hari\",\"Yogesh\",\"Ram\")\n",
    "records = (\"nil\")\n",
    "\n",
    "empty_dict = {}\n",
    "\n",
    "print(empty_dict.fromkeys(name,records)) # {'Hari': 'nil', 'Yogesh': 'nil', 'Ram': 'nil'}\n",
    "\n"
   ]
  },
  {
   "cell_type": "code",
   "execution_count": 57,
   "id": "b7925496",
   "metadata": {},
   "outputs": [
    {
     "name": "stdout",
     "output_type": "stream",
     "text": [
      "{'Name': 'Yogesh', 'Gender': 'Male', 'Age': 23, 'Height': 181.5, 'Address': 'nil'}\n",
      "{'Name': 'Yogesh', 'Gender': 'Male', 'Age': 23, 'Height': 181.5, 'Address': 'nil'}\n"
     ]
    }
   ],
   "source": [
    "#  8) setdefault() - Returns the value of the specified key. \n",
    "#                  - If the key does not exist: insert the key, with the specified value\n",
    "\n",
    "dict1 = {\"Name\":\"Yogesh\",\"Gender\":\"Male\",\"Age\":23,\"Height\":181.50}\n",
    "\n",
    "dict1.setdefault(\"Address\",\"nil\")\n",
    "print(dict1) # {'Name': 'Yogesh', 'Gender': 'Male', 'Age': 23, 'Height': 181.5, 'Address': 'nil'}\n",
    "\n",
    "dict1.setdefault(\"Age\",25)\n",
    "print(dict1) # Age = 23"
   ]
  },
  {
   "cell_type": "code",
   "execution_count": 58,
   "id": "4c8ddbde",
   "metadata": {},
   "outputs": [
    {
     "name": "stdout",
     "output_type": "stream",
     "text": [
      "{'Name': 'Yogesh', 'Age': 23, 'Height': 181.5}\n"
     ]
    }
   ],
   "source": [
    "#  9) pop()  - Removes the element with the specified key\n",
    "\n",
    "dict1 = {\"Name\":\"Yogesh\",\"Gender\":\"Male\",\"Age\":23,\"Height\":181.50}\n",
    "\n",
    "dict1.pop(\"Gender\")\n",
    "\n",
    "print(dict1)        # {'Name': 'Yogesh', 'Age': 23, 'Height': 181.5}"
   ]
  },
  {
   "cell_type": "code",
   "execution_count": 59,
   "id": "5de4c729",
   "metadata": {},
   "outputs": [
    {
     "name": "stdout",
     "output_type": "stream",
     "text": [
      "{'Name': 'Yogesh', 'Gender': 'Male', 'Age': 23}\n"
     ]
    }
   ],
   "source": [
    "#  10) popitem() - Removes the last inserted key-value pair\n",
    "\n",
    "dict1 = {\"Name\":\"Yogesh\",\"Gender\":\"Male\",\"Age\":23,\"Height\":181.50}\n",
    "\n",
    "dict1.popitem()\n",
    "\n",
    "print(dict1)  # {'Name': 'Yogesh', 'Gender': 'Male', 'Age': 23}"
   ]
  },
  {
   "cell_type": "code",
   "execution_count": 64,
   "id": "d3395c34",
   "metadata": {},
   "outputs": [
    {
     "name": "stdout",
     "output_type": "stream",
     "text": [
      "{'Gender': 'Male', 'Age': 23, 'Height': 181.5}\n"
     ]
    },
    {
     "ename": "NameError",
     "evalue": "name 'dict1' is not defined",
     "output_type": "error",
     "traceback": [
      "\u001b[1;31m---------------------------------------------------------------------------\u001b[0m",
      "\u001b[1;31mNameError\u001b[0m                                 Traceback (most recent call last)",
      "Cell \u001b[1;32mIn[64], line 11\u001b[0m\n\u001b[0;32m      8\u001b[0m \u001b[38;5;66;03m# delete entire dictionary\u001b[39;00m\n\u001b[0;32m     10\u001b[0m \u001b[38;5;28;01mdel\u001b[39;00m dict1\n\u001b[1;32m---> 11\u001b[0m \u001b[38;5;28mprint\u001b[39m(dict1)\n",
      "\u001b[1;31mNameError\u001b[0m: name 'dict1' is not defined"
     ]
    }
   ],
   "source": [
    "# 11) del()\n",
    "\n",
    "dict1 = {\"Name\":\"Yogesh\",\"Gender\":\"Male\",\"Age\":23,\"Height\":181.50}\n",
    "\n",
    "del dict1[\"Name\"]\n",
    "print(dict1)      # {'Gender': 'Male', 'Age': 23, 'Height': 181.5}\n",
    "\n",
    "# delete entire dictionary\n",
    "\n",
    "del dict1\n",
    "print(dict1)   # NameError: name 'dict1' is not defined"
   ]
  },
  {
   "cell_type": "code",
   "execution_count": 65,
   "id": "8811986c",
   "metadata": {},
   "outputs": [
    {
     "name": "stdout",
     "output_type": "stream",
     "text": [
      "{}\n"
     ]
    }
   ],
   "source": [
    "# 12) clear() - Removes all the elements from the dictionary\n",
    "\n",
    "dict1 = {\"Name\":\"Yogesh\",\"Gender\":\"Male\",\"Age\":23,\"Height\":181.50}\n",
    "\n",
    "dict1.clear()\n",
    "\n",
    "print(dict1)   # {}"
   ]
  }
 ],
 "metadata": {
  "kernelspec": {
   "display_name": "Python 3 (ipykernel)",
   "language": "python",
   "name": "python3"
  },
  "language_info": {
   "codemirror_mode": {
    "name": "ipython",
    "version": 3
   },
   "file_extension": ".py",
   "mimetype": "text/x-python",
   "name": "python",
   "nbconvert_exporter": "python",
   "pygments_lexer": "ipython3",
   "version": "3.11.5"
  }
 },
 "nbformat": 4,
 "nbformat_minor": 5
}
