{
 "cells": [
  {
   "cell_type": "markdown",
   "id": "87296604",
   "metadata": {},
   "source": [
    "#                        TUPLE  -  Datatype\n",
    "\n",
    "         -  Ordered Collection\n",
    "         -  Immutable\n",
    "         -  Collection of items in a single Variable\n",
    "         -  Represented in () - 'Paranthesis"
   ]
  },
  {
   "cell_type": "code",
   "execution_count": 6,
   "id": "466fa980",
   "metadata": {},
   "outputs": [
    {
     "name": "stdout",
     "output_type": "stream",
     "text": [
      "('Hari', 23, 'Male')\n",
      "<class 'tuple'>\n",
      "(1, 2, 3, 4, 5)\n",
      "<class 'tuple'>\n",
      "1\n",
      "<class 'int'>\n",
      "(1,)\n",
      "<class 'tuple'>\n"
     ]
    }
   ],
   "source": [
    "#  Creating a TUPLE\n",
    "\n",
    "s = (\"Hari\",23,\"Male\")\n",
    "print(s)                 # ('Hari', 23, 'Male')\n",
    "print(type(s))           # <class 'tuple'>\n",
    "\n",
    "s1 = (1,2,3,4,5) \n",
    "print(s1)         # (1, 2, 3, 4, 5)\n",
    "print(type(s1))   # <class 'tuple'>\n",
    "\n",
    "s2 = (1)\n",
    "print(s2)        # 1\n",
    "print(type(s2))  # <class 'int'> ...Instead of this, we can use single number followed by comma(,)\n",
    "\n",
    "s21 =(1,)\n",
    "print(s21)        # (1,)\n",
    "print(type(s21))  # <class 'tuple'>"
   ]
  },
  {
   "cell_type": "code",
   "execution_count": 7,
   "id": "933a560a",
   "metadata": {},
   "outputs": [
    {
     "name": "stdout",
     "output_type": "stream",
     "text": [
      "(1, 2, 3, 4, 5)\n",
      "<class 'tuple'>\n"
     ]
    }
   ],
   "source": [
    "# Another way to declaring a tuple\n",
    "\n",
    "num = 1,2,3,4,5  # without paranthesis\n",
    "print(num)     # (1, 2, 3, 4, 5)\n",
    "print(type(num))  # <class 'tuple'>"
   ]
  },
  {
   "cell_type": "code",
   "execution_count": 8,
   "id": "730aa84d",
   "metadata": {},
   "outputs": [
    {
     "name": "stdout",
     "output_type": "stream",
     "text": [
      "4\n"
     ]
    }
   ],
   "source": [
    "# Basic Operations in Tuple ->  len\n",
    "\n",
    "s = (\"Ram\",23,\"Male\",(1,2,3))\n",
    "print(len(s))   # 4"
   ]
  },
  {
   "cell_type": "code",
   "execution_count": 10,
   "id": "545ef69c",
   "metadata": {},
   "outputs": [
    {
     "name": "stdout",
     "output_type": "stream",
     "text": [
      "(1, 2, 3, 4, 5, 6)\n"
     ]
    },
    {
     "ename": "TypeError",
     "evalue": "can only concatenate tuple (not \"int\") to tuple",
     "output_type": "error",
     "traceback": [
      "\u001b[1;31m---------------------------------------------------------------------------\u001b[0m",
      "\u001b[1;31mTypeError\u001b[0m                                 Traceback (most recent call last)",
      "Cell \u001b[1;32mIn[10], line 8\u001b[0m\n\u001b[0;32m      4\u001b[0m s1 \u001b[38;5;241m=\u001b[39m (\u001b[38;5;241m4\u001b[39m,\u001b[38;5;241m5\u001b[39m,\u001b[38;5;241m6\u001b[39m)\n\u001b[0;32m      6\u001b[0m \u001b[38;5;28mprint\u001b[39m(s\u001b[38;5;241m+\u001b[39ms1)   \u001b[38;5;66;03m# (1, 2, 3, 4, 5, 6)\u001b[39;00m\n\u001b[1;32m----> 8\u001b[0m \u001b[38;5;28mprint\u001b[39m(s\u001b[38;5;241m+\u001b[39m\u001b[38;5;241m2\u001b[39m)\n",
      "\u001b[1;31mTypeError\u001b[0m: can only concatenate tuple (not \"int\") to tuple"
     ]
    }
   ],
   "source": [
    "# Basic Operations in Tuple ->  Concatenation\n",
    "\n",
    "s = (1,2,3)\n",
    "s1 = (4,5,6)\n",
    "\n",
    "print(s+s1)   # (1, 2, 3, 4, 5, 6)\n",
    "\n",
    "print(s+2)  # only accessing the variable name while doing concatenation\n",
    "            # orelse , it returns \"TypeError\" : can only concatenate tuple (not \"int\") to tuple."
   ]
  },
  {
   "cell_type": "code",
   "execution_count": 15,
   "id": "d0e59f41",
   "metadata": {},
   "outputs": [
    {
     "name": "stdout",
     "output_type": "stream",
     "text": [
      "(4, 5, 6, 4, 5, 6)\n"
     ]
    },
    {
     "ename": "TypeError",
     "evalue": "can't multiply sequence by non-int of type 'tuple'",
     "output_type": "error",
     "traceback": [
      "\u001b[1;31m---------------------------------------------------------------------------\u001b[0m",
      "\u001b[1;31mTypeError\u001b[0m                                 Traceback (most recent call last)",
      "Cell \u001b[1;32mIn[15], line 8\u001b[0m\n\u001b[0;32m      4\u001b[0m s1 \u001b[38;5;241m=\u001b[39m (\u001b[38;5;241m4\u001b[39m,\u001b[38;5;241m5\u001b[39m,\u001b[38;5;241m6\u001b[39m)\n\u001b[0;32m      6\u001b[0m \u001b[38;5;28mprint\u001b[39m(s1\u001b[38;5;241m*\u001b[39m\u001b[38;5;241m2\u001b[39m) \n\u001b[1;32m----> 8\u001b[0m \u001b[38;5;28mprint\u001b[39m(s\u001b[38;5;241m*\u001b[39ms)\n",
      "\u001b[1;31mTypeError\u001b[0m: can't multiply sequence by non-int of type 'tuple'"
     ]
    }
   ],
   "source": [
    "# Basic Operations in Tuple ->  Repitition\n",
    "\n",
    "s=(1,2,3)\n",
    "s1 = (4,5,6)\n",
    "\n",
    "print(s1*2)   # (4, 5, 6, 4, 5, 6)\n",
    "\n",
    "print(s*s) # TypeError: can't multiply sequence by non-int of type 'tuple'\n",
    "\n",
    " "
   ]
  },
  {
   "cell_type": "code",
   "execution_count": 18,
   "id": "b269d432",
   "metadata": {},
   "outputs": [
    {
     "name": "stdout",
     "output_type": "stream",
     "text": [
      "True\n",
      "False\n"
     ]
    }
   ],
   "source": [
    "# Basic Operations in Tuple ->  Membership Operator\n",
    "\n",
    "s = (1,2,3,4,5)\n",
    "\n",
    "# in\n",
    "print(4 in s)  # True\n",
    "\n",
    "# not in\n",
    "print(4 not in s)  # False"
   ]
  },
  {
   "cell_type": "code",
   "execution_count": 19,
   "id": "c6d49ced",
   "metadata": {},
   "outputs": [
    {
     "name": "stdout",
     "output_type": "stream",
     "text": [
      "('Welcome', 'to', ('Data', 'Science'), 'Course')\n"
     ]
    }
   ],
   "source": [
    "# Accessing Tuple Values \n",
    "text = (\"Welcome\",\"to\",(\"Data\",\"Science\"),\"Course\")\n",
    "print(text)"
   ]
  },
  {
   "cell_type": "code",
   "execution_count": 21,
   "id": "3bb6b3b6",
   "metadata": {},
   "outputs": [
    {
     "name": "stdout",
     "output_type": "stream",
     "text": [
      "to\n",
      "Data\n",
      "Science\n"
     ]
    }
   ],
   "source": [
    "# Accessing - Positive Indexing\n",
    "\n",
    "print(text[1])     # to\n",
    "print(text[2][0])  # Data\n",
    "print(text[2][1])  # Science"
   ]
  },
  {
   "cell_type": "code",
   "execution_count": 22,
   "id": "896bf382",
   "metadata": {},
   "outputs": [
    {
     "name": "stdout",
     "output_type": "stream",
     "text": [
      "Welcome\n",
      "Data\n",
      "Science\n"
     ]
    }
   ],
   "source": [
    "# Accessing - Negative Indexing\n",
    "text = (\"Welcome\",\"to\",(\"Data\",\"Science\"),\"Course\")\n",
    "\n",
    "print(text[-4])       # Welcome\n",
    "print(text[-2][-2])   # Data\n",
    "print(text[-2][-1])   # Science"
   ]
  },
  {
   "cell_type": "code",
   "execution_count": 23,
   "id": "4a412f5d",
   "metadata": {},
   "outputs": [
    {
     "name": "stdout",
     "output_type": "stream",
     "text": [
      "('Welcome', 'to', ('Data', 'Science'))\n"
     ]
    }
   ],
   "source": [
    "#   Slicing  - Positive\n",
    "\n",
    "text = (\"Welcome\",\"to\",(\"Data\",\"Science\"),\"Course\")\n",
    "\n",
    "print(text[0:3])    # ('Welcome', 'to', ('Data', 'Science'))"
   ]
  },
  {
   "cell_type": "code",
   "execution_count": 24,
   "id": "029d655c",
   "metadata": {},
   "outputs": [
    {
     "name": "stdout",
     "output_type": "stream",
     "text": [
      "('to', ('Data', 'Science'), 'Course')\n",
      "(('Data', 'Science'),)\n"
     ]
    }
   ],
   "source": [
    "#   Slicing - Negative\n",
    "\n",
    "text = (\"Welcome\",\"to\",(\"Data\",\"Science\"),\"Course\")\n",
    "\n",
    "print(text[-3:])    # ('to', ('Data', 'Science'), 'Course')\n",
    "print(text[-2:-1])  # (('Data', 'Science'),)"
   ]
  },
  {
   "cell_type": "code",
   "execution_count": 32,
   "id": "3d8ea203",
   "metadata": {},
   "outputs": [
    {
     "name": "stdout",
     "output_type": "stream",
     "text": [
      "('Hari', 23, 181.5)\n",
      "Hari [23, 181.5, 61, 45] Male\n",
      "Hari 23 [181.5, 61, 45]\n"
     ]
    }
   ],
   "source": [
    "#  packing and unpacking\n",
    "\n",
    "# packing\n",
    "\n",
    "details = (\"Hari\",23,181.5)\n",
    "(Name,Age,Height) = details\n",
    "# Name,Age,Height = details  without brackets\n",
    "print(details)   # ('Hari', 23, 181.5)\n",
    "\n",
    "# unpacking \n",
    "\n",
    "details = (\"Hari\",23,181.5,61,45,\"Male\")\n",
    "(Name,*Age,Height) = details\n",
    "print(Name,Age,Height)  #  Hari [23, 181.5, 61, 45] Male\n",
    "\n",
    "details = (\"Hari\",23,181.5,61,45)\n",
    "(Name,Age,*Height) = details\n",
    "print(Name,Age,Height)       # Hari 23 [181.5, 61, 45]\n"
   ]
  },
  {
   "cell_type": "markdown",
   "id": "25f3b2a6",
   "metadata": {},
   "source": [
    "#                           TUPLE - Methods"
   ]
  },
  {
   "cell_type": "code",
   "execution_count": 29,
   "id": "0b88a1a4",
   "metadata": {},
   "outputs": [
    {
     "data": {
      "text/plain": [
       "['__add__',\n",
       " '__class__',\n",
       " '__class_getitem__',\n",
       " '__contains__',\n",
       " '__delattr__',\n",
       " '__dir__',\n",
       " '__doc__',\n",
       " '__eq__',\n",
       " '__format__',\n",
       " '__ge__',\n",
       " '__getattribute__',\n",
       " '__getitem__',\n",
       " '__getnewargs__',\n",
       " '__getstate__',\n",
       " '__gt__',\n",
       " '__hash__',\n",
       " '__init__',\n",
       " '__init_subclass__',\n",
       " '__iter__',\n",
       " '__le__',\n",
       " '__len__',\n",
       " '__lt__',\n",
       " '__mul__',\n",
       " '__ne__',\n",
       " '__new__',\n",
       " '__reduce__',\n",
       " '__reduce_ex__',\n",
       " '__repr__',\n",
       " '__rmul__',\n",
       " '__setattr__',\n",
       " '__sizeof__',\n",
       " '__str__',\n",
       " '__subclasshook__',\n",
       " 'count',\n",
       " 'index']"
      ]
     },
     "execution_count": 29,
     "metadata": {},
     "output_type": "execute_result"
    }
   ],
   "source": [
    "dir(tuple)"
   ]
  },
  {
   "cell_type": "code",
   "execution_count": 30,
   "id": "b73ee833",
   "metadata": {},
   "outputs": [
    {
     "name": "stdout",
     "output_type": "stream",
     "text": [
      "3\n"
     ]
    }
   ],
   "source": [
    "#  1) count() \n",
    "\n",
    "s = (1,2,3,4,5.1,1,3,6,3)\n",
    "\n",
    "print(s.count(3))    # 3"
   ]
  },
  {
   "cell_type": "code",
   "execution_count": 31,
   "id": "700732cf",
   "metadata": {},
   "outputs": [
    {
     "name": "stdout",
     "output_type": "stream",
     "text": [
      "0\n"
     ]
    }
   ],
   "source": [
    "#  2) index() \n",
    "\n",
    "s = (1,2,3,4,5.1,1,3,6,3)\n",
    "\n",
    "print(s.index(1))    # 0"
   ]
  }
 ],
 "metadata": {
  "kernelspec": {
   "display_name": "Python 3 (ipykernel)",
   "language": "python",
   "name": "python3"
  },
  "language_info": {
   "codemirror_mode": {
    "name": "ipython",
    "version": 3
   },
   "file_extension": ".py",
   "mimetype": "text/x-python",
   "name": "python",
   "nbconvert_exporter": "python",
   "pygments_lexer": "ipython3",
   "version": "3.11.5"
  }
 },
 "nbformat": 4,
 "nbformat_minor": 5
}
