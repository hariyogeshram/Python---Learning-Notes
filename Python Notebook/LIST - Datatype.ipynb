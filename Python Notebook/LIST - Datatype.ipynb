{
 "cells": [
  {
   "cell_type": "markdown",
   "id": "78b01d0e",
   "metadata": {},
   "source": [
    "#                         Python Collections (Arrays)\n",
    "\n",
    "     There are 'four' collection data types in the Python programming language:\n",
    "\n",
    "###   LIST :\n",
    "             List is a collection.\n",
    "             which is 'ordered' and 'Mutable'. \n",
    "             Allows duplicate Values.\n",
    "             \n",
    "###   TUPLE :           \n",
    "             Tuple is a collection.\n",
    "             which is 'ordered' and 'Immutable'. \n",
    "             Allows duplicate Values.\n",
    "              \n",
    "###   SET :             \n",
    "             Set is a collection \n",
    "             which is 'unordered', 'Immutable', and 'unindexed'.\n",
    "             Does not allow duplicate Values.\n",
    "             \n",
    "###   DICTIONARY :\n",
    "             Dictionary is a collection \n",
    "             which is 'ordered' and 'Mutable'.\n",
    "             Does not allow duplicate Values."
   ]
  },
  {
   "cell_type": "markdown",
   "id": "77867a4d",
   "metadata": {},
   "source": [
    "   #                                   \" 1. LIST \"\n",
    "   \n",
    "   ## Definition:\n",
    "   \n",
    "            *  List is an Ordered Collection of heterogenous Datatypes.\n",
    "            *  List is \"MUTABLE\".\n",
    "            *  Allows \"DUPLICATE VALUES\".\n",
    "            *  Represented in [] -> Square Brackets.\n",
    "            *  List can be accessed/Retrieved by using \"INDEX\".           "
   ]
  },
  {
   "cell_type": "code",
   "execution_count": 1,
   "id": "e648e8b7",
   "metadata": {},
   "outputs": [
    {
     "name": "stdout",
     "output_type": "stream",
     "text": [
      "['Hari', 23, 'Male', 'Sports', '181.50']\n"
     ]
    }
   ],
   "source": [
    "#  Sample 'List' Examples :\n",
    "\n",
    "List_1 = [\"Hari\",23,\"Male\",\"Sports\",\"181.50\"]\n",
    "\n",
    "print(List_1)        #  ['Hari', 23, 'Male', 'Sports', '181.50']"
   ]
  },
  {
   "cell_type": "code",
   "execution_count": 2,
   "id": "ba7da40b",
   "metadata": {},
   "outputs": [
    {
     "name": "stdout",
     "output_type": "stream",
     "text": [
      "Male\n"
     ]
    }
   ],
   "source": [
    "# List Indexing :\n",
    "\n",
    "List_1 = [\"Hari\",23,\"Male\",\"Sports\",\"181.50\"]\n",
    "\n",
    "print(List_1[2])    # Male"
   ]
  },
  {
   "cell_type": "code",
   "execution_count": null,
   "id": "3384fda9",
   "metadata": {},
   "outputs": [],
   "source": [
    "# LIST - Operations \n",
    "   \n",
    "    * Accessing\n",
    "    * Modify\n",
    "    * Deletion"
   ]
  },
  {
   "cell_type": "code",
   "execution_count": 7,
   "id": "c25b898c",
   "metadata": {},
   "outputs": [
    {
     "name": "stdout",
     "output_type": "stream",
     "text": [
      "30\n",
      "[40, 50]\n",
      "40\n",
      "50\n",
      "60\n"
     ]
    }
   ],
   "source": [
    "# Accessing \n",
    "\n",
    "num = [10,20,30,[40,50],60]\n",
    "\n",
    "print(num[2])         # 30\n",
    "print(num[3])         # [40,50]\n",
    "print(num[3][0])      # 40 \n",
    "print(num[3][1])      # 50\n",
    "\n",
    "print(num[-1])        # 60"
   ]
  },
  {
   "cell_type": "code",
   "execution_count": 9,
   "id": "50619713",
   "metadata": {},
   "outputs": [
    {
     "name": "stdout",
     "output_type": "stream",
     "text": [
      "['Hari', 'Ganesh', 'Ram']\n"
     ]
    }
   ],
   "source": [
    "# Index - Modify\n",
    "\n",
    "name = [\"Hari\",\"Yogesh\",\"Ram\"]\n",
    "\n",
    "name[1] = \"Ganesh\"\n",
    "\n",
    "print(name)   #  ['Hari', 'Ganesh', 'Ram']"
   ]
  },
  {
   "cell_type": "code",
   "execution_count": 10,
   "id": "f1bd476b",
   "metadata": {},
   "outputs": [
    {
     "name": "stdout",
     "output_type": "stream",
     "text": [
      "['Hari', 'Ram']\n"
     ]
    }
   ],
   "source": [
    "# Indexing - Deletion\n",
    "\n",
    "name = [\"Hari\",\"Yogesh\",\"Ram\"]\n",
    "\n",
    "del name[1]\n",
    "print(name)   #  ['Hari', 'Ram']"
   ]
  },
  {
   "cell_type": "code",
   "execution_count": 11,
   "id": "103b5c94",
   "metadata": {},
   "outputs": [
    {
     "name": "stdout",
     "output_type": "stream",
     "text": [
      "['Ram', 'Ganesh', 'Gopi']\n"
     ]
    }
   ],
   "source": [
    "# List - Slicing\n",
    "\n",
    "List = [\"Hari\",\"Yogesh\",\"Ram\",\"Ganesh\",\"Gopi\",\"Raghu\"]\n",
    "\n",
    "print(List[2:5])    #  ['Ram', 'Ganesh', 'Gopi']\n"
   ]
  },
  {
   "cell_type": "code",
   "execution_count": 12,
   "id": "3a5c0462",
   "metadata": {},
   "outputs": [
    {
     "name": "stdout",
     "output_type": "stream",
     "text": [
      "[50, 40, 30, 20, 10]\n"
     ]
    }
   ],
   "source": [
    "# Slicing - Reversing the List\n",
    "\n",
    "Num = [10,20,30,40,50]\n",
    "\n",
    "print(Num[::-1])   # [50, 40, 30, 20, 10]"
   ]
  },
  {
   "cell_type": "code",
   "execution_count": 17,
   "id": "9fa1fb60",
   "metadata": {},
   "outputs": [
    {
     "name": "stdout",
     "output_type": "stream",
     "text": [
      "[75, 20, 75, 40, 75]\n"
     ]
    }
   ],
   "source": [
    "# Slicing - Modify\n",
    "\n",
    "Num = [10,20,30,40,50]\n",
    "\n",
    "Num[0::2] = [75,75,75]\n",
    "\n",
    "print(Num)       # [75, 20, 75, 40, 75]"
   ]
  },
  {
   "cell_type": "code",
   "execution_count": 22,
   "id": "eed9ed66",
   "metadata": {},
   "outputs": [
    {
     "name": "stdout",
     "output_type": "stream",
     "text": [
      "[30, 40, 50]\n",
      "[70, 90]\n"
     ]
    }
   ],
   "source": [
    "# Slicing - DELETION\n",
    "\n",
    "Num = [10,20,30,40,50]\n",
    "\n",
    "del(Num[0:2])\n",
    "\n",
    "print(Num)    # [30, 40, 50]\n",
    "\n",
    "Num1 = [60,70,80,90,95]\n",
    "del(Num1[::2])\n",
    "print(Num1)    # [70, 90]"
   ]
  },
  {
   "cell_type": "markdown",
   "id": "6d0ffb5c",
   "metadata": {},
   "source": [
    "#                        LIST -   BASIC OPERATIONS\n",
    "\n",
    "   -  len()\n",
    "   -  concatenation\n",
    "   -  repetition\n",
    "   -  Membership operator"
   ]
  },
  {
   "cell_type": "code",
   "execution_count": 24,
   "id": "f7a3f921",
   "metadata": {},
   "outputs": [
    {
     "name": "stdout",
     "output_type": "stream",
     "text": [
      "4\n"
     ]
    }
   ],
   "source": [
    "# 1) len()\n",
    "\n",
    "list_1 = [1,3,4,[6,7,8]]\n",
    "print(len(list_1))       # 4"
   ]
  },
  {
   "cell_type": "code",
   "execution_count": 25,
   "id": "48368682",
   "metadata": {},
   "outputs": [
    {
     "name": "stdout",
     "output_type": "stream",
     "text": [
      "[1, 2, 3, 4, 5]\n"
     ]
    }
   ],
   "source": [
    "# 2) concatenation\n",
    "\n",
    "list_1 =[1,2,3]\n",
    "list_2 =[4,5]\n",
    "\n",
    "print(list_1 + list_2)   # [1, 2, 3, 4, 5]"
   ]
  },
  {
   "cell_type": "code",
   "execution_count": 26,
   "id": "41882e76",
   "metadata": {},
   "outputs": [
    {
     "name": "stdout",
     "output_type": "stream",
     "text": [
      "[1, 2, 3, 1, 2, 3, 1, 2, 3]\n"
     ]
    }
   ],
   "source": [
    "# 3) Repitition\n",
    "\n",
    "list_1 =[1,2,3]\n",
    "\n",
    "print(list_1 * 3)   #  [1, 2, 3, 1, 2, 3, 1, 2, 3]"
   ]
  },
  {
   "cell_type": "code",
   "execution_count": 28,
   "id": "18cfeeda",
   "metadata": {},
   "outputs": [
    {
     "name": "stdout",
     "output_type": "stream",
     "text": [
      "True\n",
      "False\n"
     ]
    }
   ],
   "source": [
    "# 4) Membership Operator  -> in , not in\n",
    "\n",
    "list_1 =[1,2,3]\n",
    "\n",
    "print(2 in list_1)  #  True\n",
    "print(2 not in list_1)  # False\n"
   ]
  },
  {
   "cell_type": "markdown",
   "id": "36dd9c1c",
   "metadata": {},
   "source": [
    "\n",
    "#                                 LIST - Methods\n",
    "\n",
    "     \n",
    "     -    append() , extend()  -> string value\n",
    "     -    append() , extend()  -> numeric value\n",
    "     -    append() , extend()  -> List\n",
    "     -    append() , extend()  -> numeric List\n",
    "     -    insert()\n",
    "     -    pop()\n",
    "     -    remove()\n",
    "     -    clear()\n",
    "     -    del()\n",
    "     -    index()\n",
    "     -    count()\n",
    "     -    copy()\n",
    "     -    sort()\n",
    "     -    reverse()"
   ]
  },
  {
   "cell_type": "code",
   "execution_count": 33,
   "id": "fdbaed8b",
   "metadata": {},
   "outputs": [
    {
     "name": "stdout",
     "output_type": "stream",
     "text": [
      "['Hari', 'Yogesh', 'Ram', 'Baskar']\n",
      "['Hari', 'Yogesh', 'Ram', 'B', 'a', 's', 'k', 'a', 'r']\n"
     ]
    }
   ],
   "source": [
    "#  append() -> 'add' elements at the 'end' of the list\n",
    "#  extend() -> Add the elements of a list (or any iterable), to the end of the current list\n",
    "\n",
    "#  1. append() , extend()  -> 'string value'\n",
    "    \n",
    "#  Examples : \n",
    "\n",
    "List = [\"Hari\",\"Yogesh\",\"Ram\"]\n",
    "# append()\n",
    "List.append(\"Baskar\")\n",
    "print(List)         #  ['Hari', 'Yogesh', 'Ram', 'Baskar']\n",
    "\n",
    "List = [\"Hari\",\"Yogesh\",\"Ram\"]\n",
    "# extend()\n",
    "List.extend(\"Baskar\")\n",
    "print(List)   #  ['Hari', 'Yogesh', 'Ram', 'B', 'a', 's', 'k', 'a', 'r']\n"
   ]
  },
  {
   "cell_type": "code",
   "execution_count": 38,
   "id": "2390935c",
   "metadata": {},
   "outputs": [
    {
     "name": "stdout",
     "output_type": "stream",
     "text": [
      "['Hari', 'Yogesh', 23]\n"
     ]
    },
    {
     "ename": "TypeError",
     "evalue": "'int' object is not iterable",
     "output_type": "error",
     "traceback": [
      "\u001b[1;31m---------------------------------------------------------------------------\u001b[0m",
      "\u001b[1;31mTypeError\u001b[0m                                 Traceback (most recent call last)",
      "Cell \u001b[1;32mIn[38], line 14\u001b[0m\n\u001b[0;32m     12\u001b[0m \u001b[38;5;66;03m# extend() \u001b[39;00m\n\u001b[0;32m     13\u001b[0m List_1 \u001b[38;5;241m=\u001b[39m [\u001b[38;5;124m\"\u001b[39m\u001b[38;5;124mHari\u001b[39m\u001b[38;5;124m\"\u001b[39m,\u001b[38;5;124m\"\u001b[39m\u001b[38;5;124mYogesh\u001b[39m\u001b[38;5;124m\"\u001b[39m]\n\u001b[1;32m---> 14\u001b[0m List_1\u001b[38;5;241m.\u001b[39mextend(\u001b[38;5;241m25\u001b[39m)\n\u001b[0;32m     15\u001b[0m \u001b[38;5;28mprint\u001b[39m(List_1)\n",
      "\u001b[1;31mTypeError\u001b[0m: 'int' object is not iterable"
     ]
    }
   ],
   "source": [
    "#  2) append() , extend()  -> numeric value\n",
    "\n",
    "#  append() -> 'add' elements at the 'end' of the list\n",
    "#  extend() -> Add the elements of a list (or any iterable), to the end of the current list\n",
    "\n",
    "# Examples : \n",
    "\n",
    "List_1 = [\"Hari\",\"Yogesh\"]    #  ['Hari', 'Yogesh', 23]\n",
    "List_1.append(23)\n",
    "print(List_1)\n",
    "\n",
    "# extend() \n",
    "List_1 = [\"Hari\",\"Yogesh\"]\n",
    "List_1.extend(25)\n",
    "print(List_1)  # TypeError : numberic(int) value is not iterable in \"extend()\""
   ]
  },
  {
   "cell_type": "code",
   "execution_count": 39,
   "id": "a18c7e27",
   "metadata": {},
   "outputs": [
    {
     "name": "stdout",
     "output_type": "stream",
     "text": [
      "[10, 20, 30, 40, 50, [60, 70, 80]]\n",
      "[10, 20, 30, 40, 50, 60, 70, 80]\n"
     ]
    }
   ],
   "source": [
    "# 3. -    append() , extend()  -> Numeric List\n",
    "    \n",
    "# Examples : \n",
    "\n",
    "List_1 = [10,20,30,40,50]\n",
    "List_2 = [60,70,80]\n",
    "\n",
    "# append()\n",
    "List_1.append(List_2)\n",
    "print(List_1)   # [10, 20, 30, 40, 50, [60, 70, 80]]  \n",
    "\n",
    "List_1 = [10,20,30,40,50]\n",
    "List_2 = [60,70,80]\n",
    "# extend()\n",
    "List_1.extend(List_2)\n",
    "print(List_1)     #  [10, 20, 30, 40, 50, 60, 70, 80]\n",
    "\n",
    "    "
   ]
  },
  {
   "cell_type": "code",
   "execution_count": 42,
   "id": "382dc380",
   "metadata": {},
   "outputs": [
    {
     "name": "stdout",
     "output_type": "stream",
     "text": [
      "['Mango', 'Apple', 'Orange', ['Yellow', 'Red', 'Pink']]\n",
      "['Mango', 'Apple', 'Orange', 'Yellow', 'Red', 'Pink']\n"
     ]
    }
   ],
   "source": [
    "# 4. append() , extend() -> List\n",
    "    \n",
    "# Examples :\n",
    "\n",
    "fruit = [\"Mango\",\"Apple\",\"Orange\"]\n",
    "colour = [\"Yellow\",\"Red\",\"Pink\"]\n",
    "\n",
    "# append()\n",
    "fruit.append(colour)\n",
    "print(fruit)  #  ['Mango', 'Apple', 'Orange', ['Yellow', 'Red', 'Pink']]\n",
    "\n",
    "fruit = [\"Mango\",\"Apple\",\"Orange\"]\n",
    "colour = [\"Yellow\",\"Red\",\"Pink\"]\n",
    "\n",
    "# extend()\n",
    "fruit.extend(colour)\n",
    "print(fruit)  # ['Mango', 'Apple', 'Orange', 'Yellow', 'Red', 'Pink']\n"
   ]
  },
  {
   "cell_type": "code",
   "execution_count": 46,
   "id": "2d8b3ad5",
   "metadata": {},
   "outputs": [
    {
     "name": "stdout",
     "output_type": "stream",
     "text": [
      "['Hari', 'Yogesh', 'Ram', 'Baskar']\n"
     ]
    }
   ],
   "source": [
    "# 5) insert() -> Adds an element at \"Specified Position\"\n",
    "\n",
    "List = [\"Hari\",\"Yogesh\",\"Baskar\"]\n",
    "List.insert(2,\"Ram\")\n",
    "print(List)  # ['Hari', 'Yogesh', 'Ram', 'Baskar']"
   ]
  },
  {
   "cell_type": "code",
   "execution_count": 47,
   "id": "552e31d9",
   "metadata": {},
   "outputs": [
    {
     "name": "stdout",
     "output_type": "stream",
     "text": [
      "[25, 45, 65, 85]\n"
     ]
    }
   ],
   "source": [
    "# 6) pop() - removes the end element(by default) of the list\n",
    "\n",
    "List = [25,45,65,85,95]\n",
    "\n",
    "List.pop()\n",
    "\n",
    "print(List)    #  [25, 45, 65, 85]"
   ]
  },
  {
   "cell_type": "code",
   "execution_count": 48,
   "id": "8abbb135",
   "metadata": {},
   "outputs": [
    {
     "name": "stdout",
     "output_type": "stream",
     "text": [
      "[10, 20, 30]\n"
     ]
    }
   ],
   "source": [
    "# 7) remove() -> removes the element with the specified values\n",
    "\n",
    "List = [10,20,30,40]\n",
    "\n",
    "List.remove(40)\n",
    "print(List)    # [10, 20, 30]"
   ]
  },
  {
   "cell_type": "code",
   "execution_count": 49,
   "id": "c15906aa",
   "metadata": {},
   "outputs": [
    {
     "name": "stdout",
     "output_type": "stream",
     "text": [
      "[]\n"
     ]
    }
   ],
   "source": [
    "#  8) clear() --> Removes all the elements from the list\n",
    "\n",
    "List = [10,20,30]\n",
    "\n",
    "List.clear()\n",
    "print(List)  #  []"
   ]
  },
  {
   "cell_type": "code",
   "execution_count": 50,
   "id": "cbd80d58",
   "metadata": {},
   "outputs": [
    {
     "name": "stdout",
     "output_type": "stream",
     "text": [
      "['Red', 'Blue']\n"
     ]
    }
   ],
   "source": [
    "#  9) del()  -> delete the specified values \n",
    "\n",
    "List = [\"Red\",\"Blue\",\"White\"]\n",
    "\n",
    "del List[2]\n",
    "print(List)  #  ['Red', 'Blue']"
   ]
  },
  {
   "cell_type": "code",
   "execution_count": 53,
   "id": "1a906b07",
   "metadata": {},
   "outputs": [
    {
     "name": "stdout",
     "output_type": "stream",
     "text": [
      "2\n"
     ]
    }
   ],
   "source": [
    "#  10) index()  -> Returns the index of the first element with the specified value\n",
    "\n",
    "List = [10,20,30,40]\n",
    "\n",
    "print(List.index(30))  #  2\n",
    "\n"
   ]
  },
  {
   "cell_type": "code",
   "execution_count": 55,
   "id": "53045b74",
   "metadata": {},
   "outputs": [
    {
     "name": "stdout",
     "output_type": "stream",
     "text": [
      "1\n"
     ]
    }
   ],
   "source": [
    "#  11) count()  -> Returns the number of elements with the specified value\n",
    "\n",
    "List = [\"Red\",\"Yellow\",\"Blue\"]\n",
    "\n",
    "print(List.count(\"Yellow\"))  # 1"
   ]
  },
  {
   "cell_type": "code",
   "execution_count": 61,
   "id": "8b3d29f9",
   "metadata": {},
   "outputs": [
    {
     "name": "stdout",
     "output_type": "stream",
     "text": [
      "['Red', 'Yellow', 'Blue']\n"
     ]
    }
   ],
   "source": [
    "#  12) copy() -> Returns a copy of the list\n",
    "\n",
    "List_1 = [\"Red\",\"Yellow\",\"Blue\"]\n",
    "List_2 = List_1.copy()\n",
    "\n",
    "print(List_2)   #  ['Red', 'Yellow', 'Blue']"
   ]
  },
  {
   "cell_type": "code",
   "execution_count": 68,
   "id": "10994e22",
   "metadata": {},
   "outputs": [
    {
     "name": "stdout",
     "output_type": "stream",
     "text": [
      "['Hari', 'Ram', 'Yogesh']\n"
     ]
    },
    {
     "ename": "TypeError",
     "evalue": "'<' not supported between instances of 'int' and 'str'",
     "output_type": "error",
     "traceback": [
      "\u001b[1;31m---------------------------------------------------------------------------\u001b[0m",
      "\u001b[1;31mTypeError\u001b[0m                                 Traceback (most recent call last)",
      "Cell \u001b[1;32mIn[68], line 9\u001b[0m\n\u001b[0;32m      6\u001b[0m \u001b[38;5;28mprint\u001b[39m(List_1)   \u001b[38;5;66;03m# ['Hari', 'Ram', 'Yogesh']\u001b[39;00m\n\u001b[0;32m      8\u001b[0m List_2 \u001b[38;5;241m=\u001b[39m [\u001b[38;5;124m\"\u001b[39m\u001b[38;5;124mRam\u001b[39m\u001b[38;5;124m\"\u001b[39m,\u001b[38;5;241m25\u001b[39m,\u001b[38;5;124m\"\u001b[39m\u001b[38;5;124mHari\u001b[39m\u001b[38;5;124m\"\u001b[39m,\u001b[38;5;241m15\u001b[39m]\n\u001b[1;32m----> 9\u001b[0m \u001b[38;5;28mprint\u001b[39m(List_2\u001b[38;5;241m.\u001b[39msort())\n",
      "\u001b[1;31mTypeError\u001b[0m: '<' not supported between instances of 'int' and 'str'"
     ]
    }
   ],
   "source": [
    "#  13) sort()  -> Sorts the list in Ascending order\n",
    "\n",
    "List_1 = [\"Ram\", \"Yogesh\", \"Hari\"]\n",
    "\n",
    "List_1.sort()\n",
    "print(List_1)   # ['Hari', 'Ram', 'Yogesh']\n",
    "\n",
    "List_2 = [\"Ram\",25,\"Hari\",15]\n",
    "print(List_2.sort())  # TypeError: '<' not supported between instances of 'int' and 'str'"
   ]
  },
  {
   "cell_type": "code",
   "execution_count": 69,
   "id": "8d981020",
   "metadata": {},
   "outputs": [
    {
     "name": "stdout",
     "output_type": "stream",
     "text": [
      "[50, 40, 30, 20, 10]\n"
     ]
    }
   ],
   "source": [
    "#  14) reverse() -> Reverses the order of the list\n",
    "\n",
    "List = [10,20,30,40,50]\n",
    "\n",
    "List.reverse()\n",
    "print(List)    #  [50, 40, 30, 20, 10]"
   ]
  },
  {
   "cell_type": "code",
   "execution_count": null,
   "id": "587063db",
   "metadata": {},
   "outputs": [],
   "source": []
  }
 ],
 "metadata": {
  "kernelspec": {
   "display_name": "Python 3 (ipykernel)",
   "language": "python",
   "name": "python3"
  },
  "language_info": {
   "codemirror_mode": {
    "name": "ipython",
    "version": 3
   },
   "file_extension": ".py",
   "mimetype": "text/x-python",
   "name": "python",
   "nbconvert_exporter": "python",
   "pygments_lexer": "ipython3",
   "version": "3.11.5"
  }
 },
 "nbformat": 4,
 "nbformat_minor": 5
}
