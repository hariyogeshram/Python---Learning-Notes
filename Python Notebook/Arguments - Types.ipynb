{
 "cells": [
  {
   "cell_type": "markdown",
   "id": "9ed3af7a",
   "metadata": {},
   "source": [
    "#                              Arguments \n",
    "\n",
    "   - Information that can be passed in to  Function\n",
    "   \n",
    "   \n",
    "## Types of Arguments :\n",
    "\n",
    "\n",
    "          1) position\n",
    "          2) keyword\n",
    "          3) default\n",
    "          4) variable length"
   ]
  },
  {
   "cell_type": "code",
   "execution_count": 4,
   "id": "d99bf813",
   "metadata": {},
   "outputs": [
    {
     "name": "stdout",
     "output_type": "stream",
     "text": [
      "The addition of 10 + 8 = 18\n"
     ]
    },
    {
     "ename": "TypeError",
     "evalue": "add() missing 1 required positional argument: 'b'",
     "output_type": "error",
     "traceback": [
      "\u001b[1;31m---------------------------------------------------------------------------\u001b[0m",
      "\u001b[1;31mTypeError\u001b[0m                                 Traceback (most recent call last)",
      "Cell \u001b[1;32mIn[4], line 13\u001b[0m\n\u001b[0;32m      9\u001b[0m add(\u001b[38;5;241m10\u001b[39m,\u001b[38;5;241m8\u001b[39m)\n\u001b[0;32m     11\u001b[0m \u001b[38;5;66;03m# if I can passing only 1 arguments \u001b[39;00m\n\u001b[1;32m---> 13\u001b[0m add(\u001b[38;5;241m15\u001b[39m)\n",
      "\u001b[1;31mTypeError\u001b[0m: add() missing 1 required positional argument: 'b'"
     ]
    }
   ],
   "source": [
    "#   1)  positional  arguments\n",
    "\n",
    "# Example - 1 :\n",
    "\n",
    "def add(a,b):\n",
    "    c = a+b\n",
    "    print(f\"The addition of {a} + {b} = {c}\")\n",
    "\n",
    "add(10,8)\n",
    "\n",
    "# if I can passing only 1 arguments \n",
    "\n",
    "add(15)   # 'TypeError' : add() missing 1 required positional argument: 'b'"
   ]
  },
  {
   "cell_type": "code",
   "execution_count": 12,
   "id": "c71e8fff",
   "metadata": {},
   "outputs": [
    {
     "name": "stdout",
     "output_type": "stream",
     "text": [
      "Name =  Hari\n",
      "Age =  25\n",
      "Name =  23\n"
     ]
    },
    {
     "ename": "TypeError",
     "evalue": "can only concatenate str (not \"int\") to str",
     "output_type": "error",
     "traceback": [
      "\u001b[1;31m---------------------------------------------------------------------------\u001b[0m",
      "\u001b[1;31mTypeError\u001b[0m                                 Traceback (most recent call last)",
      "Cell \u001b[1;32mIn[12], line 10\u001b[0m\n\u001b[0;32m      6\u001b[0m   \u001b[38;5;28mprint\u001b[39m(\u001b[38;5;124m\"\u001b[39m\u001b[38;5;124mAge = \u001b[39m\u001b[38;5;124m\"\u001b[39m,age\u001b[38;5;241m+\u001b[39m\u001b[38;5;241m2\u001b[39m)      \u001b[38;5;66;03m# change the conditions after 2 years : (age+2)\u001b[39;00m\n\u001b[0;32m      8\u001b[0m my_details(\u001b[38;5;124m\"\u001b[39m\u001b[38;5;124mHari\u001b[39m\u001b[38;5;124m\"\u001b[39m,\u001b[38;5;241m23\u001b[39m)\n\u001b[1;32m---> 10\u001b[0m my_details(\u001b[38;5;241m23\u001b[39m,\u001b[38;5;124m\"\u001b[39m\u001b[38;5;124mHari\u001b[39m\u001b[38;5;124m\"\u001b[39m)\n",
      "Cell \u001b[1;32mIn[12], line 6\u001b[0m, in \u001b[0;36mmy_details\u001b[1;34m(name, age)\u001b[0m\n\u001b[0;32m      3\u001b[0m \u001b[38;5;28;01mdef\u001b[39;00m \u001b[38;5;21mmy_details\u001b[39m(name,age):\n\u001b[0;32m      5\u001b[0m   \u001b[38;5;28mprint\u001b[39m(\u001b[38;5;124m\"\u001b[39m\u001b[38;5;124mName = \u001b[39m\u001b[38;5;124m\"\u001b[39m,name)\n\u001b[1;32m----> 6\u001b[0m   \u001b[38;5;28mprint\u001b[39m(\u001b[38;5;124m\"\u001b[39m\u001b[38;5;124mAge = \u001b[39m\u001b[38;5;124m\"\u001b[39m,age\u001b[38;5;241m+\u001b[39m\u001b[38;5;241m2\u001b[39m)\n",
      "\u001b[1;31mTypeError\u001b[0m: can only concatenate str (not \"int\") to str"
     ]
    }
   ],
   "source": [
    "  # Example - 2 [ position Arguments ]\n",
    "    \n",
    "def my_details(name,age):\n",
    "    \n",
    "    print(\"Name = \",name)\n",
    "    print(\"Age = \",age+2)      # change the conditions after 2 years : (age+2)\n",
    "    \n",
    "my_details(\"Hari\",23)\n",
    "\n",
    "# change the positions\n",
    "\n",
    "my_details(23,\"Hari\") # in one conditions, if we will give like this format, it returns TypeError"
   ]
  },
  {
   "cell_type": "code",
   "execution_count": 7,
   "id": "967be86b",
   "metadata": {},
   "outputs": [
    {
     "name": "stdout",
     "output_type": "stream",
     "text": [
      "Hi. My name is Hari. I am 23 years old.\n",
      "Hi. My name is Yogesh. I am 25 years old.\n"
     ]
    }
   ],
   "source": [
    "#   2)   Keyword Arguments\n",
    "\n",
    "def my_details(name,age):\n",
    "    \n",
    "    print(f\"Hi. My name is {name}. I am {age} years old.\")\n",
    "    \n",
    "my_details(name=\"Hari\",age=23)\n",
    "\n",
    "my_details(age=25,name=\"Yogesh\")"
   ]
  },
  {
   "cell_type": "code",
   "execution_count": 13,
   "id": "15395d4a",
   "metadata": {},
   "outputs": [
    {
     "name": "stdout",
     "output_type": "stream",
     "text": [
      "Name =  Yogesh\n",
      "Age =  20\n",
      "Name =  Sakthi\n",
      "Age =  20\n",
      "Name =  Hari\n",
      "Age =  20\n"
     ]
    }
   ],
   "source": [
    "#   3)     Default Argument\n",
    "\n",
    "# Examples - 1 \n",
    "\n",
    "def my_details(name,age=20):\n",
    "    \n",
    "    print(\"Name = \",name)\n",
    "    print(\"Age = \",age)      \n",
    "    \n",
    "my_details(\"Yogesh\")\n",
    "my_details(\"Sakthi\")\n",
    "my_details(\"Hari\")"
   ]
  },
  {
   "cell_type": "code",
   "execution_count": 14,
   "id": "afbce0f7",
   "metadata": {},
   "outputs": [
    {
     "name": "stdout",
     "output_type": "stream",
     "text": [
      "Name =  Yogesh\n",
      "Age =  23\n"
     ]
    }
   ],
   "source": [
    "# Examples - 2 \n",
    "\n",
    "def my_details(name,age=20):\n",
    "    \n",
    "    print(\"Name = \",name)\n",
    "    print(\"Age = \",age)      \n",
    "    \n",
    "my_details(\"Yogesh\",age=23)"
   ]
  },
  {
   "cell_type": "code",
   "execution_count": 17,
   "id": "faaca0bf",
   "metadata": {},
   "outputs": [
    {
     "ename": "SyntaxError",
     "evalue": "non-default argument follows default argument (2370766717.py, line 3)",
     "output_type": "error",
     "traceback": [
      "\u001b[1;36m  Cell \u001b[1;32mIn[17], line 3\u001b[1;36m\u001b[0m\n\u001b[1;33m    def my_details(name=\"Ram\",age):  # SyntaxError: non-default argument follows default argument\u001b[0m\n\u001b[1;37m                              ^\u001b[0m\n\u001b[1;31mSyntaxError\u001b[0m\u001b[1;31m:\u001b[0m non-default argument follows default argument\n"
     ]
    }
   ],
   "source": [
    "# Examples - 3 :  # 1st parameter, we avoid use the default value, when you have multiple args\n",
    "\n",
    "def my_details(name=\"Ram\",age):  # SyntaxError: non-default argument follows default argument\n",
    "    \n",
    "    print(\"Name = \",name)\n",
    "    print(\"Age = \",age)      \n",
    "    \n",
    "my_details(age=23)\n"
   ]
  },
  {
   "cell_type": "code",
   "execution_count": 18,
   "id": "a8b30168",
   "metadata": {},
   "outputs": [
    {
     "name": "stdout",
     "output_type": "stream",
     "text": [
      "Name =  Ram\n",
      "Age =  23\n"
     ]
    }
   ],
   "source": [
    "# # Handle this error to resolve \n",
    "\n",
    "def my_details(age,name=\"Ram\"):  \n",
    "    \n",
    "    print(\"Name = \",name)\n",
    "    print(\"Age = \",age)      \n",
    "    \n",
    "my_details(age=23)"
   ]
  },
  {
   "cell_type": "code",
   "execution_count": 21,
   "id": "8a45bdb9",
   "metadata": {},
   "outputs": [
    {
     "name": "stdout",
     "output_type": "stream",
     "text": [
      "Name =  Ram\n"
     ]
    }
   ],
   "source": [
    "# we can use default argument value when you have only one parameter\n",
    "\n",
    "# Examples :\n",
    "\n",
    "def my_details(name=\"Ram\"):  \n",
    "    \n",
    "    print(\"Name = \",name)     \n",
    "    \n",
    "my_details()"
   ]
  },
  {
   "cell_type": "code",
   "execution_count": 22,
   "id": "b72ae2a5",
   "metadata": {},
   "outputs": [
    {
     "ename": "TypeError",
     "evalue": "add() takes 2 positional arguments but 5 were given",
     "output_type": "error",
     "traceback": [
      "\u001b[1;31m---------------------------------------------------------------------------\u001b[0m",
      "\u001b[1;31mTypeError\u001b[0m                                 Traceback (most recent call last)",
      "Cell \u001b[1;32mIn[22], line 7\u001b[0m\n\u001b[0;32m      4\u001b[0m     c \u001b[38;5;241m=\u001b[39m a\u001b[38;5;241m+\u001b[39mb\n\u001b[0;32m      5\u001b[0m     \u001b[38;5;28mprint\u001b[39m(\u001b[38;5;124mf\u001b[39m\u001b[38;5;124m\"\u001b[39m\u001b[38;5;124mThe addition of \u001b[39m\u001b[38;5;132;01m{\u001b[39;00ma\u001b[38;5;132;01m}\u001b[39;00m\u001b[38;5;124m + \u001b[39m\u001b[38;5;132;01m{\u001b[39;00mb\u001b[38;5;132;01m}\u001b[39;00m\u001b[38;5;124m = \u001b[39m\u001b[38;5;132;01m{\u001b[39;00mc\u001b[38;5;132;01m}\u001b[39;00m\u001b[38;5;124m\"\u001b[39m)\n\u001b[1;32m----> 7\u001b[0m add(\u001b[38;5;241m10\u001b[39m,\u001b[38;5;241m8\u001b[39m,\u001b[38;5;241m9\u001b[39m,\u001b[38;5;241m7\u001b[39m,\u001b[38;5;241m6\u001b[39m)\n",
      "\u001b[1;31mTypeError\u001b[0m: add() takes 2 positional arguments but 5 were given"
     ]
    }
   ],
   "source": [
    "#   4)    Variable Length Arguments\n",
    "\n",
    "def add(a,b):\n",
    "    c = a+b\n",
    "    print(f\"The addition of {a} + {b} = {c}\")\n",
    "\n",
    "add(10,8,9,7,6)"
   ]
  },
  {
   "cell_type": "code",
   "execution_count": 23,
   "id": "df63c401",
   "metadata": {},
   "outputs": [
    {
     "name": "stdout",
     "output_type": "stream",
     "text": [
      "10\n",
      "(8, 9, 7, 6)\n"
     ]
    },
    {
     "ename": "NameError",
     "evalue": "name 'c' is not defined",
     "output_type": "error",
     "traceback": [
      "\u001b[1;31m---------------------------------------------------------------------------\u001b[0m",
      "\u001b[1;31mNameError\u001b[0m                                 Traceback (most recent call last)",
      "Cell \u001b[1;32mIn[23], line 10\u001b[0m\n\u001b[0;32m      7\u001b[0m     \u001b[38;5;28mprint\u001b[39m(b)\n\u001b[0;32m      8\u001b[0m     \u001b[38;5;28mprint\u001b[39m(\u001b[38;5;124mf\u001b[39m\u001b[38;5;124m\"\u001b[39m\u001b[38;5;124mThe addition of \u001b[39m\u001b[38;5;132;01m{\u001b[39;00ma\u001b[38;5;132;01m}\u001b[39;00m\u001b[38;5;124m + \u001b[39m\u001b[38;5;132;01m{\u001b[39;00mb\u001b[38;5;132;01m}\u001b[39;00m\u001b[38;5;124m = \u001b[39m\u001b[38;5;132;01m{\u001b[39;00mc\u001b[38;5;132;01m}\u001b[39;00m\u001b[38;5;124m\"\u001b[39m)\n\u001b[1;32m---> 10\u001b[0m add(\u001b[38;5;241m10\u001b[39m,\u001b[38;5;241m8\u001b[39m,\u001b[38;5;241m9\u001b[39m,\u001b[38;5;241m7\u001b[39m,\u001b[38;5;241m6\u001b[39m)\n",
      "Cell \u001b[1;32mIn[23], line 8\u001b[0m, in \u001b[0;36madd\u001b[1;34m(a, *b)\u001b[0m\n\u001b[0;32m      6\u001b[0m \u001b[38;5;28mprint\u001b[39m(a)\n\u001b[0;32m      7\u001b[0m \u001b[38;5;28mprint\u001b[39m(b)\n\u001b[1;32m----> 8\u001b[0m \u001b[38;5;28mprint\u001b[39m(\u001b[38;5;124mf\u001b[39m\u001b[38;5;124m\"\u001b[39m\u001b[38;5;124mThe addition of \u001b[39m\u001b[38;5;132;01m{\u001b[39;00ma\u001b[38;5;132;01m}\u001b[39;00m\u001b[38;5;124m + \u001b[39m\u001b[38;5;132;01m{\u001b[39;00mb\u001b[38;5;132;01m}\u001b[39;00m\u001b[38;5;124m = \u001b[39m\u001b[38;5;132;01m{\u001b[39;00mc\u001b[38;5;132;01m}\u001b[39;00m\u001b[38;5;124m\"\u001b[39m)\n",
      "\u001b[1;31mNameError\u001b[0m: name 'c' is not defined"
     ]
    }
   ],
   "source": [
    "# above examples return TypeError: add() takes 2 positional arguments but 5 were given\n",
    "\n",
    "# so we can overcome this error - >  \" We can use VARIABLE LENGTH ARGUMENT\"\n",
    "\n",
    "# in this examples , we can see the values of a and b \n",
    "\n",
    "# a can take 1st argument\n",
    "# b can take remaining arguments as a 'tuple'\n",
    "\n",
    "def add(a,*b):\n",
    "    print(a)\n",
    "    print(b)\n",
    "    print(f\"The addition of {a} + {b} = {c}\")\n",
    "\n",
    "add(10,8,9,7,6)"
   ]
  },
  {
   "cell_type": "code",
   "execution_count": 24,
   "id": "3eb8e72d",
   "metadata": {},
   "outputs": [
    {
     "name": "stdout",
     "output_type": "stream",
     "text": [
      "10\n",
      "(8, 9, 7, 6)\n",
      "The addition of 10 + (8, 9, 7, 6) = 40\n"
     ]
    }
   ],
   "source": [
    "def add(a,*b):\n",
    "    print(a)\n",
    "    print(b)\n",
    "    \n",
    "    c = a\n",
    "    \n",
    "    for i in b:\n",
    "        c = c + i\n",
    "        \n",
    "    print(f\"The addition of {a} + {b} = {c}\")\n",
    "\n",
    "add(10,8,9,7,6)"
   ]
  },
  {
   "cell_type": "code",
   "execution_count": 26,
   "id": "605181f5",
   "metadata": {},
   "outputs": [
    {
     "name": "stdout",
     "output_type": "stream",
     "text": [
      "(10, 8, 9, 7, 6)\n",
      "The sum is 40\n"
     ]
    }
   ],
   "source": [
    "def add(*a):\n",
    "    print(a)\n",
    "    # print(b)\n",
    "    \n",
    "    #c = a\n",
    "   \n",
    "    c = 0\n",
    "    \n",
    "    for i in a:\n",
    "        c = c + i\n",
    "        \n",
    "    print(f\"The sum is {c}\")\n",
    "\n",
    "add(10,8,9,7,6)"
   ]
  },
  {
   "cell_type": "code",
   "execution_count": 35,
   "id": "8b167036",
   "metadata": {},
   "outputs": [
    {
     "name": "stdout",
     "output_type": "stream",
     "text": [
      "13\n",
      "4 EVEN numbers present in the list\n",
      "9 ODD numbers present in the list\n"
     ]
    }
   ],
   "source": [
    "#    Calculate how many even , odd numbers in the list (using functions)\n",
    "\n",
    "#    convert list into functions\n",
    "\n",
    "#   Examples :\n",
    "\n",
    "def list_to_function(number_list):\n",
    "        \n",
    "        even = 0\n",
    "        odd = 0\n",
    "        \n",
    "        for i in number_list:\n",
    "            \n",
    "            if(i % 2 == 0):\n",
    "                even = even + 1\n",
    "            \n",
    "            else:\n",
    "                odd = odd + 1\n",
    "                \n",
    "        return even,odd\n",
    "            \n",
    "number_list = [10,23,45,18,7,12,27,33,8,55,93,63,17]\n",
    "print(len(number_list))\n",
    "\n",
    "even,odd = list_to_function(number_list)\n",
    "\n",
    "print(f\"{even} EVEN numbers present in the list\")\n",
    "print(f\"{odd} ODD numbers present in the list\")\n",
    "        "
   ]
  },
  {
   "cell_type": "code",
   "execution_count": 4,
   "id": "39b0953c",
   "metadata": {},
   "outputs": [
    {
     "name": "stdout",
     "output_type": "stream",
     "text": [
      "Name :  Yogesh\n",
      "dict_items([('age', 23), ('gender', 'Male'), ('location', 'Chennai')])\n",
      "\n",
      "------------------My Details-----------------------\n",
      "age  :  23\n",
      "gender  :  Male\n",
      "location  :  Chennai\n",
      "\n",
      "---------------------------------------------------\n"
     ]
    }
   ],
   "source": [
    "#  keyword arguments   or   **kwargs\n",
    "\n",
    "# examples :\n",
    "\n",
    "def details(name,**values):\n",
    "    \n",
    "    print(\"Name : \",name)\n",
    "    \n",
    "    print(values.items())\n",
    "    \n",
    "    print(\"\\n------------------My Details-----------------------\")\n",
    "    \n",
    "    for i,j in values.items():\n",
    "        \n",
    "        print(i,\" : \",j)\n",
    "\n",
    "details(\"Yogesh\",age=23,gender=\"Male\",location=\"Chennai\")\n",
    "print(\"\\n---------------------------------------------------\")"
   ]
  },
  {
   "cell_type": "code",
   "execution_count": null,
   "id": "84fe8d27",
   "metadata": {},
   "outputs": [],
   "source": []
  }
 ],
 "metadata": {
  "kernelspec": {
   "display_name": "Python 3 (ipykernel)",
   "language": "python",
   "name": "python3"
  },
  "language_info": {
   "codemirror_mode": {
    "name": "ipython",
    "version": 3
   },
   "file_extension": ".py",
   "mimetype": "text/x-python",
   "name": "python",
   "nbconvert_exporter": "python",
   "pygments_lexer": "ipython3",
   "version": "3.11.5"
  }
 },
 "nbformat": 4,
 "nbformat_minor": 5
}
