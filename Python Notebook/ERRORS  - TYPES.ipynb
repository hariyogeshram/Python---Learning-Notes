{
 "cells": [
  {
   "cell_type": "markdown",
   "id": "bc5bb325",
   "metadata": {},
   "source": [
    "\n",
    "     \n",
    " #                                      Errors \n",
    " \n",
    "     -  Errors are also termed bugs or faults\n",
    "     -  Errors are the problems in a program due to which the program will stop the execution.\n",
    "     \n",
    "### Types of errors :\n",
    "\n",
    "     - Syntax  \n",
    "     - Index   \n",
    "     - Type \n",
    "     - Value\n",
    "     - Indentation \n",
    "     - Name\n",
    "     - ZeroDivision\n"
   ]
  },
  {
   "cell_type": "code",
   "execution_count": 1,
   "id": "552f3d9a",
   "metadata": {},
   "outputs": [
    {
     "ename": "SyntaxError",
     "evalue": "invalid syntax (3316066644.py, line 3)",
     "output_type": "error",
     "traceback": [
      "\u001b[1;36m  Cell \u001b[1;32mIn[1], line 3\u001b[1;36m\u001b[0m\n\u001b[1;33m    print(\"Hello\"):\u001b[0m\n\u001b[1;37m                  ^\u001b[0m\n\u001b[1;31mSyntaxError\u001b[0m\u001b[1;31m:\u001b[0m invalid syntax\n"
     ]
    }
   ],
   "source": [
    "# Examples : 1   [\" SyntaxError \"]\n",
    "\n",
    "print(\"Hello\"):"
   ]
  },
  {
   "cell_type": "code",
   "execution_count": 2,
   "id": "463c3c60",
   "metadata": {},
   "outputs": [
    {
     "ename": "IndexError",
     "evalue": "list index out of range",
     "output_type": "error",
     "traceback": [
      "\u001b[1;31m---------------------------------------------------------------------------\u001b[0m",
      "\u001b[1;31mIndexError\u001b[0m                                Traceback (most recent call last)",
      "Cell \u001b[1;32mIn[2], line 5\u001b[0m\n\u001b[0;32m      1\u001b[0m \u001b[38;5;66;03m# Examples : 2 [\"  \"]\u001b[39;00m\n\u001b[0;32m      3\u001b[0m list_1 \u001b[38;5;241m=\u001b[39m [\u001b[38;5;241m10\u001b[39m,\u001b[38;5;241m20\u001b[39m,\u001b[38;5;241m30\u001b[39m,\u001b[38;5;241m40\u001b[39m]\n\u001b[1;32m----> 5\u001b[0m \u001b[38;5;28mprint\u001b[39m(list_1[\u001b[38;5;241m4\u001b[39m])\n",
      "\u001b[1;31mIndexError\u001b[0m: list index out of range"
     ]
    }
   ],
   "source": [
    "# Examples : 2 [\" IndexError: list index out of range \"]\n",
    "\n",
    "list_1 = [10,20,30,40]\n",
    "\n",
    "print(list_1[4])"
   ]
  },
  {
   "cell_type": "code",
   "execution_count": 3,
   "id": "19069ccd",
   "metadata": {},
   "outputs": [
    {
     "ename": "TypeError",
     "evalue": "unsupported operand type(s) for +: 'int' and 'str'",
     "output_type": "error",
     "traceback": [
      "\u001b[1;31m---------------------------------------------------------------------------\u001b[0m",
      "\u001b[1;31mTypeError\u001b[0m                                 Traceback (most recent call last)",
      "Cell \u001b[1;32mIn[3], line 3\u001b[0m\n\u001b[0;32m      1\u001b[0m \u001b[38;5;66;03m#  Example - 3 \u001b[39;00m\n\u001b[1;32m----> 3\u001b[0m \u001b[38;5;28mprint\u001b[39m(\u001b[38;5;241m5\u001b[39m \u001b[38;5;241m+\u001b[39m \u001b[38;5;124m'\u001b[39m\u001b[38;5;124ma\u001b[39m\u001b[38;5;124m'\u001b[39m)\n",
      "\u001b[1;31mTypeError\u001b[0m: unsupported operand type(s) for +: 'int' and 'str'"
     ]
    }
   ],
   "source": [
    "#  Example - 3  [\" TypeError: unsupported operand type(s) for +: 'int' and 'str' \"]\n",
    "\n",
    "print(5 + 'a')"
   ]
  },
  {
   "cell_type": "code",
   "execution_count": 3,
   "id": "9c0de14a",
   "metadata": {},
   "outputs": [
    {
     "ename": "ValueError",
     "evalue": "invalid literal for int() with base 10: 'hari'",
     "output_type": "error",
     "traceback": [
      "\u001b[1;31m---------------------------------------------------------------------------\u001b[0m",
      "\u001b[1;31mValueError\u001b[0m                                Traceback (most recent call last)",
      "Cell \u001b[1;32mIn[3], line 3\u001b[0m\n\u001b[0;32m      1\u001b[0m \u001b[38;5;66;03m# Example - 4 [ \" ValueError : \"]\u001b[39;00m\n\u001b[1;32m----> 3\u001b[0m a \u001b[38;5;241m=\u001b[39m \u001b[38;5;28;43mint\u001b[39;49m\u001b[43m(\u001b[49m\u001b[38;5;28;43minput\u001b[39;49m\u001b[43m(\u001b[49m\u001b[38;5;124;43m\"\u001b[39;49m\u001b[38;5;124;43mEnter the Number = \u001b[39;49m\u001b[38;5;124;43m\"\u001b[39;49m\u001b[43m)\u001b[49m\u001b[43m)\u001b[49m\n\u001b[0;32m      5\u001b[0m \u001b[38;5;28mprint\u001b[39m(a)\n",
      "\u001b[1;31mValueError\u001b[0m: invalid literal for int() with base 10: 'hari'"
     ]
    }
   ],
   "source": [
    "# Example - 4 [ \" ValueError : invalid literal for int() with base 10: 'hari'\"]\n",
    "\n",
    "a = int(input(\"Enter the Number = \"))  # you give number. suppose if you give any data type instead of integer, it returns : ValueError.\n",
    "\n",
    "print(a)"
   ]
  },
  {
   "cell_type": "code",
   "execution_count": 4,
   "id": "733ff96b",
   "metadata": {},
   "outputs": [
    {
     "ename": "IndentationError",
     "evalue": "expected an indented block after 'if' statement on line 3 (3145752720.py, line 4)",
     "output_type": "error",
     "traceback": [
      "\u001b[1;36m  Cell \u001b[1;32mIn[4], line 4\u001b[1;36m\u001b[0m\n\u001b[1;33m    print(\"3 is greater\")\u001b[0m\n\u001b[1;37m    ^\u001b[0m\n\u001b[1;31mIndentationError\u001b[0m\u001b[1;31m:\u001b[0m expected an indented block after 'if' statement on line 3\n"
     ]
    }
   ],
   "source": [
    "# Example - 5 [\" IndentationError : expected an indented block after 'if' statement on line 3 \"]\n",
    "\n",
    "if(3>1):\n",
    "print(\"3 is greater\")    "
   ]
  },
  {
   "cell_type": "code",
   "execution_count": 9,
   "id": "35ccba86",
   "metadata": {},
   "outputs": [
    {
     "ename": "NameError",
     "evalue": "name 'var' is not defined",
     "output_type": "error",
     "traceback": [
      "\u001b[1;31m---------------------------------------------------------------------------\u001b[0m",
      "\u001b[1;31mNameError\u001b[0m                                 Traceback (most recent call last)",
      "Cell \u001b[1;32mIn[9], line 3\u001b[0m\n\u001b[0;32m      1\u001b[0m \u001b[38;5;66;03m# Example - 5 \u001b[39;00m\n\u001b[1;32m----> 3\u001b[0m \u001b[38;5;241m4\u001b[39m\u001b[38;5;241m+\u001b[39mvar\n",
      "\u001b[1;31mNameError\u001b[0m: name 'var' is not defined"
     ]
    }
   ],
   "source": [
    "# Example - 6 [\" NameError: name 'var' is not defined \"]\n",
    "\n",
    "4+var"
   ]
  },
  {
   "cell_type": "code",
   "execution_count": 10,
   "id": "021c6a36",
   "metadata": {},
   "outputs": [
    {
     "ename": "ZeroDivisionError",
     "evalue": "division by zero",
     "output_type": "error",
     "traceback": [
      "\u001b[1;31m---------------------------------------------------------------------------\u001b[0m",
      "\u001b[1;31mZeroDivisionError\u001b[0m                         Traceback (most recent call last)",
      "Cell \u001b[1;32mIn[10], line 5\u001b[0m\n\u001b[0;32m      3\u001b[0m a \u001b[38;5;241m=\u001b[39m \u001b[38;5;241m12\u001b[39m\n\u001b[0;32m      4\u001b[0m b \u001b[38;5;241m=\u001b[39m \u001b[38;5;241m0\u001b[39m\n\u001b[1;32m----> 5\u001b[0m c \u001b[38;5;241m=\u001b[39m (a \u001b[38;5;241m/\u001b[39m b)\n\u001b[0;32m      6\u001b[0m \u001b[38;5;28mprint\u001b[39m(c)\n",
      "\u001b[1;31mZeroDivisionError\u001b[0m: division by zero"
     ]
    }
   ],
   "source": [
    "# Example - 7 [\" ZeroDivisionError: division by zero \"]\n",
    "\n",
    "a = 12\n",
    "b = 0\n",
    "c = (a / b)\n",
    "print(c)"
   ]
  },
  {
   "cell_type": "code",
   "execution_count": 4,
   "id": "a8221755",
   "metadata": {},
   "outputs": [
    {
     "name": "stdout",
     "output_type": "stream",
     "text": [
      "'ZeroDivisionError'. Any number should not be divided by Zero .So, Please provide Valid Number \n"
     ]
    }
   ],
   "source": [
    "# How to Handle the Error : [ by using exception handling concept -> try , except ]\n",
    "\n",
    "# Examples :\n",
    "\n",
    "a = 10\n",
    "b = 0\n",
    "\n",
    "try :\n",
    "    \n",
    "    c = (a / b)\n",
    "    print(c)\n",
    "    \n",
    "except :\n",
    "    \n",
    "    print(\"'ZeroDivisionError'. Any number should not be divided by Zero .So, Please provide Valid Number \")"
   ]
  },
  {
   "cell_type": "code",
   "execution_count": 5,
   "id": "e4c69dd9",
   "metadata": {},
   "outputs": [
    {
     "name": "stdout",
     "output_type": "stream",
     "text": [
      "A number Cannot be divided by 0. So, Please provide a valid number \n"
     ]
    }
   ],
   "source": [
    "# Handling Multiple except block \n",
    "\n",
    "# Examples :\n",
    "\n",
    "try :\n",
    "    a = int(input(\"Enter a  = \"))\n",
    "    b = int(input(\"Enter b  = \"))\n",
    "    print(\"Result = \",a/b)\n",
    "   \n",
    "except ZeroDivisionError :\n",
    "    print(\"A number Cannot be divided by 0. So, Please provide a valid number \")\n",
    "    \n",
    "except ValueError:\n",
    "    print(\"Alphabets never be used while dividing .So Please Enter Valid Number\")\n",
    "    \n",
    "except :\n",
    "    print(\"Error Occured\")"
   ]
  },
  {
   "cell_type": "code",
   "execution_count": 6,
   "id": "6890f5ce",
   "metadata": {},
   "outputs": [
    {
     "name": "stdout",
     "output_type": "stream",
     "text": [
      "<class 'ValueError'>\n"
     ]
    }
   ],
   "source": [
    "# Using system function\n",
    "\n",
    "import sys\n",
    "\n",
    "try :\n",
    "    a = int(input(\"Enter a  = \"))\n",
    "    b = int(input(\"Enter b  = \"))\n",
    "    print(\"Result = \",a/b)\n",
    "    \n",
    "except:\n",
    "    print(sys.exc_info()[0])"
   ]
  },
  {
   "cell_type": "code",
   "execution_count": 25,
   "id": "d3581552",
   "metadata": {},
   "outputs": [
    {
     "name": "stdout",
     "output_type": "stream",
     "text": [
      "Enter the file name : New_File\n",
      "Hi Learners\n",
      "Hope you are Beginners\n",
      "To Learn Data Science Course\n",
      "Welcome to GUVI\n"
     ]
    }
   ],
   "source": [
    "# File name with \"try except else\"\n",
    "\n",
    "fileName = input(\"Enter the file name : \")\n",
    "\n",
    "try : \n",
    "    file_obj = open(fileName)\n",
    "    content = file_obj.read()\n",
    "    \n",
    "except FileNotFoundError:\n",
    "    print(\"File not found\")\n",
    "    \n",
    "else :\n",
    "    print(content)\n",
    "    file_obj.close()\n",
    "    "
   ]
  },
  {
   "cell_type": "code",
   "execution_count": 28,
   "id": "d2efcae9",
   "metadata": {},
   "outputs": [
    {
     "name": "stdout",
     "output_type": "stream",
     "text": [
      "Enter a  = 10\n",
      "Enter b  = a\n",
      "Alphabets never be used while dividing .So Please Enter Valid Number\n",
      "Program Terminated\n"
     ]
    }
   ],
   "source": [
    "# Else and finally\n",
    "\n",
    "try :\n",
    "    a = int(input(\"Enter a  = \"))\n",
    "    b = int(input(\"Enter b  = \"))\n",
    "    Result = a/b\n",
    "   \n",
    "except ZeroDivisionError :\n",
    "    print(\"A number Cannot be divided by 0. So, Please provide a valid number \")\n",
    "    \n",
    "except ValueError:\n",
    "    print(\"Alphabets never be used while dividing .So Please Enter Valid Number\")\n",
    "    \n",
    "else :\n",
    "    print(\"Result = \",Result)\n",
    "    \n",
    "finally:\n",
    "    print(\"Program Terminated\")"
   ]
  },
  {
   "cell_type": "code",
   "execution_count": 29,
   "id": "7fe503a1",
   "metadata": {},
   "outputs": [
    {
     "ename": "NameError",
     "evalue": "Missing",
     "output_type": "error",
     "traceback": [
      "\u001b[1;31m---------------------------------------------------------------------------\u001b[0m",
      "\u001b[1;31mNameError\u001b[0m                                 Traceback (most recent call last)",
      "Cell \u001b[1;32mIn[29], line 5\u001b[0m\n\u001b[0;32m      1\u001b[0m \u001b[38;5;66;03m# raise keyword -> we can generate an error manually\u001b[39;00m\n\u001b[0;32m      2\u001b[0m \n\u001b[0;32m      3\u001b[0m \u001b[38;5;66;03m# Examples :\u001b[39;00m\n\u001b[1;32m----> 5\u001b[0m \u001b[38;5;28;01mraise\u001b[39;00m \u001b[38;5;167;01mNameError\u001b[39;00m(\u001b[38;5;124m\"\u001b[39m\u001b[38;5;124mMissing\u001b[39m\u001b[38;5;124m\"\u001b[39m)\n",
      "\u001b[1;31mNameError\u001b[0m: Missing"
     ]
    }
   ],
   "source": [
    "# raise keyword -> we can generate an error manually\n",
    "\n",
    "# Examples :\n",
    "\n",
    "raise NameError(\"Missing\")"
   ]
  },
  {
   "cell_type": "code",
   "execution_count": 33,
   "id": "57f3f64a",
   "metadata": {},
   "outputs": [
    {
     "name": "stdout",
     "output_type": "stream",
     "text": [
      "Enter a Number : -1\n"
     ]
    },
    {
     "ename": "Exception",
     "evalue": "Please provide a number which is greater than zero",
     "output_type": "error",
     "traceback": [
      "\u001b[1;31m---------------------------------------------------------------------------\u001b[0m",
      "\u001b[1;31mException\u001b[0m                                 Traceback (most recent call last)",
      "Cell \u001b[1;32mIn[33], line 5\u001b[0m\n\u001b[0;32m      3\u001b[0m a \u001b[38;5;241m=\u001b[39m \u001b[38;5;28mint\u001b[39m(\u001b[38;5;28minput\u001b[39m(\u001b[38;5;124m\"\u001b[39m\u001b[38;5;124mEnter a Number : \u001b[39m\u001b[38;5;124m\"\u001b[39m))\n\u001b[0;32m      4\u001b[0m \u001b[38;5;28;01mif\u001b[39;00m(a\u001b[38;5;241m<\u001b[39m\u001b[38;5;241m0\u001b[39m):\n\u001b[1;32m----> 5\u001b[0m     \u001b[38;5;28;01mraise\u001b[39;00m \u001b[38;5;167;01mException\u001b[39;00m(\u001b[38;5;124m\"\u001b[39m\u001b[38;5;124mPlease provide a number which is greater than zero\u001b[39m\u001b[38;5;124m\"\u001b[39m)\n\u001b[0;32m      6\u001b[0m \u001b[38;5;28mprint\u001b[39m(a)\n",
      "\u001b[1;31mException\u001b[0m: Please provide a number which is greater than zero"
     ]
    }
   ],
   "source": [
    "# examples :\n",
    "\n",
    "a = int(input(\"Enter a Number : \"))\n",
    "if(a<0):\n",
    "    raise Exception(\"Please provide a number which is greater than zero\")\n",
    "print(a)\n",
    "    "
   ]
  }
 ],
 "metadata": {
  "kernelspec": {
   "display_name": "Python 3 (ipykernel)",
   "language": "python",
   "name": "python3"
  },
  "language_info": {
   "codemirror_mode": {
    "name": "ipython",
    "version": 3
   },
   "file_extension": ".py",
   "mimetype": "text/x-python",
   "name": "python",
   "nbconvert_exporter": "python",
   "pygments_lexer": "ipython3",
   "version": "3.12.1"
  }
 },
 "nbformat": 4,
 "nbformat_minor": 5
}
