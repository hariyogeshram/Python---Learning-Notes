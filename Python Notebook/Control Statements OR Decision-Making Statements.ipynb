{
 "cells": [
  {
   "cell_type": "markdown",
   "id": "123c2ee1",
   "metadata": {},
   "source": [
    "#   Control Statements (OR) Decision-Making Statements\n",
    "\n",
    "\n",
    "   -  allows us to run a particular block of code for a particular decision\n",
    "   -  Here, the decisions are made on the validity of the particular conditions\n",
    "   \n",
    "   -  \"Condition checking\" is the backbone of \"decision making\""
   ]
  },
  {
   "cell_type": "code",
   "execution_count": 9,
   "id": "0b20cafa",
   "metadata": {},
   "outputs": [
    {
     "name": "stdout",
     "output_type": "stream",
     "text": [
      "Enter the number : 8\n",
      "It is an Even Number\n"
     ]
    }
   ],
   "source": [
    "#  1) If Statement :\n",
    "\n",
    "#          -  used to test a specific condition.\n",
    "#          -  If the condition is true,\n",
    "#          -  a block of code (if-block) will be executed.\n",
    "\n",
    "# Syntax :\n",
    "\n",
    "#                  if expression:  \n",
    "#                      statement \n",
    "\n",
    "\n",
    "# Examples :\n",
    "\n",
    "n = int(input(\"Enter the number : \"))\n",
    "\n",
    "if (n%2 == 0):\n",
    "    print(\"It is an Even Number\")\n",
    "        \n",
    "                   "
   ]
  },
  {
   "cell_type": "code",
   "execution_count": 10,
   "id": "63b58b1a",
   "metadata": {},
   "outputs": [
    {
     "name": "stdout",
     "output_type": "stream",
     "text": [
      "You are eligible to Vote.\n"
     ]
    }
   ],
   "source": [
    "#  2) if else statement \n",
    "\n",
    "#         -   provides an 'else block' combined with the \"if statement\"\n",
    "#         -   which is executed in the 'false case' of the condition. \n",
    "\n",
    "#  Syntax :\n",
    "\n",
    "#     if condition:  \n",
    "#         block of statements   \n",
    "#     else:   \n",
    "#         another block of statements (else-block)\n",
    "\n",
    "\n",
    "#  Examples :\n",
    "\n",
    "age = 20\n",
    "\n",
    "if(age>=18):\n",
    "    print(\"You are eligible to Vote.\")\n",
    "    \n",
    "else :\n",
    "    print(\"Sorry!..You are not eligible to vote.\")"
   ]
  },
  {
   "cell_type": "code",
   "execution_count": 16,
   "id": "5d4e8616",
   "metadata": {},
   "outputs": [
    {
     "name": "stdout",
     "output_type": "stream",
     "text": [
      "Please Enter Valid Name !!..\n",
      "Program Terminated\n"
     ]
    }
   ],
   "source": [
    "# 3) Nested If statement :\n",
    "\n",
    "#     -  we can include 'N' number of 'If block' inside if-block will added based on criteria.\n",
    "\n",
    "# Syntax :\n",
    "#               if(cond1):\n",
    "#                   if(cond2):\n",
    "#                       #block of code\n",
    "\n",
    "# Examples :\n",
    "\n",
    "name = \"Ram\"\n",
    "regno = 100\n",
    "marks = 95\n",
    "\n",
    "if(name == \"Hari\"):\n",
    "    if(regno == 100):\n",
    "        print(\"Your Marks = \",marks) \n",
    "        \n",
    "    else :\n",
    "        print(\"You Entered Wrong Register Number. So Please Enter your valid Register number!..\")\n",
    "    \n",
    "else :\n",
    "    print(\"Please Enter Valid Name !!..\")\n",
    "    \n",
    "print(\"Program Terminated\")"
   ]
  },
  {
   "cell_type": "code",
   "execution_count": 23,
   "id": "0feb6c91",
   "metadata": {},
   "outputs": [
    {
     "name": "stdout",
     "output_type": "stream",
     "text": [
      "Enter your Marks : 91\n",
      "Congrats!..You got 'O' Grade\n"
     ]
    }
   ],
   "source": [
    "# 4)  elif : \n",
    "\n",
    "#        -  Used to check multiple conditions \n",
    "#        -  execute the specific block of statements depending upon the true condition among them\n",
    "#        -  We can have any number of elif statements in our program depending upon our need.\n",
    "\n",
    "#  Syntax :\n",
    "\n",
    "# if expression 1:   \n",
    "#     # block of statements   \n",
    "  \n",
    "# elif expression 2:   \n",
    "#     # block of statements   \n",
    "  \n",
    "# elif expression 3:   \n",
    "#     # block of statements   \n",
    "  \n",
    "# else:   \n",
    "#     # block of statements  \n",
    "\n",
    "\n",
    "\n",
    "#  Examples :\n",
    "\n",
    "marks = int(input(\"Enter your Marks : \"))\n",
    "\n",
    "if marks > 90 and marks <=100 :\n",
    "    print (\"Congrats!..You got 'O' Grade\")\n",
    "    \n",
    "elif marks > 80 and marks <=90 :\n",
    "    print (\"You got 'A+' Grade\") \n",
    "    \n",
    "elif marks > 70 and marks <=80 :\n",
    "    print (\"You got 'A' Grade\") \n",
    "    \n",
    "elif marks > 60 and marks <=70 :\n",
    "    print (\"You got 'B+' Grade\")  \n",
    "    \n",
    "elif marks > 50 and marks <=60 :\n",
    "    print (\"You got 'B' Grade\") \n",
    "    \n",
    "else :\n",
    "    print(\"Sorry !..You are fail..Please Study well!...\")"
   ]
  },
  {
   "cell_type": "code",
   "execution_count": null,
   "id": "8dfbce70",
   "metadata": {},
   "outputs": [],
   "source": []
  }
 ],
 "metadata": {
  "kernelspec": {
   "display_name": "Python 3 (ipykernel)",
   "language": "python",
   "name": "python3"
  },
  "language_info": {
   "codemirror_mode": {
    "name": "ipython",
    "version": 3
   },
   "file_extension": ".py",
   "mimetype": "text/x-python",
   "name": "python",
   "nbconvert_exporter": "python",
   "pygments_lexer": "ipython3",
   "version": "3.11.5"
  }
 },
 "nbformat": 4,
 "nbformat_minor": 5
}
