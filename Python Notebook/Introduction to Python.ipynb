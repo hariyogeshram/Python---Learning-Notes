{
 "cells": [
  {
   "cell_type": "markdown",
   "id": "a1dc250b",
   "metadata": {},
   "source": [
    "# Introduction to Python\n",
    "\n",
    "#### History - Python\n",
    "\n",
    "   -   Developed by \"GUIDO VAN ROSSUM\" in Late 90's.\n",
    "      "
   ]
  },
  {
   "cell_type": "markdown",
   "id": "944cd846",
   "metadata": {},
   "source": [
    "## Why Python name is coming?\n",
    "      \n",
    "      -  Guido Van Rossum , though attributes to the choice of name python to a 'Popular Comedy series'\n",
    "        called \" MONTY PYTHON FLYING CIRCUS \" (on BBC).\n",
    "        "
   ]
  },
  {
   "cell_type": "markdown",
   "id": "00e6ffde",
   "metadata": {},
   "source": [
    "## What is Python?\n",
    "\n",
    "    -   High-level Programming Languages\n",
    "    -   Interpreter\n",
    "    -   Object-Oriented Programming(OOP)\n",
    "    -   Case-Sensitive Language\n",
    "    -   Platform Independent\n",
    "    \n",
    "  \n",
    "## Why to Learn \"Python\"?\n",
    "    -   Simple Syntax Compared to other languages like C, C++, Java etc..\n",
    "    -   Open Source (Available at 'free of cost')\n",
    "    -   Versatile (Used to create different things)\n",
    "    -   Huge Community Support\n",
    "    -   Portable (\"Works on differnt platforms\")\n",
    "    -   Powerful Development 'Libraries'\n",
    "    -   Treated in ('Functional', 'Procedural' and 'Object-Oriented') ways.\n",
    "    \n",
    "    \n",
    "## Why Python is an Interpreted Language?\n",
    "\n",
    "    -   It Runs on an Interpreter System\n",
    "    -   Which means \" That code can be executed as soon as it is written\"\n",
    "    -   that means, Prototyping can be very Quick.\n",
    "    "
   ]
  },
  {
   "cell_type": "markdown",
   "id": "adeab2ae",
   "metadata": {},
   "source": [
    "## Advantages of using \"Python\" :\n",
    "\n",
    "   -   Easy to Read, Learn , Write.\n",
    "   -   Portable.\n",
    "   -   Huge Community Support.\n",
    "   -   Extensive support Libraries(Numpy-> Numerical Calculations, Pandas-> Data analytics)\n",
    "       (Make it suitable for scientific and data-related Applications).\n",
    "   -   Dynamically Typed Language.\n",
    "   -   Object Oriented and Procedural Programming Languages.\n",
    "\n",
    "\n",
    "## DisAdvantages of Python :\n",
    "\n",
    "   -   Memory Consumption(Consumes a lot of memory , \n",
    "                          especially working with large datasets/running complex algorithms)\n",
    "   -   Packaging and Versioning (Large number of Packages and Libraries)\n",
    "   -   Slower Performance"
   ]
  },
  {
   "cell_type": "markdown",
   "id": "fccc8d9f",
   "metadata": {},
   "source": [
    "##  Features of Python :\n",
    "\n",
    "   -   GUI Programming\n",
    "   -   Broad-Extended Library\n",
    "   -   Interactive Mode\n",
    "   -   Scalable\n",
    "   -   Databases\n",
    "    \n",
    "   ### Apart From That,,\n",
    "   \n",
    "    -   It supports \"Functional\" and \"Structural\" Programming Methods as well as OOPS.\n",
    "    -   Supports \"Automatic Garbage Collection\"\n",
    "    -   Integrated with C, C++, JAVA etc..\n",
    "    -   Provides 'High-Level datatypes' and supports 'Dynamic type Checking'\n",
    "    \n",
    "    \n",
    "\n",
    "##  Python JOBS :\n",
    "\n",
    "     -   Today , Python is very High Demand.\n",
    "     -   All the Major companies are looking for Python Programmers to develop \n",
    "        'Websites, Software components / Software Apps'\n",
    "        to Work with 'DS or ML or AI Technologies'.\n",
    "        \n",
    "     -  Companies Like :\n",
    "         \n",
    "            *  Google\n",
    "            *  Amazon\n",
    "            *  NASA\n",
    "            *  PayPal\n",
    "            *  IBM\n",
    "            *  FaceBook\n",
    "            *  Intel\n",
    "            *  Uber\n",
    "            *  Netflix\n",
    "            *  Pinterest"
   ]
  },
  {
   "cell_type": "code",
   "execution_count": null,
   "id": "0aa8f0eb",
   "metadata": {},
   "outputs": [],
   "source": []
  }
 ],
 "metadata": {
  "kernelspec": {
   "display_name": "Python 3 (ipykernel)",
   "language": "python",
   "name": "python3"
  },
  "language_info": {
   "codemirror_mode": {
    "name": "ipython",
    "version": 3
   },
   "file_extension": ".py",
   "mimetype": "text/x-python",
   "name": "python",
   "nbconvert_exporter": "python",
   "pygments_lexer": "ipython3",
   "version": "3.11.5"
  }
 },
 "nbformat": 4,
 "nbformat_minor": 5
}
