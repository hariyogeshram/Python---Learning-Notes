{
 "cells": [
  {
   "cell_type": "markdown",
   "id": "ccf6b8f6",
   "metadata": {},
   "source": [
    "  #                              'STRING' - Datatypes\n",
    "  \n",
    "           -  Represented by class 'str'\n",
    "           \n",
    "           -  Collection of (one or more) characters.\n",
    "           -  Represented in Single(' ') or Double(\" \") or triple(\"\"\") quotes\n",
    "           \n",
    "           -  No 'char' datatype .\n",
    "           -  So Character is also a String."
   ]
  },
  {
   "cell_type": "code",
   "execution_count": 4,
   "id": "46972578",
   "metadata": {},
   "outputs": [
    {
     "name": "stdout",
     "output_type": "stream",
     "text": [
      "Hari\n",
      "Ram\n",
      "HariRam\n",
      "\n",
      "\n",
      "Hari Ram\n",
      "Hari Ram\n",
      "HariHariHari RamRamRam\n"
     ]
    }
   ],
   "source": [
    "# String Concatenation (+)\n",
    "\n",
    "# Examples :\n",
    "\n",
    "First_Name = input()          # Hari\n",
    "Last_Name = input()           # Ram\n",
    "\n",
    "Full_Name = First_Name + Last_Name           \n",
    "print(Full_Name)         # HariRam\n",
    "\n",
    "print(\"\\n\")\n",
    "\n",
    "#  Space b/w 2 strings\n",
    "\n",
    "Full_Name = First_Name+ \" \" +Last_Name\n",
    "print(Full_Name)    # Hari Ram\n",
    "\n",
    "# Another type for (space b/w 2 strings)\n",
    "print(First_Name, Last_Name)   # Hari Ram\n",
    "\n",
    "\n",
    "# Multiply 'N' no.of Strings\n",
    "print(First_Name * 3 , Last_Name *3)   # HariHariHari RamRamRam\n"
   ]
  },
  {
   "cell_type": "code",
   "execution_count": 5,
   "id": "21a4aa2e",
   "metadata": {},
   "outputs": [
    {
     "name": "stdout",
     "output_type": "stream",
     "text": [
      "I am Learning Python in Youtube\n"
     ]
    }
   ],
   "source": [
    "# Printing the STRING Statements\n",
    "\n",
    "# Type 1 :\n",
    "\n",
    "a = \"Learning Python\"\n",
    "b = \"Youtube\"\n",
    "\n",
    "print(\"I am \"+a+\" in \"+b)            # I am Learning Python in Youtube"
   ]
  },
  {
   "cell_type": "code",
   "execution_count": 1,
   "id": "3103147d",
   "metadata": {},
   "outputs": [
    {
     "name": "stdout",
     "output_type": "stream",
     "text": [
      "I am Learning Python in Youtube.\n",
      "I am Learning Python in Youtube.\n",
      "I am Learning Python in Youtube\n"
     ]
    }
   ],
   "source": [
    "# type 2    String Formatting\n",
    "\n",
    "a = \"Learning Python\"\n",
    "b = \"Youtube\"\n",
    "\n",
    "print(\"I am {a} in {b}.\".format(a=a,b=b))         #   I am Learning Python in Youtube.\n",
    "print(\"I am {} in {}.\".format(a,b))               #   I am Learning Python in Youtube.\n",
    "print(f\"I am {a} in {b}\")                         #   I am Learning Python in Youtube"
   ]
  },
  {
   "cell_type": "code",
   "execution_count": 14,
   "id": "aa231d20",
   "metadata": {},
   "outputs": [
    {
     "name": "stdout",
     "output_type": "stream",
     "text": [
      "H e l l o\n",
      "H e l l o\n"
     ]
    }
   ],
   "source": [
    "#   STRING - Indexing      - >  Index starts with 0 and ends with 'n-1'\n",
    "a = \"Hello\"\n",
    "\n",
    "# Positive Indexing\n",
    "print(a[0],a[1],a[2],a[3],a[4])            #   H e l l o\n",
    "\n",
    "# Negative Indexing\n",
    "print(a[-5],a[-4],a[-3],a[-2],a[-1])       #   H e l l o"
   ]
  },
  {
   "cell_type": "code",
   "execution_count": 15,
   "id": "2468ad62",
   "metadata": {},
   "outputs": [
    {
     "data": {
      "text/plain": [
       "'ello'"
      ]
     },
     "execution_count": 15,
     "metadata": {},
     "output_type": "execute_result"
    }
   ],
   "source": [
    "# Slicing\n",
    "\n",
    "# Syntax :    [Start : End-1]\n",
    "\n",
    "# Examples :\n",
    "\n",
    "s = 'Hello World'\n",
    "s[1:5]      # 'ello'"
   ]
  },
  {
   "cell_type": "code",
   "execution_count": 16,
   "id": "12e163b6",
   "metadata": {},
   "outputs": [
    {
     "data": {
      "text/plain": [
       "'orld'"
      ]
     },
     "execution_count": 16,
     "metadata": {},
     "output_type": "execute_result"
    }
   ],
   "source": [
    "# Negative Slicing \n",
    "\n",
    "s = 'Hello World'\n",
    "s[-4 : ]    # 'orld'"
   ]
  },
  {
   "cell_type": "code",
   "execution_count": 17,
   "id": "e7687852",
   "metadata": {},
   "outputs": [
    {
     "data": {
      "text/plain": [
       "'HloPto'"
      ]
     },
     "execution_count": 17,
     "metadata": {},
     "output_type": "execute_result"
    }
   ],
   "source": [
    "# Slicing  (Step Argument)\n",
    "\n",
    "# Syntax :   (Start : End : Step)\n",
    "\n",
    "# Examples :\n",
    "\n",
    "s = \"Hello Python\"\n",
    "s[0::2]    # 'HloPto'"
   ]
  },
  {
   "cell_type": "markdown",
   "id": "22556887",
   "metadata": {},
   "source": [
    "###                                  STRING -  Methods\n",
    "\n",
    " -  1) capitalize()\n",
    " -  2) count()\n",
    " -  3) islower() and lower()\n",
    " -  4) isupper() and upper()\n",
    " -  5) swapcase()\n",
    " -  6) istitle() and title()\n",
    " -  7) startswith()\n",
    " -  8) endswith()\n",
    " -  9) isnumeric()\n",
    " -  10) isalpha()\n",
    " -  11) isalnum()\n",
    " -  12) find()\n",
    " -  13) index()\n",
    " -  14) replace()\n",
    " -  15) strip()\n",
    " -  16) ljust(), rjust(), center()\n",
    " -  17) split()\n",
    " -  18) join()"
   ]
  },
  {
   "cell_type": "code",
   "execution_count": 18,
   "id": "4d139ce3",
   "metadata": {},
   "outputs": [
    {
     "name": "stdout",
     "output_type": "stream",
     "text": [
      "Yogesh\n"
     ]
    }
   ],
   "source": [
    "# 1) capitalize()  -> returns a string where the first character is upper case, \n",
    "#                       and the rest is lower case. \n",
    "\n",
    "# Examples:\n",
    "\n",
    "a = \"yogesh\"\n",
    "print(a.capitalize())   # Yogesh"
   ]
  },
  {
   "cell_type": "code",
   "execution_count": 23,
   "id": "ac5fa33d",
   "metadata": {},
   "outputs": [
    {
     "ename": "TypeError",
     "evalue": "count() takes at least 1 argument (0 given)",
     "output_type": "error",
     "traceback": [
      "\u001b[1;31m---------------------------------------------------------------------------\u001b[0m",
      "\u001b[1;31mTypeError\u001b[0m                                 Traceback (most recent call last)",
      "Cell \u001b[1;32mIn[23], line 6\u001b[0m\n\u001b[0;32m      1\u001b[0m \u001b[38;5;66;03m# count() - > returns the no.of elements in the string.\u001b[39;00m\n\u001b[0;32m      2\u001b[0m \n\u001b[0;32m      3\u001b[0m \u001b[38;5;66;03m# Examples:\u001b[39;00m\n\u001b[0;32m      5\u001b[0m a \u001b[38;5;241m=\u001b[39m \u001b[38;5;124m\"\u001b[39m\u001b[38;5;124mYogesh\u001b[39m\u001b[38;5;124m\"\u001b[39m\n\u001b[1;32m----> 6\u001b[0m \u001b[38;5;28mprint\u001b[39m(a\u001b[38;5;241m.\u001b[39mcount())\n",
      "\u001b[1;31mTypeError\u001b[0m: count() takes at least 1 argument (0 given)"
     ]
    }
   ],
   "source": [
    "# count() - > returns the no.of elements in the string.\n",
    "\n",
    "# Examples:\n",
    "\n",
    "a = \"Yogesh\"\n",
    "print(a.count())"
   ]
  },
  {
   "cell_type": "code",
   "execution_count": 26,
   "id": "80753942",
   "metadata": {},
   "outputs": [
    {
     "name": "stdout",
     "output_type": "stream",
     "text": [
      "1\n"
     ]
    }
   ],
   "source": [
    "# count() - > returns the no.of elements in the string.\n",
    "\n",
    "# Examples:\n",
    "\n",
    "a = \"Yogesh is my favourite friend in my life\"\n",
    "print(a.count(\"life\"))"
   ]
  },
  {
   "cell_type": "code",
   "execution_count": 30,
   "id": "1856fce4",
   "metadata": {},
   "outputs": [
    {
     "name": "stdout",
     "output_type": "stream",
     "text": [
      "False\n",
      "False\n",
      "True\n",
      "\n",
      "\n",
      "welcome to python\n",
      "welcome to python\n"
     ]
    }
   ],
   "source": [
    "#  3) islower() and lower()\n",
    "\n",
    "# islower() --> returns Boolean value(True/False) to check all the elements in a string  \n",
    "#               is present in 'lowercase'.\n",
    "\n",
    "# Examples :\n",
    "\n",
    "str1 = \"weLcome to python\"\n",
    "str2 = \"WeLcoMe To PytHon\"\n",
    "str3 = \"welcome to python\"\n",
    "\n",
    "print(str1.islower())           # False\n",
    "print(str2.islower())           # False\n",
    "print(str3.islower())           # True\n",
    "\n",
    "\n",
    "print(\"\\n\")\n",
    "\n",
    "# lower()  -> Returns a lowercase string\n",
    "\n",
    "# Examples :\n",
    "\n",
    "str1 = \"weLcome to python\"\n",
    "str2 = \"WeLcoMe To PytHon\"\n",
    "\n",
    "print(str1.lower())       #  welcome to python\n",
    "print(str2.lower())       #  welcome to python\n"
   ]
  },
  {
   "cell_type": "code",
   "execution_count": 35,
   "id": "e2ca03d8",
   "metadata": {},
   "outputs": [
    {
     "name": "stdout",
     "output_type": "stream",
     "text": [
      "False\n",
      "False\n",
      "True\n",
      "\n",
      "\n",
      "WELCOME TO PYTHON\n",
      "WELCOME TO PYTHON\n"
     ]
    }
   ],
   "source": [
    "#     4) isupper() and upper()\n",
    "\n",
    "#   isupper()  -> Returns a boolean value(True/False) to check all elements in the strings is \n",
    "#                 present in 'uppercase'\n",
    "\n",
    "# Examples :\n",
    "\n",
    "str1 = \"weLcome to python\"\n",
    "str2 = \"WeLcoMe To PytHon\"\n",
    "str3 = \"WELCOME TO PYTHON\"\n",
    "\n",
    "print(str1.isupper())           # False\n",
    "print(str2.isupper())           # False\n",
    "print(str3.isupper())           # True\n",
    "\n",
    "print(\"\\n\")\n",
    "\n",
    "#  upper() -> Return the Uppercase String\n",
    "\n",
    "# Examples :\n",
    "\n",
    "str1 = \"weLcome to python\"\n",
    "str2 = \"WeLcoMe To PytHon\"\n",
    "\n",
    "print(str1.upper())     #  WELCOME TO PYTHON\n",
    "print(str2.upper())     #  WELCOME TO PYTHON"
   ]
  },
  {
   "cell_type": "code",
   "execution_count": 37,
   "id": "cb41e17c",
   "metadata": {},
   "outputs": [
    {
     "name": "stdout",
     "output_type": "stream",
     "text": [
      "lEaRN pYThOn\n"
     ]
    }
   ],
   "source": [
    "#  5. swapcase() -> returns each element in the string , converts 'lowercase into uppercase' and\n",
    "#                  'uppercase into lowercase'  \n",
    "#  Examples :\n",
    "\n",
    "str_1 = \"LeArn PytHoN\"\n",
    "\n",
    "print(str_1.swapcase())    #  lEaRN pYThOn"
   ]
  },
  {
   "cell_type": "code",
   "execution_count": 44,
   "id": "56a6e80a",
   "metadata": {},
   "outputs": [
    {
     "name": "stdout",
     "output_type": "stream",
     "text": [
      "All Is Well\n",
      "\n",
      "\n",
      "False\n",
      "False\n",
      "True\n"
     ]
    }
   ],
   "source": [
    "#  6) istitle() and title()\n",
    "\n",
    "# title() -> Returns an 'uppercase' String in '1st' letter/element of each word in the String.\n",
    "\n",
    "# Examples :\n",
    "\n",
    "str1 = \"all is well\"\n",
    "\n",
    "print(str1.title())      # All Is Well\n",
    "\n",
    "print(\"\\n\")\n",
    "\n",
    "# istitle() -> Returns 'True', If each word of the 1st element/character is present in 'uppercase'\n",
    "\n",
    "# Examples :\n",
    "\n",
    "str1 = \"all Is Well\"\n",
    "str2 = \"aLL IS WELL\"\n",
    "str3 = \"All Is Well\"\n",
    "\n",
    "print(str1.istitle())    #  False\n",
    "print(str2.istitle())    #  False\n",
    "print(str3.istitle())    #  True"
   ]
  },
  {
   "cell_type": "code",
   "execution_count": 1,
   "id": "8400da54",
   "metadata": {},
   "outputs": [
    {
     "name": "stdout",
     "output_type": "stream",
     "text": [
      "True\n",
      "False\n"
     ]
    }
   ],
   "source": [
    "#  7) startswith()\n",
    "\n",
    "# Examples:\n",
    "\n",
    "str1 = \"Today is my birthday\"\n",
    "\n",
    "print(str1.startswith(\"Today\"))    # true\n",
    "print(str1.startswith(\"my\"))     # false"
   ]
  },
  {
   "cell_type": "code",
   "execution_count": 2,
   "id": "3a4bbb5c",
   "metadata": {},
   "outputs": [
    {
     "name": "stdout",
     "output_type": "stream",
     "text": [
      "False\n",
      "True\n"
     ]
    }
   ],
   "source": [
    "#  8) endswith()\n",
    "\n",
    "# Examples:\n",
    "\n",
    "str1 = \"Today is my birthday\"\n",
    "\n",
    "print(str1.endswith(\"Today\"))    # false\n",
    "print(str1.endswith(\"ay\"))     # true"
   ]
  },
  {
   "cell_type": "code",
   "execution_count": 6,
   "id": "3cc0abc8",
   "metadata": {},
   "outputs": [
    {
     "name": "stdout",
     "output_type": "stream",
     "text": [
      "True\n",
      "False\n"
     ]
    },
    {
     "ename": "AttributeError",
     "evalue": "'int' object has no attribute 'isnumeric'",
     "output_type": "error",
     "traceback": [
      "\u001b[1;31m---------------------------------------------------------------------------\u001b[0m",
      "\u001b[1;31mAttributeError\u001b[0m                            Traceback (most recent call last)",
      "Cell \u001b[1;32mIn[6], line 11\u001b[0m\n\u001b[0;32m      9\u001b[0m \u001b[38;5;28mprint\u001b[39m(str1\u001b[38;5;241m.\u001b[39misnumeric())    \u001b[38;5;66;03m# True\u001b[39;00m\n\u001b[0;32m     10\u001b[0m \u001b[38;5;28mprint\u001b[39m(str2\u001b[38;5;241m.\u001b[39misnumeric())    \u001b[38;5;66;03m# False\u001b[39;00m\n\u001b[1;32m---> 11\u001b[0m \u001b[38;5;28mprint\u001b[39m(str3\u001b[38;5;241m.\u001b[39misnumeric())\n",
      "\u001b[1;31mAttributeError\u001b[0m: 'int' object has no attribute 'isnumeric'"
     ]
    }
   ],
   "source": [
    "# 9) isnumeric()  - String contain only Numbers\n",
    "\n",
    "# examples:\n",
    "\n",
    "str1 = \"123\"\n",
    "str2 = \"123AB\" \n",
    "str3 = 123\n",
    "\n",
    "print(str1.isnumeric())    # True\n",
    "print(str2.isnumeric())    # False\n",
    "print(str3.isnumeric())    # Attribute Error"
   ]
  },
  {
   "cell_type": "code",
   "execution_count": 8,
   "id": "21b69135",
   "metadata": {},
   "outputs": [
    {
     "name": "stdout",
     "output_type": "stream",
     "text": [
      "False\n",
      "False\n",
      "True\n"
     ]
    }
   ],
   "source": [
    "# 10) isalpha()  - String contain only Alphabets\n",
    "\n",
    "# examples:\n",
    "\n",
    "str1 = \"123\"\n",
    "str2 = \"123AB\" \n",
    "str3 = \"Hari\"\n",
    "\n",
    "print(str1.isalpha())    # False\n",
    "print(str2.isalpha())    # False\n",
    "print(str3.isalpha())    # True"
   ]
  },
  {
   "cell_type": "code",
   "execution_count": 9,
   "id": "8b44e697",
   "metadata": {},
   "outputs": [
    {
     "name": "stdout",
     "output_type": "stream",
     "text": [
      "False\n",
      "True\n",
      "True\n"
     ]
    }
   ],
   "source": [
    "# 11) isalnum()  - String contain both alphabets and Numbers\n",
    "\n",
    "# examples:\n",
    "\n",
    "str1 = \"123@\"\n",
    "str2 = \"123AB\" \n",
    "str3 = \"Hari\"\n",
    "\n",
    "print(str1.isalnum())    # False\n",
    "print(str2.isalnum())    # True\n",
    "print(str3.isalnum())    # True"
   ]
  },
  {
   "cell_type": "code",
   "execution_count": 11,
   "id": "0bb6a3bf",
   "metadata": {},
   "outputs": [
    {
     "name": "stdout",
     "output_type": "stream",
     "text": [
      "8\n",
      "-1\n"
     ]
    }
   ],
   "source": [
    "# 12) find()  --> if element is present , it returns the position of the given element.\n",
    "#                 if element is not present,  it returns '-1'\n",
    "\n",
    "# examples:\n",
    "\n",
    "txt = \"Welcome to Python\"\n",
    "\n",
    "print(txt.find(\"to\"))     # 8\n",
    "print(txt.find(\"too\"))    # -1"
   ]
  },
  {
   "cell_type": "code",
   "execution_count": 12,
   "id": "19fe5b9f",
   "metadata": {},
   "outputs": [
    {
     "name": "stdout",
     "output_type": "stream",
     "text": [
      "8\n"
     ]
    },
    {
     "ename": "ValueError",
     "evalue": "substring not found",
     "output_type": "error",
     "traceback": [
      "\u001b[1;31m---------------------------------------------------------------------------\u001b[0m",
      "\u001b[1;31mValueError\u001b[0m                                Traceback (most recent call last)",
      "Cell \u001b[1;32mIn[12], line 8\u001b[0m\n\u001b[0;32m      5\u001b[0m txt \u001b[38;5;241m=\u001b[39m \u001b[38;5;124m\"\u001b[39m\u001b[38;5;124mWelcome to Python\u001b[39m\u001b[38;5;124m\"\u001b[39m\n\u001b[0;32m      7\u001b[0m \u001b[38;5;28mprint\u001b[39m(txt\u001b[38;5;241m.\u001b[39mindex(\u001b[38;5;124m\"\u001b[39m\u001b[38;5;124mto\u001b[39m\u001b[38;5;124m\"\u001b[39m))\n\u001b[1;32m----> 8\u001b[0m \u001b[38;5;28mprint\u001b[39m(txt\u001b[38;5;241m.\u001b[39mindex(\u001b[38;5;124m\"\u001b[39m\u001b[38;5;124mtoo\u001b[39m\u001b[38;5;124m\"\u001b[39m))\n",
      "\u001b[1;31mValueError\u001b[0m: substring not found"
     ]
    }
   ],
   "source": [
    "# 13) index()  -> it returns position of given substring , if substring not found , it returns\n",
    "#                    \"ValueError\"\n",
    "\n",
    "# examples:\n",
    "\n",
    "txt = \"Welcome to Python\"\n",
    "\n",
    "print(txt.index(\"to\"))    # 8\n",
    "print(txt.index(\"too\"))   # ValueError  # Substring not found"
   ]
  },
  {
   "cell_type": "code",
   "execution_count": 1,
   "id": "55ed5564",
   "metadata": {},
   "outputs": [
    {
     "name": "stdout",
     "output_type": "stream",
     "text": [
      "I Like Cricket\n",
      "\n",
      "\n",
      "I Like to Play Cricket, I Like to Play Volleyball, I Like to Play Handball\n"
     ]
    }
   ],
   "source": [
    "# 14) replace()\n",
    "\n",
    "# Examples:\n",
    "\n",
    "str1 = \"I Love Cricket\"\n",
    "\n",
    "print(str1.replace(\"Love\",\"Like\"))   #  I Like Cricket\n",
    "\n",
    "print(\"\\n\")\n",
    "\n",
    "# replace(Existing : new : number)\n",
    "\n",
    "str1 = \"I Love Cricket, I Love Volleyball, I Love Handball\"\n",
    "print(str1.replace(\"Love\",\"Like to Play\",3))  #  We Love Cricket, We Love Volleyball, We Love Handball\n"
   ]
  },
  {
   "cell_type": "code",
   "execution_count": 8,
   "id": "e4470817",
   "metadata": {},
   "outputs": [
    {
     "name": "stdout",
     "output_type": "stream",
     "text": [
      "Hyundai\n",
      "Hyundai@#/\n",
      "@#$/Hyundai\n"
     ]
    }
   ],
   "source": [
    " # 15) strip() - trimming the substring (special characters : !@#$%&)\n",
    "    \n",
    " #  Examples :\n",
    "\n",
    "word = \"@#$Hyundai@#/\"    # remove all trimming special characters\n",
    "\n",
    "print(word.strip(\"@#$/\"))    # Hyundai\n",
    "\n",
    "# lstrip() -> trim the left side \n",
    "\n",
    "# Examples :\n",
    "\n",
    "word = \"@#$/Hyundai@#/\"    \n",
    "\n",
    "print(word.lstrip(\"@#$/\"))   # Hyundai@#/\n",
    "\n",
    "# rstrip() -> trim the right side \n",
    "\n",
    "# Examples :\n",
    "\n",
    "word = \"@#$/Hyundai@#/\"    \n",
    "\n",
    "print(word.rstrip(\"@#$/\"))   # @#$/Hyundai"
   ]
  },
  {
   "cell_type": "code",
   "execution_count": 12,
   "id": "a27a938d",
   "metadata": {},
   "outputs": [
    {
     "name": "stdout",
     "output_type": "stream",
     "text": [
      "Welcome!!!\n",
      "\n",
      "\n",
      "!!!Welcome\n",
      "\n",
      "\n",
      "***Welcome***\n"
     ]
    }
   ],
   "source": [
    "# 16) ljust(), rjust(), center() \n",
    "\n",
    "#  ljust() -> adding the content in right side which ever u like to add within quotes\n",
    "\n",
    "# Examples :\n",
    "\n",
    "word = \"Welcome\"  # 7 letter\n",
    "\n",
    "print(word.ljust(10,\"!\"))   # 10 letter ,(10-7) so we add 3 elements at last (!!!) : Welcome!!!\n",
    "\n",
    "print(\"\\n\")\n",
    "\n",
    "#  rjust() -> adding the content in left side which ever u like to add within quotes\n",
    "\n",
    "# Examples :\n",
    "\n",
    "word = \"Welcome\"  # 7 letter\n",
    "\n",
    "print(word.rjust(10,\"!\")) # 10 letter ,(10-7) so we add 3 elements at beginning (!!!):  !!!Welcome\n",
    "\n",
    "print(\"\\n\")\n",
    "\n",
    "#  center - > content will present in center ,add characters in both left and right according to \n",
    "#                'SIZE'\n",
    "\n",
    "# Examples :\n",
    "\n",
    "word = \"Welcome\"\n",
    "\n",
    "print(word.center(13, \"*\"))     #  ***Welcome***"
   ]
  },
  {
   "cell_type": "code",
   "execution_count": 22,
   "id": "0c986664",
   "metadata": {},
   "outputs": [
    {
     "name": "stdout",
     "output_type": "stream",
     "text": [
      "['Welcome', 'to', 'Python']\n",
      "['Hello', 'My name is Hari', 'I am 23 years old']\n",
      "['Apple', 'Banana', 'Cherry', 'Grapes', 'Mango']\n",
      "['apple', 'banana#cherry#orange']\n"
     ]
    }
   ],
   "source": [
    "# 17) split() -> splits a String into List\n",
    "#               -> You can specify the seperator(Optional) , default -> any whitespace\n",
    "\n",
    "# syntax:  ***** string.split(seperator,maxsplit)   *******  \n",
    "\n",
    "#   Maxsplit:\n",
    "\n",
    "#   -   'Optional'. \n",
    "#   -   Specifies how many splits to do.\n",
    "#   -   Default value is -1, (which is \"all occurrences)\"\n",
    "\n",
    "\n",
    "# Examples :\n",
    "\n",
    "string = \"Welcome to Python\"\n",
    "\n",
    "print(string.split())  # ['Welcome', 'to', 'Python']\n",
    "\n",
    "# Using  Seperator\n",
    "txt = \"Hello, My name is Hari, I am 23 years old\"\n",
    "\n",
    "x = txt.split(\", \")\n",
    "\n",
    "print(x)     # ['Hello', 'My name is Hari', 'I am 23 years old']\n",
    "\n",
    "\n",
    "# Using(#) as a seperator \n",
    "\n",
    "fruit = (\"Apple#Banana#Cherry#Grapes#Mango\")\n",
    "result = fruit.split(\"#\")\n",
    "print(result)       #  ['Apple', 'Banana', 'Cherry', 'Grapes', 'Mango']\n",
    "\n",
    "#   Split the string into a list with max 2 items:\n",
    "\n",
    "fruit = \"apple#banana#cherry#orange\"\n",
    "\n",
    "# setting the maxsplit parameter to 1, will return a list with 2 elements!\n",
    "result = fruit.split(\"#\", 1)\n",
    "\n",
    "print(result)     #  ['apple', 'banana#cherry#orange']\n"
   ]
  },
  {
   "cell_type": "code",
   "execution_count": 25,
   "id": "45aa961a",
   "metadata": {},
   "outputs": [
    {
     "name": "stdout",
     "output_type": "stream",
     "text": [
      "Hari-Yogesh-Ram\n"
     ]
    }
   ],
   "source": [
    "#  18) join()  ->  takes all items in an iterable\n",
    "#              ->  and joins them into one string.\n",
    "\n",
    "#  Syntax:  *****     string.join(iterable)   *****\n",
    "\n",
    "# Examples :\n",
    "\n",
    "Names = (\"Hari\",\"Yogesh\",\"Ram\")\n",
    "result = \"-\".join(Names)\n",
    "print(result)    #  Hari-Yogesh-Ram\n"
   ]
  }
 ],
 "metadata": {
  "kernelspec": {
   "display_name": "Python 3 (ipykernel)",
   "language": "python",
   "name": "python3"
  },
  "language_info": {
   "codemirror_mode": {
    "name": "ipython",
    "version": 3
   },
   "file_extension": ".py",
   "mimetype": "text/x-python",
   "name": "python",
   "nbconvert_exporter": "python",
   "pygments_lexer": "ipython3",
   "version": "3.12.1"
  }
 },
 "nbformat": 4,
 "nbformat_minor": 5
}
