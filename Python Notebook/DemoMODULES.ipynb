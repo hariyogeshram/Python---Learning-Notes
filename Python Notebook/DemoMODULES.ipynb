{
 "cells": [
  {
   "cell_type": "markdown",
   "id": "843b8cf5",
   "metadata": {},
   "source": [
    "#                             MODULES\n",
    "\n",
    "     -  Consider a module to be the same as a 'code library'.\n",
    "     -  A file containing a 'set of functions'. \n",
    "     -  you want to include in your application.\n",
    "     \n",
    "     \n",
    "##     Create a Module :\n",
    "\n",
    "     -  To create a module \n",
    "     -  just save the code \n",
    "     -  you want in a file with the file extension '.py'\n",
    "     \n",
    "\n",
    "##    Use a Module :\n",
    "\n",
    "     - By Using 'import' statement\n",
    "     \n",
    "     - syntax =>  import module_name\n",
    "     \n",
    "     - example : import mymodule\n",
    "     \n",
    "     \n",
    "##    Re-naming a Module :\n",
    "\n",
    "     - Create an 'alias' for 'mymodule' called 'mx'\n",
    "     \n",
    "     - Examples : import mymodule as mx"
   ]
  },
  {
   "cell_type": "code",
   "execution_count": null,
   "id": "76fc65aa",
   "metadata": {},
   "outputs": [],
   "source": [
    "# code\n",
    "\n",
    "# create a Module :\n",
    "\n",
    "# add function\n",
    "def add(a,b):\n",
    "    \n",
    "    print(\"Add = \",a+b)\n",
    "    \n",
    "# subtract function\n",
    "def subtract(a,b):\n",
    "    \n",
    "    print(\"Subtract = \",a-b)\n",
    "    \n",
    "# Multiply function\n",
    "def Multiply(a,b):\n",
    "    \n",
    "    print(\"Multiply = \",a*b)\n",
    "    \n",
    "# Division function\n",
    "def divide(a,b):\n",
    "    \n",
    "    print(\"Division = \",a/b)"
   ]
  }
 ],
 "metadata": {
  "kernelspec": {
   "display_name": "Python 3 (ipykernel)",
   "language": "python",
   "name": "python3"
  },
  "language_info": {
   "codemirror_mode": {
    "name": "ipython",
    "version": 3
   },
   "file_extension": ".py",
   "mimetype": "text/x-python",
   "name": "python",
   "nbconvert_exporter": "python",
   "pygments_lexer": "ipython3",
   "version": "3.11.5"
  }
 },
 "nbformat": 4,
 "nbformat_minor": 5
}
