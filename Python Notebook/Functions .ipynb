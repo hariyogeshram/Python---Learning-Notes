{
 "cells": [
  {
   "cell_type": "markdown",
   "id": "b59915b6",
   "metadata": {},
   "source": [
    "#                               FUNCTIONS\n",
    "\n",
    "    \n",
    "     - Block of codes\n",
    "     - which only runs \"when it is called\"\n",
    "     - You can pass data known as \"Arguments\" or \"Parameters\"\n",
    "     - Function can return 'data' as a result\n",
    "     \n",
    "     - Creating a Function (Using 'def' Keyword).\n",
    "     \n",
    "     - Main Advantages : (CODE RE-USABILITY)"
   ]
  },
  {
   "cell_type": "markdown",
   "id": "74c87437",
   "metadata": {},
   "source": [
    "## Syntax : (Function)\n",
    "\n",
    "###   Function definition\n",
    "\n",
    "                def function_Name(parameters):\n",
    "                         # block of code\n",
    "\n",
    "###   Function call\n",
    "                 \n",
    "                 funtion_Name(arguments)\n",
    "                 \n",
    "                 \n",
    "###  'Arguments' or 'Parameters' :\n",
    "\n",
    "          -  Information that passed into a function.\n",
    "          \n",
    "- From a function's perspective:\n",
    " \n",
    "   *  A 'parameter' is the 'variable' listed inside the parentheses in the 'function definition'.\n",
    "\n",
    "   *  An 'argument' is the 'value' that is sent to the 'function' (when it is called)."
   ]
  },
  {
   "cell_type": "code",
   "execution_count": 1,
   "id": "3d76c73d",
   "metadata": {},
   "outputs": [
    {
     "name": "stdout",
     "output_type": "stream",
     "text": [
      "Hi. Welcome to Learn Python\n",
      "Learn..Practice..Implement\n"
     ]
    }
   ],
   "source": [
    "# Sample code   using (Function)\n",
    "\n",
    "# function_name : greet\n",
    "\n",
    "# function declaration\n",
    "\n",
    "def greet():\n",
    "    print(\"Hi. Welcome to Learn Python\")\n",
    "    print(\"Learn..Practice..Implement\")\n",
    "    \n",
    "# function call\n",
    "\n",
    "greet()"
   ]
  },
  {
   "cell_type": "code",
   "execution_count": 6,
   "id": "800983e5",
   "metadata": {},
   "outputs": [
    {
     "name": "stdout",
     "output_type": "stream",
     "text": [
      "The sum of 10 + 20 = 30\n",
      "The sum of 35 + 45 = 80\n"
     ]
    }
   ],
   "source": [
    "# sample function code (using parameters)\n",
    "\n",
    "# function_name : add\n",
    "\n",
    "# function declaration    # parameters -> 2 variables = a and b\n",
    "\n",
    "def add(a,b):\n",
    "    c = a + b\n",
    "    print(f\"The sum of {a} + {b} = {c}\")\n",
    "\n",
    "# function call\n",
    "# I pass 2 values 10 ,20 as 'Arguments'\n",
    "add(10,20)\n",
    "add(35,45)"
   ]
  },
  {
   "cell_type": "code",
   "execution_count": 3,
   "id": "79131e3f",
   "metadata": {},
   "outputs": [
    {
     "name": "stdout",
     "output_type": "stream",
     "text": [
      "Hi Hari. Welcome to our Institution\n",
      "Hi Gopi. Welcome to our Institution\n",
      "Hi Raghu. Welcome to our Institution\n"
     ]
    }
   ],
   "source": [
    "# Examples :   \n",
    "\n",
    "# Function_name : welcome\n",
    "# parameter : name\n",
    "\n",
    "# function declaration\n",
    "\n",
    "def welcome(name):\n",
    "    print(f\"Hi {name}. Welcome to our Institution\")\n",
    "    \n",
    "# function call\n",
    "\n",
    "welcome(\"Hari\")\n",
    "welcome(\"Gopi\")\n",
    "welcome(\"Raghu\")"
   ]
  },
  {
   "cell_type": "code",
   "execution_count": 7,
   "id": "23a677db",
   "metadata": {},
   "outputs": [
    {
     "name": "stdout",
     "output_type": "stream",
     "text": [
      "The Addition of 10 + 20 = 30\n",
      "The Subtraction of 10 - 5 = 5\n"
     ]
    }
   ],
   "source": [
    "# Declaring one or more functions\n",
    "\n",
    "# function name : add\n",
    "\n",
    "def add(a,b):\n",
    "    c = a + b\n",
    "    print(f\"The Addition of {a} + {b} = {c}\")\n",
    "\n",
    "# function call\n",
    "# I pass 2 values 10 ,20 as 'Arguments'\n",
    "add(10,20)\n",
    "\n",
    "# function name : subtract\n",
    "\n",
    "def subtract(a,b):\n",
    "    c = a - b\n",
    "    print(f\"The Subtraction of {a} - {b} = {c}\")\n",
    "\n",
    "# function call\n",
    "# I pass 2 values 10 ,20 as 'Arguments'\n",
    "subtract(10,5)"
   ]
  },
  {
   "cell_type": "code",
   "execution_count": 8,
   "id": "46e55de9",
   "metadata": {},
   "outputs": [
    {
     "name": "stdout",
     "output_type": "stream",
     "text": [
      "The Addition of 10 + 20 = 30\n",
      "The Addition of 25 + 10 = 35\n"
     ]
    }
   ],
   "source": [
    "# Direct Assignment in Parameters\n",
    "\n",
    "# Examples : \n",
    "\n",
    "# function name : add\n",
    "\n",
    "def add(a,b=10):\n",
    "    c = a + b\n",
    "    print(f\"The Addition of {a} + {b} = {c}\")\n",
    "\n",
    "# function call\n",
    "# I pass 2 values 10 ,20 as 'Arguments'\n",
    "add(10,20)\n",
    "add(25)"
   ]
  },
  {
   "cell_type": "code",
   "execution_count": 13,
   "id": "7361d7cd",
   "metadata": {},
   "outputs": [
    {
     "name": "stdout",
     "output_type": "stream",
     "text": [
      "The Added values is 30\n"
     ]
    }
   ],
   "source": [
    "#  Functions with 'return'\n",
    "\n",
    "# function name : add\n",
    "\n",
    "def add(a,b):\n",
    "    c = a + b\n",
    "    return c\n",
    "\n",
    "# function call\n",
    "# I pass 2 values 10 ,20 as 'Arguments'\n",
    "result = add(10,20)\n",
    "print(\"The Added values is\",result)"
   ]
  }
 ],
 "metadata": {
  "kernelspec": {
   "display_name": "Python 3 (ipykernel)",
   "language": "python",
   "name": "python3"
  },
  "language_info": {
   "codemirror_mode": {
    "name": "ipython",
    "version": 3
   },
   "file_extension": ".py",
   "mimetype": "text/x-python",
   "name": "python",
   "nbconvert_exporter": "python",
   "pygments_lexer": "ipython3",
   "version": "3.11.5"
  }
 },
 "nbformat": 4,
 "nbformat_minor": 5
}
