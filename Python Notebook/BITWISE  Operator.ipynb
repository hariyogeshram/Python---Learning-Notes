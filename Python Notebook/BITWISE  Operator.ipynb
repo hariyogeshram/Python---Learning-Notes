{
 "cells": [
  {
   "cell_type": "markdown",
   "id": "f447955e",
   "metadata": {},
   "source": [
    "#                      BITWISE  Operator\n",
    "\n",
    "       \n",
    "       -  used to compare (binary) numbers:"
   ]
  },
  {
   "cell_type": "code",
   "execution_count": 2,
   "id": "14450fc7",
   "metadata": {},
   "outputs": [
    {
     "name": "stdout",
     "output_type": "stream",
     "text": [
      "4\n",
      "0b100\n"
     ]
    }
   ],
   "source": [
    "# 1) BITWISE -  AND (&)\n",
    "\n",
    "#        -> Result bit 1,\n",
    "#        -> if both operand bits are 1;\n",
    "#        -> otherwise results bit 0.\n",
    "\n",
    "# Truth table  (0-> false , 1-> True)\n",
    "\n",
    "# 0  0  = 0\n",
    "# 0  1  = 0\n",
    "# 1  0  = 0\n",
    "# 1  1  = 1\n",
    "\n",
    "\n",
    "# EXAMPLES :\n",
    "\n",
    "a = 12      # 00001100\n",
    "b = 20      # 00010100\n",
    "\n",
    "c = (a & b) # 00000100  \n",
    "print(c)    # 4\n",
    "\n",
    "print(bin(c))   # 0b'100"
   ]
  },
  {
   "cell_type": "code",
   "execution_count": 3,
   "id": "97b2f72b",
   "metadata": {},
   "outputs": [
    {
     "name": "stdout",
     "output_type": "stream",
     "text": [
      "28\n",
      "0b11100\n"
     ]
    }
   ],
   "source": [
    "# 1) BITWISE -  OR (|)\n",
    "\n",
    "#        -> Result bit 1,\n",
    "#        ->if one of the operand bits are 1;\n",
    "#        ->otherwise results bit 0.\n",
    "\n",
    "# Truth table  (0-> false , 1-> True)\n",
    "\n",
    "# 0  0  = 0\n",
    "# 0  1  = 1\n",
    "# 1  0  = 1\n",
    "# 1  1  = 1\n",
    "\n",
    "# EXAMPLES :\n",
    "\n",
    "a = 12      # 00001100\n",
    "b = 20      # 00010100\n",
    "\n",
    "c = (a | b) # 00011100  \n",
    "print(c)    # 28\n",
    "\n",
    "print(bin(c))   # 0b'11100"
   ]
  },
  {
   "cell_type": "code",
   "execution_count": 4,
   "id": "4dad5e7c",
   "metadata": {},
   "outputs": [
    {
     "name": "stdout",
     "output_type": "stream",
     "text": [
      "24\n",
      "0b11000\n"
     ]
    }
   ],
   "source": [
    "# 1) BITWISE -  XOR (^)\n",
    "\n",
    "#        -> Result bit 1,\n",
    "#        ->if one of the operand bits are 1 , but not both\n",
    "#        ->otherwise results bit 0.\n",
    "\n",
    "# Truth table  (0-> false , 1-> True)\n",
    "\n",
    "# 0  0  = 0\n",
    "# 0  1  = 1\n",
    "# 1  0  = 1\n",
    "# 1  1  = 0\n",
    "\n",
    "# EXAMPLES :\n",
    "\n",
    "a = 12      # 00001100\n",
    "b = 20      # 00010100\n",
    "\n",
    "c = (a ^ b) # 00011000  \n",
    "print(c)    # 24\n",
    "\n",
    "print(bin(c))   # 0b'11000"
   ]
  },
  {
   "cell_type": "code",
   "execution_count": 9,
   "id": "6b518ecf",
   "metadata": {},
   "outputs": [
    {
     "name": "stdout",
     "output_type": "stream",
     "text": [
      "-13\n",
      "-0b1101\n",
      "-9\n"
     ]
    }
   ],
   "source": [
    "# BITWISE NOT (~)  -> Inverts all the bits  , 0r  1's complement(flipping the bits)\n",
    "#                  ->if we get  negative number(to find 2's complement = 1's complement + 1)\n",
    "\n",
    "#  Truth table (0 - > False , 1 -> True)\n",
    "\n",
    "#  0  =  1\n",
    "#  1  =  0   \n",
    "\n",
    "a = 12         #00001100\n",
    "print(~a)   # -13\n",
    "print(bin(~a))\n",
    "\n",
    "# 'Hint'      : ~ X = - X - 1\n",
    "    \n",
    "# Examples   : ~ 8 = - 8 - 1\n",
    "# Answers    : ~ 8 = \" -9 \"\n",
    "\n",
    "# Examples 2:\n",
    "\n",
    "x = 8\n",
    "print(~x)    # -9"
   ]
  },
  {
   "cell_type": "code",
   "execution_count": 10,
   "id": "d1b8ba31",
   "metadata": {},
   "outputs": [
    {
     "name": "stdout",
     "output_type": "stream",
     "text": [
      "40\n"
     ]
    }
   ],
   "source": [
    "#  BITWISE LEFT SHIFT OPERATOR (<<)\n",
    "\n",
    "a = 10\n",
    "print(a << 2)    # 40\n"
   ]
  },
  {
   "cell_type": "code",
   "execution_count": 13,
   "id": "992e85fc",
   "metadata": {},
   "outputs": [
    {
     "name": "stdout",
     "output_type": "stream",
     "text": [
      "2\n"
     ]
    }
   ],
   "source": [
    "#  BITWISE RIGHT SHIFT OPERATOR (<<)\n",
    "\n",
    "a = 10\n",
    "print(a >> 2)"
   ]
  }
 ],
 "metadata": {
  "kernelspec": {
   "display_name": "Python 3 (ipykernel)",
   "language": "python",
   "name": "python3"
  },
  "language_info": {
   "codemirror_mode": {
    "name": "ipython",
    "version": 3
   },
   "file_extension": ".py",
   "mimetype": "text/x-python",
   "name": "python",
   "nbconvert_exporter": "python",
   "pygments_lexer": "ipython3",
   "version": "3.11.5"
  }
 },
 "nbformat": 4,
 "nbformat_minor": 5
}
