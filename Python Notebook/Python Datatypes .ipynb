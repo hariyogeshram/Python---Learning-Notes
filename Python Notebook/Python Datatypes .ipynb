{
 "cells": [
  {
   "cell_type": "markdown",
   "id": "2a569f37",
   "metadata": {},
   "source": [
    " #                                    DataTypes\n",
    " \n",
    "            \n",
    "            -   Classification (or) Categorization of 'data items'.\n",
    "            -   It represents the kind of value.\n",
    "            -   that tells 'what operations can be performed on a particular data'."
   ]
  },
  {
   "cell_type": "markdown",
   "id": "241a686b",
   "metadata": {},
   "source": [
    "###   Different Categories of Datatypes :\n",
    "\n",
    " 1) Numeric  -  ( int , float , complex )\n",
    " \n",
    " 2) Sequence type - ( String , List , Tuple )\n",
    " \n",
    " 3) Boolean\n",
    " \n",
    " 4) Set\n",
    " \n",
    " 5) Dictionary\n",
    "      "
   ]
  },
  {
   "cell_type": "code",
   "execution_count": 1,
   "id": "e68dfc08",
   "metadata": {},
   "outputs": [
    {
     "name": "stdout",
     "output_type": "stream",
     "text": [
      "Type of a :  <class 'int'>\n"
     ]
    }
   ],
   "source": [
    "# Numeric Data Types :\n",
    "\n",
    "# 1. Integers\n",
    "    \n",
    "   #   -   Positive or Negative Whole Number\n",
    "   #   -   (Without decimals / fractions)\n",
    "        \n",
    "# Examples : \n",
    "\n",
    "a = 15\n",
    "\n",
    "print(\"Type of a : \", type(a))"
   ]
  },
  {
   "cell_type": "code",
   "execution_count": 2,
   "id": "d81a03c0",
   "metadata": {},
   "outputs": [
    {
     "name": "stdout",
     "output_type": "stream",
     "text": [
      "Type of f :  <class 'float'>\n",
      "\n",
      "\n",
      "230300.0\n",
      "<class 'float'>\n"
     ]
    }
   ],
   "source": [
    "# 2. Float\n",
    "    \n",
    "   #   -    Decimal Number\n",
    "   #   -    the character (e or E) followed by a positive or negative integer \n",
    "   #   -    may be appended to specify scientific notation.\n",
    "        \n",
    "# Examples : \n",
    "\n",
    "f = 15.08\n",
    "\n",
    "print(\"Type of f : \", type(f))\n",
    "\n",
    "print('\\n')\n",
    "\n",
    "b = 23.03e4\n",
    "print(b)\n",
    "print(type(b))\n"
   ]
  },
  {
   "cell_type": "code",
   "execution_count": 3,
   "id": "58eb2855",
   "metadata": {},
   "outputs": [
    {
     "name": "stdout",
     "output_type": "stream",
     "text": [
      "<class 'complex'>\n"
     ]
    }
   ],
   "source": [
    "# 3 . Complex number\n",
    "\n",
    "   #  -  It is specified as (real part) + (imaginary part)j. \n",
    "   #  -  For example:   – 2+3j\n",
    "\n",
    "# Examples :\n",
    "\n",
    "c = a + 4j \n",
    "\n",
    "print(type(c))"
   ]
  },
  {
   "cell_type": "code",
   "execution_count": 4,
   "id": "08e80a3e",
   "metadata": {},
   "outputs": [
    {
     "name": "stdout",
     "output_type": "stream",
     "text": [
      "True\n",
      "<class 'bool'>\n",
      "False\n",
      "<class 'bool'>\n"
     ]
    }
   ],
   "source": [
    "# 'Boolean' Datatype\n",
    "\n",
    "   #  It returns True or False\n",
    "   #  <class ‘bool’>\n",
    "\n",
    "# Examples :\n",
    "\n",
    "a = True\n",
    "print(a)\n",
    "print(type(a))\n",
    "\n",
    "b = False\n",
    "print(b)\n",
    "print(type(b))"
   ]
  },
  {
   "cell_type": "code",
   "execution_count": null,
   "id": "abcf6183",
   "metadata": {},
   "outputs": [],
   "source": []
  }
 ],
 "metadata": {
  "kernelspec": {
   "display_name": "Python 3 (ipykernel)",
   "language": "python",
   "name": "python3"
  },
  "language_info": {
   "codemirror_mode": {
    "name": "ipython",
    "version": 3
   },
   "file_extension": ".py",
   "mimetype": "text/x-python",
   "name": "python",
   "nbconvert_exporter": "python",
   "pygments_lexer": "ipython3",
   "version": "3.12.1"
  }
 },
 "nbformat": 4,
 "nbformat_minor": 5
}
