{
 "cells": [
  {
   "cell_type": "markdown",
   "id": "091b1de2",
   "metadata": {},
   "source": [
    " #                ASSIGNMENT OPERATOR\n",
    " \n",
    " \n",
    "        - Used to assign 'values' to 'variables'\n",
    "        \n",
    "        \n",
    "### Types of  Assignment Operators : "
   ]
  },
  {
   "cell_type": "code",
   "execution_count": 1,
   "id": "82882cfb",
   "metadata": {},
   "outputs": [
    {
     "name": "stdout",
     "output_type": "stream",
     "text": [
      "10 20\n",
      "20\n",
      "20 20\n",
      "40\n",
      "40 20\n"
     ]
    }
   ],
   "source": [
    "# 1) equals (=)\n",
    "\n",
    "a = 10\n",
    "b = 20\n",
    "print(a,b) # 10 20\n",
    "\n",
    "a=b\n",
    "print(a) # 20\n",
    "print(a,b) # 20 20\n",
    "\n",
    "a=a+b \n",
    "print(a)  # 40\n",
    "print(a,b)  # 40 20"
   ]
  },
  {
   "cell_type": "code",
   "execution_count": 2,
   "id": "bc16462f",
   "metadata": {},
   "outputs": [
    {
     "name": "stdout",
     "output_type": "stream",
     "text": [
      "30\n"
     ]
    }
   ],
   "source": [
    "# 2) add and assign (+=)\n",
    "\n",
    "a = 10\n",
    "b = 20 \n",
    "\n",
    "a += b  # a = a+b\n",
    "print(a)  # 30"
   ]
  },
  {
   "cell_type": "code",
   "execution_count": 3,
   "id": "e2f93352",
   "metadata": {},
   "outputs": [
    {
     "name": "stdout",
     "output_type": "stream",
     "text": [
      "10\n"
     ]
    }
   ],
   "source": [
    "# 3) subtract and assign (-=)\n",
    "\n",
    "a = 10\n",
    "b = 20 \n",
    "\n",
    "b -= a  # b = b-a\n",
    "print(b)   # 10"
   ]
  },
  {
   "cell_type": "code",
   "execution_count": 4,
   "id": "615bd860",
   "metadata": {},
   "outputs": [
    {
     "name": "stdout",
     "output_type": "stream",
     "text": [
      "200\n"
     ]
    }
   ],
   "source": [
    "# 4) Multiply and assign (*=)\n",
    "\n",
    "a = 10\n",
    "b = 20 \n",
    "\n",
    "a *= b  # a = a*b\n",
    "print(a)  # 200"
   ]
  },
  {
   "cell_type": "code",
   "execution_count": 5,
   "id": "0a9d2171",
   "metadata": {},
   "outputs": [
    {
     "name": "stdout",
     "output_type": "stream",
     "text": [
      "2.0\n"
     ]
    }
   ],
   "source": [
    "# 5) Divide and assign (/=)\n",
    "\n",
    "a = 40\n",
    "b = 20 \n",
    "\n",
    "a /= b  # a = a/b\n",
    "print(a) # 2.0  "
   ]
  },
  {
   "cell_type": "code",
   "execution_count": 6,
   "id": "f3bd3ccb",
   "metadata": {},
   "outputs": [
    {
     "name": "stdout",
     "output_type": "stream",
     "text": [
      "0\n"
     ]
    }
   ],
   "source": [
    "# 6) Modulo and assign (%=)\n",
    "\n",
    "a = 40\n",
    "b = 20 \n",
    "\n",
    "a %= b  # a = a%b\n",
    "print(a)  # 0"
   ]
  },
  {
   "cell_type": "code",
   "execution_count": 7,
   "id": "5ae68a60",
   "metadata": {},
   "outputs": [
    {
     "name": "stdout",
     "output_type": "stream",
     "text": [
      "2\n"
     ]
    }
   ],
   "source": [
    "# 7) floor division and assign (+=)\n",
    "\n",
    "a = 40\n",
    "b = 20 \n",
    "\n",
    "a //= b  # a = a//b\n",
    "print(a)  # 2"
   ]
  },
  {
   "cell_type": "code",
   "execution_count": 10,
   "id": "094836a8",
   "metadata": {},
   "outputs": [
    {
     "name": "stdout",
     "output_type": "stream",
     "text": [
      "1000\n"
     ]
    }
   ],
   "source": [
    "# 8) exponential and assign (**=)\n",
    "\n",
    "a = 10\n",
    "b = 3\n",
    "\n",
    "a **= b  # a = 10**3\n",
    "print(a) # 1000"
   ]
  }
 ],
 "metadata": {
  "kernelspec": {
   "display_name": "Python 3 (ipykernel)",
   "language": "python",
   "name": "python3"
  },
  "language_info": {
   "codemirror_mode": {
    "name": "ipython",
    "version": 3
   },
   "file_extension": ".py",
   "mimetype": "text/x-python",
   "name": "python",
   "nbconvert_exporter": "python",
   "pygments_lexer": "ipython3",
   "version": "3.11.5"
  }
 },
 "nbformat": 4,
 "nbformat_minor": 5
}
