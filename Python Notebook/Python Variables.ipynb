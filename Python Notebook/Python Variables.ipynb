{
 "cells": [
  {
   "cell_type": "markdown",
   "id": "e6bc6a9a",
   "metadata": {},
   "source": [
    "#                          PYTHON VARIABLES\n"
   ]
  },
  {
   "cell_type": "code",
   "execution_count": null,
   "id": "d05dd754",
   "metadata": {},
   "outputs": [],
   "source": [
    "##  What is a Variable ?\n",
    "\n",
    "    -   Variable is a Container(\"Reserved Memory Location\") to store values \n",
    "    -   Retrieves a value whenever needed."
   ]
  },
  {
   "cell_type": "code",
   "execution_count": 1,
   "id": "52b14437",
   "metadata": {},
   "outputs": [
    {
     "name": "stdout",
     "output_type": "stream",
     "text": [
      "12\n"
     ]
    }
   ],
   "source": [
    "## Examples :\n",
    "\n",
    "a = 7         # store the value 7 in 'a'\n",
    "b = 5         # store the value 5 in 'b'\n",
    "c = a + b     # Perform additions a and b and store in to 'c'\n",
    "print(c)      # get the result of 'c'"
   ]
  },
  {
   "cell_type": "code",
   "execution_count": 5,
   "id": "a5c19b97",
   "metadata": {},
   "outputs": [
    {
     "name": "stdout",
     "output_type": "stream",
     "text": [
      "23\n",
      "Hari\n",
      "True\n"
     ]
    }
   ],
   "source": [
    "### Rules for assigning a Variable :\n",
    "\n",
    "# 1. Should start with \"Alphabet(A-Z or a-z)\" or \"Underscore(_)\".\n",
    "    \n",
    "# examples:  \n",
    "\n",
    "# lowercase\n",
    "age = 23\n",
    "print(age)        # 23\n",
    "\n",
    "#Uppercase\n",
    "Name = \"Hari\"\n",
    "print(Name)      # Hari\n",
    "\n",
    "# Underscore( _ )\n",
    "_IsEligible = True\n",
    "print(_IsEligible)    # True"
   ]
  },
  {
   "cell_type": "code",
   "execution_count": 8,
   "id": "5ab8a94a",
   "metadata": {},
   "outputs": [
    {
     "ename": "SyntaxError",
     "evalue": "invalid decimal literal (2444638542.py, line 5)",
     "output_type": "error",
     "traceback": [
      "\u001b[1;36m  Cell \u001b[1;32mIn[8], line 5\u001b[1;36m\u001b[0m\n\u001b[1;33m    2age = 13\u001b[0m\n\u001b[1;37m    ^\u001b[0m\n\u001b[1;31mSyntaxError\u001b[0m\u001b[1;31m:\u001b[0m invalid decimal literal\n"
     ]
    }
   ],
   "source": [
    "# 2. Should not start with \"Numbers(0-9)\"\n",
    "\n",
    "# Examples: \n",
    "\n",
    "2age = 13\n",
    "print(2age)\n",
    "\n",
    "# it gives error : \n",
    "\n",
    "# Cell In[6], line 5\n",
    "#     2age = 13\n",
    "#     ^\n",
    "# SyntaxError: invalid decimal literal"
   ]
  },
  {
   "cell_type": "code",
   "execution_count": 9,
   "id": "178a2235",
   "metadata": {},
   "outputs": [
    {
     "name": "stdout",
     "output_type": "stream",
     "text": [
      "Yogesh\n"
     ]
    }
   ],
   "source": [
    "# 3. Variables should be \" AlphaNumeric \"\n",
    "\n",
    "# Examples :\n",
    "\n",
    "name_2 = \"Yogesh\"\n",
    "print(name_2)           # Yogesh"
   ]
  },
  {
   "cell_type": "code",
   "execution_count": 11,
   "id": "fcb3485e",
   "metadata": {},
   "outputs": [
    {
     "ename": "SyntaxError",
     "evalue": "invalid syntax (491817153.py, line 5)",
     "output_type": "error",
     "traceback": [
      "\u001b[1;36m  Cell \u001b[1;32mIn[11], line 5\u001b[1;36m\u001b[0m\n\u001b[1;33m    name@ = \"Ram\"\u001b[0m\n\u001b[1;37m          ^\u001b[0m\n\u001b[1;31mSyntaxError\u001b[0m\u001b[1;31m:\u001b[0m invalid syntax\n"
     ]
    }
   ],
   "source": [
    "# 4. Variables should not contain special characters ( @, #, $, %, &, etc....)\n",
    "\n",
    "# examples :\n",
    "\n",
    "name@ = \"Ram\"\n",
    "print(name@)\n",
    "\n",
    "# it gives error :"
   ]
  },
  {
   "cell_type": "code",
   "execution_count": 13,
   "id": "2a61362e",
   "metadata": {},
   "outputs": [
    {
     "ename": "SyntaxError",
     "evalue": "invalid syntax (2552706399.py, line 5)",
     "output_type": "error",
     "traceback": [
      "\u001b[1;36m  Cell \u001b[1;32mIn[13], line 5\u001b[1;36m\u001b[0m\n\u001b[1;33m    elif = \"Anything\"\u001b[0m\n\u001b[1;37m    ^\u001b[0m\n\u001b[1;31mSyntaxError\u001b[0m\u001b[1;31m:\u001b[0m invalid syntax\n"
     ]
    }
   ],
   "source": [
    "# 5 . Variables should not used \"reserved Keywords\"\n",
    "\n",
    "#  Examples :\n",
    "\n",
    "elif = \"Anything\"\n",
    "print(elif)\n",
    "\n",
    "# it gives error"
   ]
  },
  {
   "cell_type": "code",
   "execution_count": 14,
   "id": "aa495b51",
   "metadata": {},
   "outputs": [
    {
     "name": "stdout",
     "output_type": "stream",
     "text": [
      "10\n",
      "15\n"
     ]
    }
   ],
   "source": [
    "# 6. Variables should be \" Case - Sensitive\"\n",
    "\n",
    "# Examples :\n",
    "\n",
    "a = 10\n",
    "print(a)\n",
    "\n",
    "A = 15\n",
    "print(A)"
   ]
  },
  {
   "cell_type": "code",
   "execution_count": null,
   "id": "4a2f67c3",
   "metadata": {},
   "outputs": [],
   "source": []
  }
 ],
 "metadata": {
  "kernelspec": {
   "display_name": "Python 3 (ipykernel)",
   "language": "python",
   "name": "python3"
  },
  "language_info": {
   "codemirror_mode": {
    "name": "ipython",
    "version": 3
   },
   "file_extension": ".py",
   "mimetype": "text/x-python",
   "name": "python",
   "nbconvert_exporter": "python",
   "pygments_lexer": "ipython3",
   "version": "3.11.5"
  }
 },
 "nbformat": 4,
 "nbformat_minor": 5
}
